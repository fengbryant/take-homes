{
 "cells": [
  {
   "cell_type": "markdown",
   "id": "5ccb7c59-cdc3-460c-a104-313ceaea7b89",
   "metadata": {},
   "source": [
    "Explore studies by sponsor\n",
    "\n",
    "Goal: Explore avenues for sales/marketing/product on prospective sponsors/revenue\n",
    "\n",
    "Visualizations and analysis "
   ]
  },
  {
   "cell_type": "markdown",
   "id": "68ad6c1d-676d-457f-897d-83b3a8faf94d",
   "metadata": {},
   "source": [
    "# Imports"
   ]
  },
  {
   "cell_type": "code",
   "execution_count": 465,
   "id": "c6cadc46-4cb0-4360-91ea-6fda42d76d70",
   "metadata": {},
   "outputs": [],
   "source": [
    "from psycopg2 import connect\n",
    "import pandas as pd\n",
    "import numpy as np\n",
    "import os\n",
    "import plotly.express as px\n",
    "import plotly.graph_objects as go\n",
    "from plotly.subplots import make_subplots\n",
    "from math import ceil"
   ]
  },
  {
   "cell_type": "code",
   "execution_count": 2,
   "id": "fe930d03-ef3a-4ee3-ae50-990ab9c20c96",
   "metadata": {
    "tags": []
   },
   "outputs": [],
   "source": [
    " # Hostname:  aact-db.ctti-clinicaltrials.org\n",
    " #      Port: 5432\n",
    " #      Database name:  aact\n",
    " #      User name:  bryantfeng\n",
    " #      Password:  'your AACT password' "
   ]
  },
  {
   "cell_type": "markdown",
   "id": "598dfef9-bb47-4424-aa23-80f430fd8e6d",
   "metadata": {
    "tags": []
   },
   "source": [
    "# Connect to db"
   ]
  },
  {
   "cell_type": "code",
   "execution_count": 548,
   "id": "e0679075-daf9-4ead-87a1-c0e181465e6f",
   "metadata": {},
   "outputs": [],
   "source": [
    "connection = connect(database=\"aact\",\n",
    "                             host=\"aact-db.ctti-clinicaltrials.org\",\n",
    "                             port=5432,\n",
    "                             user = 'bryantfeng',\n",
    "                             password = 'idYdD79nNtzzjeY')\n"
   ]
  },
  {
   "cell_type": "markdown",
   "id": "b3db1c43-816e-4f24-b0cd-886355365bd6",
   "metadata": {},
   "source": [
    "# Explore Data Dictionaries"
   ]
  },
  {
   "cell_type": "code",
   "execution_count": 9,
   "id": "15379c0a-dd13-4953-83a0-8da63f9caad3",
   "metadata": {},
   "outputs": [],
   "source": [
    "tables = pd.read_excel('aact_tables.xlsx')"
   ]
  },
  {
   "cell_type": "code",
   "execution_count": 10,
   "id": "6efd416e-d777-4494-94c6-bcec4bdcff34",
   "metadata": {},
   "outputs": [
    {
     "data": {
      "text/html": [
       "<div>\n",
       "<style scoped>\n",
       "    .dataframe tbody tr th:only-of-type {\n",
       "        vertical-align: middle;\n",
       "    }\n",
       "\n",
       "    .dataframe tbody tr th {\n",
       "        vertical-align: top;\n",
       "    }\n",
       "\n",
       "    .dataframe thead th {\n",
       "        text-align: right;\n",
       "    }\n",
       "</style>\n",
       "<table border=\"1\" class=\"dataframe\">\n",
       "  <thead>\n",
       "    <tr style=\"text-align: right;\">\n",
       "      <th></th>\n",
       "      <th>db schema</th>\n",
       "      <th>table</th>\n",
       "      <th>description</th>\n",
       "      <th>rows per study</th>\n",
       "      <th>domain</th>\n",
       "      <th>nlm doc</th>\n",
       "    </tr>\n",
       "  </thead>\n",
       "  <tbody>\n",
       "    <tr>\n",
       "      <th>41</th>\n",
       "      <td>ctgov</td>\n",
       "      <td>sponsors</td>\n",
       "      <td>Name of study sponsors and collaborators. The ...</td>\n",
       "      <td>many</td>\n",
       "      <td>Protocol</td>\n",
       "      <td>https://prsinfo.clinicaltrials.gov/definitions...</td>\n",
       "    </tr>\n",
       "    <tr>\n",
       "      <th>42</th>\n",
       "      <td>ctgov</td>\n",
       "      <td>studies</td>\n",
       "      <td>Basic info about study, including study title,...</td>\n",
       "      <td>one</td>\n",
       "      <td>Protocol &amp; Results</td>\n",
       "      <td>NaN</td>\n",
       "    </tr>\n",
       "    <tr>\n",
       "      <th>46</th>\n",
       "      <td>proj_tag_nephrology</td>\n",
       "      <td>analyzed_studies</td>\n",
       "      <td>Information identifying the studies used to su...</td>\n",
       "      <td>NaN</td>\n",
       "      <td>Project</td>\n",
       "      <td>NaN</td>\n",
       "    </tr>\n",
       "    <tr>\n",
       "      <th>49</th>\n",
       "      <td>proj_results_reporting</td>\n",
       "      <td>analyzed_studies</td>\n",
       "      <td>Trials that were determined likely subject to ...</td>\n",
       "      <td>NaN</td>\n",
       "      <td>Project</td>\n",
       "      <td>NaN</td>\n",
       "    </tr>\n",
       "    <tr>\n",
       "      <th>50</th>\n",
       "      <td>proj_tag_study_characteristics</td>\n",
       "      <td>oncology_studies</td>\n",
       "      <td>Trials determined to be oncology related for t...</td>\n",
       "      <td>NaN</td>\n",
       "      <td>Project</td>\n",
       "      <td>NaN</td>\n",
       "    </tr>\n",
       "    <tr>\n",
       "      <th>51</th>\n",
       "      <td>proj_tag_study_characteristics</td>\n",
       "      <td>mental_health_studies</td>\n",
       "      <td>Trials determined to be mental health related ...</td>\n",
       "      <td>NaN</td>\n",
       "      <td>Project</td>\n",
       "      <td>NaN</td>\n",
       "    </tr>\n",
       "    <tr>\n",
       "      <th>52</th>\n",
       "      <td>proj_tag_study_characteristics</td>\n",
       "      <td>cardiovascular_studies</td>\n",
       "      <td>Trials determined to be cardiovascular related...</td>\n",
       "      <td>NaN</td>\n",
       "      <td>Project</td>\n",
       "      <td>NaN</td>\n",
       "    </tr>\n",
       "  </tbody>\n",
       "</table>\n",
       "</div>"
      ],
      "text/plain": [
       "                         db schema                   table  \\\n",
       "41                           ctgov                sponsors   \n",
       "42                           ctgov                 studies   \n",
       "46             proj_tag_nephrology        analyzed_studies   \n",
       "49          proj_results_reporting        analyzed_studies   \n",
       "50  proj_tag_study_characteristics        oncology_studies   \n",
       "51  proj_tag_study_characteristics   mental_health_studies   \n",
       "52  proj_tag_study_characteristics  cardiovascular_studies   \n",
       "\n",
       "                                          description rows per study  \\\n",
       "41  Name of study sponsors and collaborators. The ...           many   \n",
       "42  Basic info about study, including study title,...            one   \n",
       "46  Information identifying the studies used to su...            NaN   \n",
       "49  Trials that were determined likely subject to ...            NaN   \n",
       "50  Trials determined to be oncology related for t...            NaN   \n",
       "51  Trials determined to be mental health related ...            NaN   \n",
       "52  Trials determined to be cardiovascular related...            NaN   \n",
       "\n",
       "                domain                                            nlm doc  \n",
       "41            Protocol  https://prsinfo.clinicaltrials.gov/definitions...  \n",
       "42  Protocol & Results                                                NaN  \n",
       "46             Project                                                NaN  \n",
       "49             Project                                                NaN  \n",
       "50             Project                                                NaN  \n",
       "51             Project                                                NaN  \n",
       "52             Project                                                NaN  "
      ]
     },
     "execution_count": 10,
     "metadata": {},
     "output_type": "execute_result"
    }
   ],
   "source": [
    "tables.loc[tables.table.str.contains('studies') | tables.table.str.contains('sponsor')]"
   ]
  },
  {
   "cell_type": "code",
   "execution_count": 13,
   "id": "7759d705-1c27-42ce-84fb-f0e3b1e1468e",
   "metadata": {},
   "outputs": [],
   "source": [
    "fields = pd.read_csv('definitions.csv')"
   ]
  },
  {
   "cell_type": "code",
   "execution_count": 187,
   "id": "01aecb68-8969-4fd7-a725-d34260d1427e",
   "metadata": {},
   "outputs": [],
   "source": [
    "pd.set_option('display.max_colwidth', None)\n",
    "# fields.loc[fields.table == 'studies']"
   ]
  },
  {
   "cell_type": "code",
   "execution_count": 190,
   "id": "66596414-6dd8-4eb3-b405-ab31e108ca2b",
   "metadata": {},
   "outputs": [],
   "source": [
    "# fields.loc[fields.column == 'overall_status']"
   ]
  },
  {
   "cell_type": "code",
   "execution_count": 191,
   "id": "23d8e1f3-4644-401a-b929-83a627131152",
   "metadata": {},
   "outputs": [],
   "source": [
    "# fields.loc[fields.column == 'completion_date']"
   ]
  },
  {
   "cell_type": "markdown",
   "id": "e64f93ce-534a-4e5d-bd82-8e460517d10c",
   "metadata": {},
   "source": [
    "# Fetch Studies"
   ]
  },
  {
   "cell_type": "code",
   "execution_count": null,
   "id": "e17a9e07-d320-4e57-bf7b-6d7f3ea0c5f8",
   "metadata": {},
   "outputs": [],
   "source": [
    "# fetch studies\n",
    "query = \"\"\"\n",
    "select * \n",
    "from studies st\n",
    "\"\"\""
   ]
  },
  {
   "cell_type": "code",
   "execution_count": 246,
   "id": "ec19892b-60c4-460d-af59-1d0da611c5bd",
   "metadata": {},
   "outputs": [
    {
     "name": "stderr",
     "output_type": "stream",
     "text": [
      "C:\\Users\\Bryant\\AppData\\Local\\Temp\\ipykernel_17172\\542797753.py:2: UserWarning:\n",
      "\n",
      "pandas only supports SQLAlchemy connectable (engine/connection) or database string URI or sqlite3 DBAPI2 connection. Other DBAPI2 objects are not tested. Please consider using SQLAlchemy.\n",
      "\n"
     ]
    }
   ],
   "source": [
    "# takes a while to query whole data\n",
    "data = pd.read_sql(query, connection)"
   ]
  },
  {
   "cell_type": "markdown",
   "id": "a8e35b23-e1c4-4576-a71d-ea01a11c9eb7",
   "metadata": {},
   "source": [
    "# Define current studies\n",
    "\n",
    "options:\n",
    "- lots of different dates in studies table, calculate off that\n",
    "- use status field"
   ]
  },
  {
   "cell_type": "code",
   "execution_count": 247,
   "id": "1e2727a7-39af-4fd2-9c9b-7972247d2f73",
   "metadata": {},
   "outputs": [],
   "source": [
    "# fields.loc[fields.column.str.contains('date')]"
   ]
  },
  {
   "cell_type": "code",
   "execution_count": 248,
   "id": "82d069ad-7cac-420c-8cd0-7de2abe11135",
   "metadata": {},
   "outputs": [
    {
     "data": {
      "text/plain": [
       "Recruiting                 32111\n",
       "Not yet recruiting         12669\n",
       "Active, not recruiting      9535\n",
       "Enrolling by invitation     2216\n",
       "Name: last_known_status, dtype: int64"
      ]
     },
     "execution_count": 248,
     "metadata": {},
     "output_type": "execute_result"
    }
   ],
   "source": [
    "data.last_known_status.value_counts()"
   ]
  },
  {
   "cell_type": "code",
   "execution_count": 249,
   "id": "baec5a98-9eb2-4b18-aa7d-e00e3390e08a",
   "metadata": {},
   "outputs": [
    {
     "name": "stdout",
     "output_type": "stream",
     "text": [
      "nct_id                                      0\n",
      "nlm_download_date_description          441919\n",
      "study_first_submitted_date                  0\n",
      "results_first_submitted_date           384842\n",
      "disposition_first_submitted_date       433478\n",
      "last_update_submitted_date                  0\n",
      "study_first_submitted_qc_date               0\n",
      "study_first_posted_date                     0\n",
      "study_first_posted_date_type                0\n",
      "results_first_submitted_qc_date        384842\n",
      "results_first_posted_date              384842\n",
      "results_first_posted_date_type         384842\n",
      "disposition_first_submitted_qc_date    433496\n",
      "disposition_first_posted_date          433496\n",
      "disposition_first_posted_date_type     433496\n",
      "last_update_submitted_qc_date               0\n",
      "last_update_posted_date                     0\n",
      "last_update_posted_date_type                0\n",
      "start_month_year                         5047\n",
      "start_date_type                        189316\n",
      "start_date                               5047\n",
      "verification_month_year                   839\n",
      "verification_date                         839\n",
      "completion_month_year                   16995\n",
      "completion_date_type                    23800\n",
      "completion_date                         16995\n",
      "primary_completion_month_year           21814\n",
      "primary_completion_date_type            21877\n",
      "primary_completion_date                 21814\n",
      "target_duration                        432004\n",
      "study_type                                839\n",
      "acronym                                321264\n",
      "baseline_population                    424004\n",
      "brief_title                                 0\n",
      "official_title                          10020\n",
      "overall_status                              0\n",
      "last_known_status                      385388\n",
      "phase                                  100776\n",
      "enrollment                               6833\n",
      "enrollment_type                         16908\n",
      "source                                      0\n",
      "limitations_and_caveats                441919\n",
      "number_of_arms                         124675\n",
      "number_of_groups                       378395\n",
      "why_stopped                            408265\n",
      "has_expanded_access                      5969\n",
      "expanded_access_type_individual        441684\n",
      "expanded_access_type_intermediate      441767\n",
      "expanded_access_type_treatment         441765\n",
      "has_dmc                                 81628\n",
      "is_fda_regulated_drug                  222946\n",
      "is_fda_regulated_device                222984\n",
      "is_unapproved_device                   438946\n",
      "is_ppsd                                441907\n",
      "is_us_export                           409025\n",
      "biospec_retention                      420818\n",
      "biospec_description                    420724\n",
      "ipd_time_frame                         425414\n",
      "ipd_access_criteria                    426741\n",
      "ipd_url                                433962\n",
      "plan_to_share_ipd                      249870\n",
      "plan_to_share_ipd_description          394672\n",
      "created_at                                  0\n",
      "updated_at                                  0\n",
      "source_class                              839\n",
      "delayed_posting                        441080\n",
      "expanded_access_nctid                  441234\n",
      "expanded_access_status_for_nctid       441234\n",
      "fdaaa801_violation                     441915\n",
      "baseline_type_units_analyzed           441645\n",
      "dtype: int64\n"
     ]
    }
   ],
   "source": [
    "# difference between completion and primary completion\n",
    "# overall status is never null so possible best indicator of current\n",
    "\n",
    "with pd.option_context('display.max_rows', None): \n",
    "    print(data.isna().sum())"
   ]
  },
  {
   "cell_type": "code",
   "execution_count": 250,
   "id": "3cc81a28-b425-4444-9488-baa49d96a161",
   "metadata": {},
   "outputs": [
    {
     "data": {
      "text/plain": [
       "(441919, 70)"
      ]
     },
     "execution_count": 250,
     "metadata": {},
     "output_type": "execute_result"
    }
   ],
   "source": [
    "data.shape"
   ]
  },
  {
   "cell_type": "code",
   "execution_count": 251,
   "id": "896ad278-9ba2-4014-9997-155995875c92",
   "metadata": {},
   "outputs": [
    {
     "data": {
      "text/html": [
       "<div>\n",
       "<style scoped>\n",
       "    .dataframe tbody tr th:only-of-type {\n",
       "        vertical-align: middle;\n",
       "    }\n",
       "\n",
       "    .dataframe tbody tr th {\n",
       "        vertical-align: top;\n",
       "    }\n",
       "\n",
       "    .dataframe thead th {\n",
       "        text-align: right;\n",
       "    }\n",
       "</style>\n",
       "<table border=\"1\" class=\"dataframe\">\n",
       "  <thead>\n",
       "    <tr style=\"text-align: right;\">\n",
       "      <th></th>\n",
       "      <th>nct_id</th>\n",
       "      <th>nlm_download_date_description</th>\n",
       "      <th>study_first_submitted_date</th>\n",
       "      <th>results_first_submitted_date</th>\n",
       "      <th>disposition_first_submitted_date</th>\n",
       "      <th>last_update_submitted_date</th>\n",
       "      <th>study_first_submitted_qc_date</th>\n",
       "      <th>study_first_posted_date</th>\n",
       "      <th>study_first_posted_date_type</th>\n",
       "      <th>results_first_submitted_qc_date</th>\n",
       "      <th>...</th>\n",
       "      <th>plan_to_share_ipd</th>\n",
       "      <th>plan_to_share_ipd_description</th>\n",
       "      <th>created_at</th>\n",
       "      <th>updated_at</th>\n",
       "      <th>source_class</th>\n",
       "      <th>delayed_posting</th>\n",
       "      <th>expanded_access_nctid</th>\n",
       "      <th>expanded_access_status_for_nctid</th>\n",
       "      <th>fdaaa801_violation</th>\n",
       "      <th>baseline_type_units_analyzed</th>\n",
       "    </tr>\n",
       "  </thead>\n",
       "  <tbody>\n",
       "    <tr>\n",
       "      <th>0</th>\n",
       "      <td>NCT00409643</td>\n",
       "      <td>None</td>\n",
       "      <td>2006-12-07</td>\n",
       "      <td>None</td>\n",
       "      <td>None</td>\n",
       "      <td>2011-11-07</td>\n",
       "      <td>2006-12-07</td>\n",
       "      <td>2006-12-11</td>\n",
       "      <td>Estimate</td>\n",
       "      <td>None</td>\n",
       "      <td>...</td>\n",
       "      <td>None</td>\n",
       "      <td>None</td>\n",
       "      <td>2023-02-11 13:38:10.428231</td>\n",
       "      <td>2023-02-11 13:38:10.428231</td>\n",
       "      <td>INDUSTRY</td>\n",
       "      <td>None</td>\n",
       "      <td>None</td>\n",
       "      <td>None</td>\n",
       "      <td>None</td>\n",
       "      <td>None</td>\n",
       "    </tr>\n",
       "    <tr>\n",
       "      <th>1</th>\n",
       "      <td>NCT00409656</td>\n",
       "      <td>None</td>\n",
       "      <td>2006-12-08</td>\n",
       "      <td>None</td>\n",
       "      <td>None</td>\n",
       "      <td>2006-12-12</td>\n",
       "      <td>2006-12-08</td>\n",
       "      <td>2006-12-11</td>\n",
       "      <td>Estimate</td>\n",
       "      <td>None</td>\n",
       "      <td>...</td>\n",
       "      <td>None</td>\n",
       "      <td>None</td>\n",
       "      <td>2023-02-11 13:38:11.073406</td>\n",
       "      <td>2023-02-11 13:38:11.073406</td>\n",
       "      <td>OTHER</td>\n",
       "      <td>None</td>\n",
       "      <td>None</td>\n",
       "      <td>None</td>\n",
       "      <td>None</td>\n",
       "      <td>None</td>\n",
       "    </tr>\n",
       "    <tr>\n",
       "      <th>2</th>\n",
       "      <td>NCT00409669</td>\n",
       "      <td>None</td>\n",
       "      <td>2006-12-08</td>\n",
       "      <td>None</td>\n",
       "      <td>None</td>\n",
       "      <td>2008-05-06</td>\n",
       "      <td>2006-12-08</td>\n",
       "      <td>2006-12-11</td>\n",
       "      <td>Estimate</td>\n",
       "      <td>None</td>\n",
       "      <td>...</td>\n",
       "      <td>None</td>\n",
       "      <td>None</td>\n",
       "      <td>2023-02-11 13:38:11.787406</td>\n",
       "      <td>2023-02-11 13:38:11.787406</td>\n",
       "      <td>OTHER</td>\n",
       "      <td>None</td>\n",
       "      <td>None</td>\n",
       "      <td>None</td>\n",
       "      <td>None</td>\n",
       "      <td>None</td>\n",
       "    </tr>\n",
       "    <tr>\n",
       "      <th>3</th>\n",
       "      <td>NCT00409695</td>\n",
       "      <td>None</td>\n",
       "      <td>2006-12-07</td>\n",
       "      <td>None</td>\n",
       "      <td>None</td>\n",
       "      <td>2012-01-19</td>\n",
       "      <td>2006-12-08</td>\n",
       "      <td>2006-12-11</td>\n",
       "      <td>Estimate</td>\n",
       "      <td>None</td>\n",
       "      <td>...</td>\n",
       "      <td>None</td>\n",
       "      <td>None</td>\n",
       "      <td>2023-02-11 13:38:14.270848</td>\n",
       "      <td>2023-02-11 13:38:14.270848</td>\n",
       "      <td>OTHER</td>\n",
       "      <td>None</td>\n",
       "      <td>None</td>\n",
       "      <td>None</td>\n",
       "      <td>None</td>\n",
       "      <td>None</td>\n",
       "    </tr>\n",
       "    <tr>\n",
       "      <th>4</th>\n",
       "      <td>NCT04779619</td>\n",
       "      <td>None</td>\n",
       "      <td>2021-02-23</td>\n",
       "      <td>None</td>\n",
       "      <td>None</td>\n",
       "      <td>2021-03-02</td>\n",
       "      <td>2021-03-02</td>\n",
       "      <td>2021-03-03</td>\n",
       "      <td>Actual</td>\n",
       "      <td>None</td>\n",
       "      <td>...</td>\n",
       "      <td>No</td>\n",
       "      <td>None</td>\n",
       "      <td>2023-02-08 17:40:56.298720</td>\n",
       "      <td>2023-02-08 17:40:56.298720</td>\n",
       "      <td>OTHER</td>\n",
       "      <td>None</td>\n",
       "      <td>None</td>\n",
       "      <td>None</td>\n",
       "      <td>None</td>\n",
       "      <td>None</td>\n",
       "    </tr>\n",
       "  </tbody>\n",
       "</table>\n",
       "<p>5 rows × 70 columns</p>\n",
       "</div>"
      ],
      "text/plain": [
       "        nct_id nlm_download_date_description study_first_submitted_date  \\\n",
       "0  NCT00409643                          None                 2006-12-07   \n",
       "1  NCT00409656                          None                 2006-12-08   \n",
       "2  NCT00409669                          None                 2006-12-08   \n",
       "3  NCT00409695                          None                 2006-12-07   \n",
       "4  NCT04779619                          None                 2021-02-23   \n",
       "\n",
       "  results_first_submitted_date disposition_first_submitted_date  \\\n",
       "0                         None                             None   \n",
       "1                         None                             None   \n",
       "2                         None                             None   \n",
       "3                         None                             None   \n",
       "4                         None                             None   \n",
       "\n",
       "  last_update_submitted_date study_first_submitted_qc_date  \\\n",
       "0                 2011-11-07                    2006-12-07   \n",
       "1                 2006-12-12                    2006-12-08   \n",
       "2                 2008-05-06                    2006-12-08   \n",
       "3                 2012-01-19                    2006-12-08   \n",
       "4                 2021-03-02                    2021-03-02   \n",
       "\n",
       "  study_first_posted_date study_first_posted_date_type  \\\n",
       "0              2006-12-11                     Estimate   \n",
       "1              2006-12-11                     Estimate   \n",
       "2              2006-12-11                     Estimate   \n",
       "3              2006-12-11                     Estimate   \n",
       "4              2021-03-03                       Actual   \n",
       "\n",
       "  results_first_submitted_qc_date  ... plan_to_share_ipd  \\\n",
       "0                            None  ...              None   \n",
       "1                            None  ...              None   \n",
       "2                            None  ...              None   \n",
       "3                            None  ...              None   \n",
       "4                            None  ...                No   \n",
       "\n",
       "  plan_to_share_ipd_description                 created_at  \\\n",
       "0                          None 2023-02-11 13:38:10.428231   \n",
       "1                          None 2023-02-11 13:38:11.073406   \n",
       "2                          None 2023-02-11 13:38:11.787406   \n",
       "3                          None 2023-02-11 13:38:14.270848   \n",
       "4                          None 2023-02-08 17:40:56.298720   \n",
       "\n",
       "                  updated_at source_class delayed_posting  \\\n",
       "0 2023-02-11 13:38:10.428231     INDUSTRY            None   \n",
       "1 2023-02-11 13:38:11.073406        OTHER            None   \n",
       "2 2023-02-11 13:38:11.787406        OTHER            None   \n",
       "3 2023-02-11 13:38:14.270848        OTHER            None   \n",
       "4 2023-02-08 17:40:56.298720        OTHER            None   \n",
       "\n",
       "  expanded_access_nctid expanded_access_status_for_nctid fdaaa801_violation  \\\n",
       "0                  None                             None               None   \n",
       "1                  None                             None               None   \n",
       "2                  None                             None               None   \n",
       "3                  None                             None               None   \n",
       "4                  None                             None               None   \n",
       "\n",
       "  baseline_type_units_analyzed  \n",
       "0                         None  \n",
       "1                         None  \n",
       "2                         None  \n",
       "3                         None  \n",
       "4                         None  \n",
       "\n",
       "[5 rows x 70 columns]"
      ]
     },
     "execution_count": 251,
     "metadata": {},
     "output_type": "execute_result"
    }
   ],
   "source": [
    "data.head()"
   ]
  },
  {
   "cell_type": "code",
   "execution_count": 252,
   "id": "ed6e7c48-72b7-47a6-ac6f-77677fc74990",
   "metadata": {},
   "outputs": [],
   "source": [
    "# some anticipated primary completion dates, best to go with actual completion dates to filter by current, ongoing studies\n",
    "# data.loc[(data.primary_completion_date.notnull()) & (data.completion_date.isnull())][data.columns[:35]].head(15)"
   ]
  },
  {
   "cell_type": "markdown",
   "id": "b12bb782-ab8b-43ae-a8bf-26473916fd1a",
   "metadata": {},
   "source": [
    "# Filter data by current studies"
   ]
  },
  {
   "cell_type": "code",
   "execution_count": 1,
   "id": "9106e67e-b510-49ba-80b1-83e0dabe44c1",
   "metadata": {},
   "outputs": [],
   "source": [
    "# fig = px.pie(data\n",
    "#              ,names = 'overall_status'\n",
    "#              ,title = 'Overall Status by Study'\n",
    "#             )\n",
    "# fig.update_layout(\n",
    "#     autosize=False,\n",
    "#     width=1200,\n",
    "#     height=1200)\n",
    "# fig.show()"
   ]
  },
  {
   "cell_type": "markdown",
   "id": "b999689a-ab8f-4ddf-9dee-0dc79768c3b7",
   "metadata": {},
   "source": [
    "# Method 1 - started, but not completed study"
   ]
  },
  {
   "cell_type": "code",
   "execution_count": 278,
   "id": "a8c0b98d-1f8b-4e04-b1f2-30fcf445d54d",
   "metadata": {},
   "outputs": [
    {
     "data": {
      "text/plain": [
       "970"
      ]
     },
     "execution_count": 278,
     "metadata": {},
     "output_type": "execute_result"
    }
   ],
   "source": [
    "# sanity check - 970 studies don't have a start data but have a completion date\n",
    "data.loc[(data.start_date.isnull()) & (data.completion_date.notnull())].nct_id.nunique()"
   ]
  },
  {
   "cell_type": "code",
   "execution_count": 279,
   "id": "08d912f9-5975-4153-b57f-c6ea73124ad0",
   "metadata": {},
   "outputs": [
    {
     "data": {
      "text/plain": [
       "441919"
      ]
     },
     "execution_count": 279,
     "metadata": {},
     "output_type": "execute_result"
    }
   ],
   "source": [
    "data.nct_id.nunique()"
   ]
  },
  {
   "cell_type": "code",
   "execution_count": 280,
   "id": "c11517f0-0e33-4994-aff4-51a8984c36cd",
   "metadata": {},
   "outputs": [
    {
     "name": "stdout",
     "output_type": "stream",
     "text": [
      "0.21949723818165773% of studies have a null start date and non-null completion date\n"
     ]
    }
   ],
   "source": [
    "print(f'{100*data.loc[(data.start_date.isnull()) & (data.completion_date.notnull())].nct_id.nunique()/data.nct_id.nunique()}% of studies have a null start date and non-null completion date')"
   ]
  },
  {
   "cell_type": "code",
   "execution_count": 281,
   "id": "23e74549-9cc6-4d68-a17e-45207d1ae623",
   "metadata": {},
   "outputs": [],
   "source": [
    "data['completion_year'] = data.completion_date.apply(lambda x: x.year if x else None)\n",
    "data['start_year'] = data.start_date.apply(lambda x: x.year if x else None)\n",
    "data['start_year_group'] = data.start_year.apply(lambda x: '1990 and before' if x<= 1990 else str((x)))"
   ]
  },
  {
   "cell_type": "code",
   "execution_count": 2,
   "id": "c3444eff-6f55-40ea-a45e-039007693582",
   "metadata": {},
   "outputs": [],
   "source": [
    "# fig = go.Figure()\n",
    "# fig.add_trace(go.Histogram(x=data.completion_year, histnorm='probability', name = 'all studies'))\n",
    "# fig.add_trace(go.Histogram(x=data.loc[(data.start_date.isnull()) & (data.completion_date.notnull())].completion_year, histnorm='probability', name = 'studies w/ start date but no end date'))\n",
    "\n",
    "# # Overlay both histograms\n",
    "# fig.update_layout(barmode='overlay')\n",
    "# # Reduce opacity to see both histograms\n",
    "# fig.update_traces(opacity=0.75)\n",
    "# fig.update_layout(\n",
    "#     title_text='Study Completion Year', # title of plot\n",
    "# )\n",
    "# fig.show()"
   ]
  },
  {
   "cell_type": "markdown",
   "id": "31c7301a-9a99-4b66-846c-03145ecb1a91",
   "metadata": {},
   "source": [
    "Older data have more documentation issues, which is to be expected."
   ]
  },
  {
   "cell_type": "code",
   "execution_count": 283,
   "id": "77f7b1ac-be05-4638-a9ba-66bf177bb99b",
   "metadata": {},
   "outputs": [],
   "source": [
    "current_studies = data.loc[(data.start_date.notnull()) & (data.completion_date.isnull())]\n",
    "current_studies = current_studies.loc[current_studies.start_year != 2100]\n",
    "current_studies['start_year_group'] = current_studies.start_year.apply(lambda x: '1990 and before' if x<= 1990 else str(int(x)))"
   ]
  },
  {
   "cell_type": "code",
   "execution_count": 3,
   "id": "a087e947-04d4-45ab-9f32-0549ab3d0b8b",
   "metadata": {},
   "outputs": [],
   "source": [
    "# current_studies.sort_values('start_year_group', inplace=True)\n",
    "# fig = px.histogram(current_studies, x=\"start_year_group\", histnorm='probability', title = 'Study Start Year', labels = {'x': 'Study Start Year'})\n",
    "# fig.update_layout(yaxis_title=\"% of Studies\", yaxis_range=[0,0.08]) \n",
    "# fig.show()"
   ]
  },
  {
   "cell_type": "code",
   "execution_count": 287,
   "id": "531af250-4eb6-403b-92a8-ef2b4ebb1c76",
   "metadata": {},
   "outputs": [],
   "source": [
    "data['duration'] = data.completion_date - data.start_date\n",
    "data['duration'] = data.duration.apply(lambda x: x.days)"
   ]
  },
  {
   "cell_type": "markdown",
   "id": "8fb2100c-ed88-43c3-89dd-c4139bb1ca10",
   "metadata": {},
   "source": [
    "# Method 2 - Current Status "
   ]
  },
  {
   "cell_type": "code",
   "execution_count": null,
   "id": "014df7d2-c634-4e39-a695-acb36f55e653",
   "metadata": {},
   "outputs": [],
   "source": [
    "data.overall_status.unique()"
   ]
  },
  {
   "cell_type": "code",
   "execution_count": 289,
   "id": "fcdd88f0-7ef2-4798-a1dd-d8f2237d84ee",
   "metadata": {},
   "outputs": [],
   "source": [
    "current_indicator = [\n",
    "# 'Completed',\n",
    " 'Recruiting'\n",
    "    , 'Active, not recruiting'\n",
    "    # , 'Terminated'\n",
    "    ,'Unknown status'\n",
    "    # , 'Withdrawn'\n",
    "    , 'Withheld'\n",
    "    , 'Not yet recruiting'\n",
    "    # , 'Suspended'\n",
    "    , 'Enrolling by invitation'\n",
    "    , 'Approved for marketing'\n",
    "    # , 'No longer available'\n",
    "    , 'Available'\n",
    "    , 'Temporarily not available'\n",
    "]"
   ]
  },
  {
   "cell_type": "code",
   "execution_count": 291,
   "id": "810b9eb6-ce47-4044-a7d8-90a02c61de27",
   "metadata": {},
   "outputs": [
    {
     "data": {
      "text/plain": [
       "0.3687983544495711"
      ]
     },
     "execution_count": 291,
     "metadata": {},
     "output_type": "execute_result"
    }
   ],
   "source": [
    "data.loc[(data.overall_status.isin(current_indicator))].shape[0]/data.shape[0]"
   ]
  },
  {
   "cell_type": "code",
   "execution_count": 293,
   "id": "da20b910-8959-457c-b508-40110e81783b",
   "metadata": {},
   "outputs": [],
   "source": [
    "current_status_studies = data.loc[(data.overall_status.isin(current_indicator))]"
   ]
  },
  {
   "cell_type": "code",
   "execution_count": 294,
   "id": "730143d9-c49b-48ed-8513-f9d69ebf378f",
   "metadata": {},
   "outputs": [],
   "source": [
    "completed_studies = data.loc[(data.overall_status == 'Completed') & (data.duration >= 1)]"
   ]
  },
  {
   "cell_type": "code",
   "execution_count": 295,
   "id": "b555c2f0-0f29-489d-b4ce-5f8f289490d3",
   "metadata": {},
   "outputs": [
    {
     "data": {
      "text/html": [
       "<div>\n",
       "<style scoped>\n",
       "    .dataframe tbody tr th:only-of-type {\n",
       "        vertical-align: middle;\n",
       "    }\n",
       "\n",
       "    .dataframe tbody tr th {\n",
       "        vertical-align: top;\n",
       "    }\n",
       "\n",
       "    .dataframe thead th {\n",
       "        text-align: right;\n",
       "    }\n",
       "</style>\n",
       "<table border=\"1\" class=\"dataframe\">\n",
       "  <thead>\n",
       "    <tr style=\"text-align: right;\">\n",
       "      <th></th>\n",
       "      <th>enrollment</th>\n",
       "      <th>number_of_arms</th>\n",
       "      <th>number_of_groups</th>\n",
       "      <th>completion_year</th>\n",
       "      <th>start_year</th>\n",
       "      <th>duration</th>\n",
       "    </tr>\n",
       "  </thead>\n",
       "  <tbody>\n",
       "    <tr>\n",
       "      <th>count</th>\n",
       "      <td>2.268850e+05</td>\n",
       "      <td>167045.000000</td>\n",
       "      <td>31259.000000</td>\n",
       "      <td>229464.000000</td>\n",
       "      <td>229464.000000</td>\n",
       "      <td>229464.000000</td>\n",
       "    </tr>\n",
       "    <tr>\n",
       "      <th>mean</th>\n",
       "      <td>3.397184e+03</td>\n",
       "      <td>2.217408</td>\n",
       "      <td>1.787645</td>\n",
       "      <td>2014.932961</td>\n",
       "      <td>2012.384021</td>\n",
       "      <td>950.800587</td>\n",
       "    </tr>\n",
       "    <tr>\n",
       "      <th>std</th>\n",
       "      <td>2.164038e+05</td>\n",
       "      <td>1.390327</td>\n",
       "      <td>1.143328</td>\n",
       "      <td>5.102961</td>\n",
       "      <td>5.794852</td>\n",
       "      <td>970.039964</td>\n",
       "    </tr>\n",
       "    <tr>\n",
       "      <th>min</th>\n",
       "      <td>0.000000e+00</td>\n",
       "      <td>1.000000</td>\n",
       "      <td>1.000000</td>\n",
       "      <td>1918.000000</td>\n",
       "      <td>1916.000000</td>\n",
       "      <td>1.000000</td>\n",
       "    </tr>\n",
       "    <tr>\n",
       "      <th>25%</th>\n",
       "      <td>3.000000e+01</td>\n",
       "      <td>2.000000</td>\n",
       "      <td>1.000000</td>\n",
       "      <td>2011.000000</td>\n",
       "      <td>2009.000000</td>\n",
       "      <td>306.000000</td>\n",
       "    </tr>\n",
       "    <tr>\n",
       "      <th>50%</th>\n",
       "      <td>6.800000e+01</td>\n",
       "      <td>2.000000</td>\n",
       "      <td>2.000000</td>\n",
       "      <td>2016.000000</td>\n",
       "      <td>2013.000000</td>\n",
       "      <td>671.000000</td>\n",
       "    </tr>\n",
       "    <tr>\n",
       "      <th>75%</th>\n",
       "      <td>1.920000e+02</td>\n",
       "      <td>2.000000</td>\n",
       "      <td>2.000000</td>\n",
       "      <td>2019.000000</td>\n",
       "      <td>2017.000000</td>\n",
       "      <td>1279.000000</td>\n",
       "    </tr>\n",
       "    <tr>\n",
       "      <th>max</th>\n",
       "      <td>6.712893e+07</td>\n",
       "      <td>44.000000</td>\n",
       "      <td>49.000000</td>\n",
       "      <td>2031.000000</td>\n",
       "      <td>2023.000000</td>\n",
       "      <td>38562.000000</td>\n",
       "    </tr>\n",
       "  </tbody>\n",
       "</table>\n",
       "</div>"
      ],
      "text/plain": [
       "         enrollment  number_of_arms  number_of_groups  completion_year  \\\n",
       "count  2.268850e+05   167045.000000      31259.000000    229464.000000   \n",
       "mean   3.397184e+03        2.217408          1.787645      2014.932961   \n",
       "std    2.164038e+05        1.390327          1.143328         5.102961   \n",
       "min    0.000000e+00        1.000000          1.000000      1918.000000   \n",
       "25%    3.000000e+01        2.000000          1.000000      2011.000000   \n",
       "50%    6.800000e+01        2.000000          2.000000      2016.000000   \n",
       "75%    1.920000e+02        2.000000          2.000000      2019.000000   \n",
       "max    6.712893e+07       44.000000         49.000000      2031.000000   \n",
       "\n",
       "          start_year       duration  \n",
       "count  229464.000000  229464.000000  \n",
       "mean     2012.384021     950.800587  \n",
       "std         5.794852     970.039964  \n",
       "min      1916.000000       1.000000  \n",
       "25%      2009.000000     306.000000  \n",
       "50%      2013.000000     671.000000  \n",
       "75%      2017.000000    1279.000000  \n",
       "max      2023.000000   38562.000000  "
      ]
     },
     "execution_count": 295,
     "metadata": {},
     "output_type": "execute_result"
    }
   ],
   "source": [
    "completed_studies.describe()"
   ]
  },
  {
   "cell_type": "code",
   "execution_count": 296,
   "id": "fad56351-547e-4244-83bf-8e3ddabc462d",
   "metadata": {},
   "outputs": [
    {
     "data": {
      "text/html": [
       "<div>\n",
       "<style scoped>\n",
       "    .dataframe tbody tr th:only-of-type {\n",
       "        vertical-align: middle;\n",
       "    }\n",
       "\n",
       "    .dataframe tbody tr th {\n",
       "        vertical-align: top;\n",
       "    }\n",
       "\n",
       "    .dataframe thead th {\n",
       "        text-align: right;\n",
       "    }\n",
       "</style>\n",
       "<table border=\"1\" class=\"dataframe\">\n",
       "  <thead>\n",
       "    <tr style=\"text-align: right;\">\n",
       "      <th></th>\n",
       "      <th>enrollment</th>\n",
       "      <th>number_of_arms</th>\n",
       "      <th>number_of_groups</th>\n",
       "      <th>completion_year</th>\n",
       "      <th>start_year</th>\n",
       "      <th>duration</th>\n",
       "    </tr>\n",
       "  </thead>\n",
       "  <tbody>\n",
       "    <tr>\n",
       "      <th>count</th>\n",
       "      <td>2.268390e+05</td>\n",
       "      <td>167037.000000</td>\n",
       "      <td>31250.000000</td>\n",
       "      <td>229371.000000</td>\n",
       "      <td>229371.000000</td>\n",
       "      <td>229371.000000</td>\n",
       "    </tr>\n",
       "    <tr>\n",
       "      <th>mean</th>\n",
       "      <td>3.233281e+03</td>\n",
       "      <td>2.217431</td>\n",
       "      <td>1.787488</td>\n",
       "      <td>2014.939979</td>\n",
       "      <td>2012.400016</td>\n",
       "      <td>947.515566</td>\n",
       "    </tr>\n",
       "    <tr>\n",
       "      <th>std</th>\n",
       "      <td>2.054667e+05</td>\n",
       "      <td>1.390353</td>\n",
       "      <td>1.143147</td>\n",
       "      <td>5.082941</td>\n",
       "      <td>5.736574</td>\n",
       "      <td>948.266476</td>\n",
       "    </tr>\n",
       "    <tr>\n",
       "      <th>min</th>\n",
       "      <td>0.000000e+00</td>\n",
       "      <td>1.000000</td>\n",
       "      <td>1.000000</td>\n",
       "      <td>1983.000000</td>\n",
       "      <td>1980.000000</td>\n",
       "      <td>1.000000</td>\n",
       "    </tr>\n",
       "    <tr>\n",
       "      <th>25%</th>\n",
       "      <td>3.000000e+01</td>\n",
       "      <td>2.000000</td>\n",
       "      <td>1.000000</td>\n",
       "      <td>2011.000000</td>\n",
       "      <td>2009.000000</td>\n",
       "      <td>306.000000</td>\n",
       "    </tr>\n",
       "    <tr>\n",
       "      <th>50%</th>\n",
       "      <td>6.800000e+01</td>\n",
       "      <td>2.000000</td>\n",
       "      <td>2.000000</td>\n",
       "      <td>2016.000000</td>\n",
       "      <td>2013.000000</td>\n",
       "      <td>671.000000</td>\n",
       "    </tr>\n",
       "    <tr>\n",
       "      <th>75%</th>\n",
       "      <td>1.920000e+02</td>\n",
       "      <td>2.000000</td>\n",
       "      <td>2.000000</td>\n",
       "      <td>2019.000000</td>\n",
       "      <td>2017.000000</td>\n",
       "      <td>1278.000000</td>\n",
       "    </tr>\n",
       "    <tr>\n",
       "      <th>max</th>\n",
       "      <td>6.712893e+07</td>\n",
       "      <td>44.000000</td>\n",
       "      <td>49.000000</td>\n",
       "      <td>2023.000000</td>\n",
       "      <td>2023.000000</td>\n",
       "      <td>13270.000000</td>\n",
       "    </tr>\n",
       "  </tbody>\n",
       "</table>\n",
       "</div>"
      ],
      "text/plain": [
       "         enrollment  number_of_arms  number_of_groups  completion_year  \\\n",
       "count  2.268390e+05   167037.000000      31250.000000    229371.000000   \n",
       "mean   3.233281e+03        2.217431          1.787488      2014.939979   \n",
       "std    2.054667e+05        1.390353          1.143147         5.082941   \n",
       "min    0.000000e+00        1.000000          1.000000      1983.000000   \n",
       "25%    3.000000e+01        2.000000          1.000000      2011.000000   \n",
       "50%    6.800000e+01        2.000000          2.000000      2016.000000   \n",
       "75%    1.920000e+02        2.000000          2.000000      2019.000000   \n",
       "max    6.712893e+07       44.000000         49.000000      2023.000000   \n",
       "\n",
       "          start_year       duration  \n",
       "count  229371.000000  229371.000000  \n",
       "mean     2012.400016     947.515566  \n",
       "std         5.736574     948.266476  \n",
       "min      1980.000000       1.000000  \n",
       "25%      2009.000000     306.000000  \n",
       "50%      2013.000000     671.000000  \n",
       "75%      2017.000000    1278.000000  \n",
       "max      2023.000000   13270.000000  "
      ]
     },
     "execution_count": 296,
     "metadata": {},
     "output_type": "execute_result"
    }
   ],
   "source": [
    "completed_studies.loc[(completed_studies.completion_year <= 2023) & (completed_studies.start_year >= 1980)].describe()"
   ]
  },
  {
   "cell_type": "code",
   "execution_count": 366,
   "id": "4b675f9f-79c6-478e-8ff8-f327aec7990b",
   "metadata": {},
   "outputs": [
    {
     "data": {
      "text/html": [
       "<div>\n",
       "<style scoped>\n",
       "    .dataframe tbody tr th:only-of-type {\n",
       "        vertical-align: middle;\n",
       "    }\n",
       "\n",
       "    .dataframe tbody tr th {\n",
       "        vertical-align: top;\n",
       "    }\n",
       "\n",
       "    .dataframe thead th {\n",
       "        text-align: right;\n",
       "    }\n",
       "</style>\n",
       "<table border=\"1\" class=\"dataframe\">\n",
       "  <thead>\n",
       "    <tr style=\"text-align: right;\">\n",
       "      <th></th>\n",
       "      <th>enrollment</th>\n",
       "      <th>number_of_arms</th>\n",
       "      <th>number_of_groups</th>\n",
       "      <th>completion_year</th>\n",
       "      <th>start_year</th>\n",
       "      <th>duration</th>\n",
       "    </tr>\n",
       "  </thead>\n",
       "  <tbody>\n",
       "    <tr>\n",
       "      <th>count</th>\n",
       "      <td>1.608490e+05</td>\n",
       "      <td>114777.000000</td>\n",
       "      <td>27763.000000</td>\n",
       "      <td>156263.000000</td>\n",
       "      <td>162979.00000</td>\n",
       "      <td>156239.000000</td>\n",
       "    </tr>\n",
       "    <tr>\n",
       "      <th>mean</th>\n",
       "      <td>9.271876e+03</td>\n",
       "      <td>2.072706</td>\n",
       "      <td>1.942838</td>\n",
       "      <td>2021.999776</td>\n",
       "      <td>1996.03814</td>\n",
       "      <td>1351.027151</td>\n",
       "    </tr>\n",
       "    <tr>\n",
       "      <th>std</th>\n",
       "      <td>7.462689e+05</td>\n",
       "      <td>1.287578</td>\n",
       "      <td>1.375062</td>\n",
       "      <td>4.447243</td>\n",
       "      <td>210.09516</td>\n",
       "      <td>1473.079144</td>\n",
       "    </tr>\n",
       "    <tr>\n",
       "      <th>min</th>\n",
       "      <td>0.000000e+00</td>\n",
       "      <td>1.000000</td>\n",
       "      <td>1.000000</td>\n",
       "      <td>1996.000000</td>\n",
       "      <td>0.00000</td>\n",
       "      <td>-15.000000</td>\n",
       "    </tr>\n",
       "    <tr>\n",
       "      <th>5%</th>\n",
       "      <td>1.500000e+01</td>\n",
       "      <td>1.000000</td>\n",
       "      <td>1.000000</td>\n",
       "      <td>2014.000000</td>\n",
       "      <td>2008.00000</td>\n",
       "      <td>181.000000</td>\n",
       "    </tr>\n",
       "    <tr>\n",
       "      <th>10%</th>\n",
       "      <td>2.000000e+01</td>\n",
       "      <td>1.000000</td>\n",
       "      <td>1.000000</td>\n",
       "      <td>2017.000000</td>\n",
       "      <td>2011.00000</td>\n",
       "      <td>275.000000</td>\n",
       "    </tr>\n",
       "    <tr>\n",
       "      <th>15%</th>\n",
       "      <td>3.000000e+01</td>\n",
       "      <td>1.000000</td>\n",
       "      <td>1.000000</td>\n",
       "      <td>2019.000000</td>\n",
       "      <td>2013.00000</td>\n",
       "      <td>365.000000</td>\n",
       "    </tr>\n",
       "    <tr>\n",
       "      <th>20%</th>\n",
       "      <td>3.500000e+01</td>\n",
       "      <td>1.000000</td>\n",
       "      <td>1.000000</td>\n",
       "      <td>2020.000000</td>\n",
       "      <td>2015.00000</td>\n",
       "      <td>425.000000</td>\n",
       "    </tr>\n",
       "    <tr>\n",
       "      <th>25%</th>\n",
       "      <td>4.000000e+01</td>\n",
       "      <td>1.000000</td>\n",
       "      <td>1.000000</td>\n",
       "      <td>2021.000000</td>\n",
       "      <td>2016.00000</td>\n",
       "      <td>518.000000</td>\n",
       "    </tr>\n",
       "    <tr>\n",
       "      <th>30%</th>\n",
       "      <td>5.000000e+01</td>\n",
       "      <td>2.000000</td>\n",
       "      <td>1.000000</td>\n",
       "      <td>2021.000000</td>\n",
       "      <td>2017.00000</td>\n",
       "      <td>611.000000</td>\n",
       "    </tr>\n",
       "    <tr>\n",
       "      <th>35%</th>\n",
       "      <td>6.000000e+01</td>\n",
       "      <td>2.000000</td>\n",
       "      <td>1.000000</td>\n",
       "      <td>2022.000000</td>\n",
       "      <td>2018.00000</td>\n",
       "      <td>717.000000</td>\n",
       "    </tr>\n",
       "    <tr>\n",
       "      <th>40%</th>\n",
       "      <td>6.400000e+01</td>\n",
       "      <td>2.000000</td>\n",
       "      <td>1.000000</td>\n",
       "      <td>2022.000000</td>\n",
       "      <td>2018.00000</td>\n",
       "      <td>761.000000</td>\n",
       "    </tr>\n",
       "    <tr>\n",
       "      <th>45%</th>\n",
       "      <td>8.000000e+01</td>\n",
       "      <td>2.000000</td>\n",
       "      <td>2.000000</td>\n",
       "      <td>2023.000000</td>\n",
       "      <td>2019.00000</td>\n",
       "      <td>868.000000</td>\n",
       "    </tr>\n",
       "    <tr>\n",
       "      <th>50%</th>\n",
       "      <td>9.900000e+01</td>\n",
       "      <td>2.000000</td>\n",
       "      <td>2.000000</td>\n",
       "      <td>2023.000000</td>\n",
       "      <td>2020.00000</td>\n",
       "      <td>983.000000</td>\n",
       "    </tr>\n",
       "    <tr>\n",
       "      <th>55%</th>\n",
       "      <td>1.000000e+02</td>\n",
       "      <td>2.000000</td>\n",
       "      <td>2.000000</td>\n",
       "      <td>2023.000000</td>\n",
       "      <td>2020.00000</td>\n",
       "      <td>1095.000000</td>\n",
       "    </tr>\n",
       "    <tr>\n",
       "      <th>60%</th>\n",
       "      <td>1.200000e+02</td>\n",
       "      <td>2.000000</td>\n",
       "      <td>2.000000</td>\n",
       "      <td>2023.000000</td>\n",
       "      <td>2020.00000</td>\n",
       "      <td>1185.000000</td>\n",
       "    </tr>\n",
       "    <tr>\n",
       "      <th>65%</th>\n",
       "      <td>1.500000e+02</td>\n",
       "      <td>2.000000</td>\n",
       "      <td>2.000000</td>\n",
       "      <td>2023.000000</td>\n",
       "      <td>2021.00000</td>\n",
       "      <td>1344.000000</td>\n",
       "    </tr>\n",
       "    <tr>\n",
       "      <th>70%</th>\n",
       "      <td>2.000000e+02</td>\n",
       "      <td>2.000000</td>\n",
       "      <td>2.000000</td>\n",
       "      <td>2024.000000</td>\n",
       "      <td>2021.00000</td>\n",
       "      <td>1482.000000</td>\n",
       "    </tr>\n",
       "    <tr>\n",
       "      <th>75%</th>\n",
       "      <td>2.400000e+02</td>\n",
       "      <td>2.000000</td>\n",
       "      <td>2.000000</td>\n",
       "      <td>2024.000000</td>\n",
       "      <td>2021.00000</td>\n",
       "      <td>1697.000000</td>\n",
       "    </tr>\n",
       "    <tr>\n",
       "      <th>80%</th>\n",
       "      <td>3.020000e+02</td>\n",
       "      <td>2.000000</td>\n",
       "      <td>2.000000</td>\n",
       "      <td>2024.000000</td>\n",
       "      <td>2022.00000</td>\n",
       "      <td>1879.000000</td>\n",
       "    </tr>\n",
       "    <tr>\n",
       "      <th>85%</th>\n",
       "      <td>4.560000e+02</td>\n",
       "      <td>3.000000</td>\n",
       "      <td>3.000000</td>\n",
       "      <td>2025.000000</td>\n",
       "      <td>2022.00000</td>\n",
       "      <td>2202.000000</td>\n",
       "    </tr>\n",
       "    <tr>\n",
       "      <th>90%</th>\n",
       "      <td>7.500000e+02</td>\n",
       "      <td>3.000000</td>\n",
       "      <td>3.000000</td>\n",
       "      <td>2026.000000</td>\n",
       "      <td>2022.00000</td>\n",
       "      <td>2733.000000</td>\n",
       "    </tr>\n",
       "    <tr>\n",
       "      <th>95%</th>\n",
       "      <td>1.855600e+03</td>\n",
       "      <td>4.000000</td>\n",
       "      <td>4.000000</td>\n",
       "      <td>2027.000000</td>\n",
       "      <td>2023.00000</td>\n",
       "      <td>3707.100000</td>\n",
       "    </tr>\n",
       "    <tr>\n",
       "      <th>max</th>\n",
       "      <td>1.559750e+08</td>\n",
       "      <td>43.000000</td>\n",
       "      <td>32.000000</td>\n",
       "      <td>2100.000000</td>\n",
       "      <td>2100.00000</td>\n",
       "      <td>40177.000000</td>\n",
       "    </tr>\n",
       "  </tbody>\n",
       "</table>\n",
       "</div>"
      ],
      "text/plain": [
       "         enrollment  number_of_arms  number_of_groups  completion_year  \\\n",
       "count  1.608490e+05   114777.000000      27763.000000    156263.000000   \n",
       "mean   9.271876e+03        2.072706          1.942838      2021.999776   \n",
       "std    7.462689e+05        1.287578          1.375062         4.447243   \n",
       "min    0.000000e+00        1.000000          1.000000      1996.000000   \n",
       "5%     1.500000e+01        1.000000          1.000000      2014.000000   \n",
       "10%    2.000000e+01        1.000000          1.000000      2017.000000   \n",
       "15%    3.000000e+01        1.000000          1.000000      2019.000000   \n",
       "20%    3.500000e+01        1.000000          1.000000      2020.000000   \n",
       "25%    4.000000e+01        1.000000          1.000000      2021.000000   \n",
       "30%    5.000000e+01        2.000000          1.000000      2021.000000   \n",
       "35%    6.000000e+01        2.000000          1.000000      2022.000000   \n",
       "40%    6.400000e+01        2.000000          1.000000      2022.000000   \n",
       "45%    8.000000e+01        2.000000          2.000000      2023.000000   \n",
       "50%    9.900000e+01        2.000000          2.000000      2023.000000   \n",
       "55%    1.000000e+02        2.000000          2.000000      2023.000000   \n",
       "60%    1.200000e+02        2.000000          2.000000      2023.000000   \n",
       "65%    1.500000e+02        2.000000          2.000000      2023.000000   \n",
       "70%    2.000000e+02        2.000000          2.000000      2024.000000   \n",
       "75%    2.400000e+02        2.000000          2.000000      2024.000000   \n",
       "80%    3.020000e+02        2.000000          2.000000      2024.000000   \n",
       "85%    4.560000e+02        3.000000          3.000000      2025.000000   \n",
       "90%    7.500000e+02        3.000000          3.000000      2026.000000   \n",
       "95%    1.855600e+03        4.000000          4.000000      2027.000000   \n",
       "max    1.559750e+08       43.000000         32.000000      2100.000000   \n",
       "\n",
       "         start_year       duration  \n",
       "count  162979.00000  156239.000000  \n",
       "mean     1996.03814    1351.027151  \n",
       "std       210.09516    1473.079144  \n",
       "min         0.00000     -15.000000  \n",
       "5%       2008.00000     181.000000  \n",
       "10%      2011.00000     275.000000  \n",
       "15%      2013.00000     365.000000  \n",
       "20%      2015.00000     425.000000  \n",
       "25%      2016.00000     518.000000  \n",
       "30%      2017.00000     611.000000  \n",
       "35%      2018.00000     717.000000  \n",
       "40%      2018.00000     761.000000  \n",
       "45%      2019.00000     868.000000  \n",
       "50%      2020.00000     983.000000  \n",
       "55%      2020.00000    1095.000000  \n",
       "60%      2020.00000    1185.000000  \n",
       "65%      2021.00000    1344.000000  \n",
       "70%      2021.00000    1482.000000  \n",
       "75%      2021.00000    1697.000000  \n",
       "80%      2022.00000    1879.000000  \n",
       "85%      2022.00000    2202.000000  \n",
       "90%      2022.00000    2733.000000  \n",
       "95%      2023.00000    3707.100000  \n",
       "max      2100.00000   40177.000000  "
      ]
     },
     "execution_count": 366,
     "metadata": {},
     "output_type": "execute_result"
    }
   ],
   "source": [
    "# duration quantiles\n",
    "current_status_studies.describe(percentiles = np.arange(0.05, 1, 0.05))"
   ]
  },
  {
   "cell_type": "code",
   "execution_count": 372,
   "id": "d120e8eb-f222-4f72-b09b-51aa716a5cb7",
   "metadata": {},
   "outputs": [
    {
     "data": {
      "text/plain": [
       "0.9786894676289091"
      ]
     },
     "execution_count": 372,
     "metadata": {},
     "output_type": "execute_result"
    }
   ],
   "source": [
    "completed_studies.loc[completed_studies.duration <= 3650].shape[0]/completed_studies.shape[0]"
   ]
  },
  {
   "cell_type": "code",
   "execution_count": 298,
   "id": "2ef39d3a-5583-43d5-8e03-20ec68c7ee51",
   "metadata": {},
   "outputs": [
    {
     "data": {
      "text/plain": [
       "Not Applicable     0.533566\n",
       "Phase 2            0.146304\n",
       "Phase 3            0.083183\n",
       "Phase 4            0.077135\n",
       "Phase 1            0.074618\n",
       "Phase 1/Phase 2    0.046496\n",
       "Phase 2/Phase 3    0.020342\n",
       "Early Phase 1      0.018357\n",
       "Name: phase, dtype: float64"
      ]
     },
     "execution_count": 298,
     "metadata": {},
     "output_type": "execute_result"
    }
   ],
   "source": [
    "current_status_studies.phase.value_counts(normalize=True)"
   ]
  },
  {
   "cell_type": "code",
   "execution_count": 299,
   "id": "d08d63a2-f94c-42e8-8614-cb3609b3158c",
   "metadata": {},
   "outputs": [
    {
     "data": {
      "text/plain": [
       "Not Applicable     63162\n",
       "Phase 2            17319\n",
       "Phase 3             9847\n",
       "Phase 4             9131\n",
       "Phase 1             8833\n",
       "Phase 1/Phase 2     5504\n",
       "Phase 2/Phase 3     2408\n",
       "Early Phase 1       2173\n",
       "Name: phase, dtype: int64"
      ]
     },
     "execution_count": 299,
     "metadata": {},
     "output_type": "execute_result"
    }
   ],
   "source": [
    "current_status_studies.phase.value_counts()"
   ]
  },
  {
   "cell_type": "code",
   "execution_count": 327,
   "id": "e65e8794-4abd-4dc5-b6ae-9da24f51fa0f",
   "metadata": {},
   "outputs": [],
   "source": [
    "# current_status_studies.sort_values('start_year_group', inplace=True)\n",
    "# fig = px.histogram(current_status_studies.loc[current_status_studies.start_year >= 2000], x=\"start_year_group\", color='phase', histnorm = 'probability', title = 'Study Start Year', labels = {'x': 'Study Start Year'})\n",
    "# fig.update_layout(yaxis_title=\"# of Studies\", \n",
    "#     autosize=False,\n",
    "#     width=1200,\n",
    "#     height=800)\n",
    "# fig.show()"
   ]
  },
  {
   "cell_type": "code",
   "execution_count": 341,
   "id": "30110b98-9d8d-437a-abe5-5e417899ba68",
   "metadata": {},
   "outputs": [],
   "source": [
    "def year_changer(x):\n",
    "    if x <= 2013:\n",
    "        return '2013 and before'\n",
    "    elif x >= 2022:\n",
    "        return '2022 and after'\n",
    "    elif x == 0:\n",
    "        return 'null placeholder'\n",
    "    else:\n",
    "        return str(int(x))"
   ]
  },
  {
   "cell_type": "code",
   "execution_count": 340,
   "id": "9a195772-97c1-45a8-9ba5-5d4cbab856b2",
   "metadata": {},
   "outputs": [
    {
     "name": "stderr",
     "output_type": "stream",
     "text": [
      "C:\\Users\\Bryant\\AppData\\Local\\Temp\\ipykernel_17172\\4205397863.py:1: SettingWithCopyWarning:\n",
      "\n",
      "\n",
      "A value is trying to be set on a copy of a slice from a DataFrame\n",
      "\n",
      "See the caveats in the documentation: https://pandas.pydata.org/pandas-docs/stable/user_guide/indexing.html#returning-a-view-versus-a-copy\n",
      "\n"
     ]
    }
   ],
   "source": [
    "current_status_studies.start_year.fillna(0, inplace = True)"
   ]
  },
  {
   "cell_type": "code",
   "execution_count": 342,
   "id": "2a97a939-d50c-4a59-8150-86e0093a0af5",
   "metadata": {},
   "outputs": [
    {
     "name": "stderr",
     "output_type": "stream",
     "text": [
      "C:\\Users\\Bryant\\AppData\\Local\\Temp\\ipykernel_17172\\2276943305.py:1: SettingWithCopyWarning:\n",
      "\n",
      "\n",
      "A value is trying to be set on a copy of a slice from a DataFrame.\n",
      "Try using .loc[row_indexer,col_indexer] = value instead\n",
      "\n",
      "See the caveats in the documentation: https://pandas.pydata.org/pandas-docs/stable/user_guide/indexing.html#returning-a-view-versus-a-copy\n",
      "\n"
     ]
    }
   ],
   "source": [
    "current_status_studies['start_year_group'] = current_status_studies.start_year.apply(lambda x: year_changer(x))"
   ]
  },
  {
   "cell_type": "code",
   "execution_count": 4,
   "id": "b05207e4-9dcc-48f5-be32-aa85c66df026",
   "metadata": {},
   "outputs": [],
   "source": [
    "# current_status_studies.sort_values(['phase', 'start_year_group'], inplace=True)\n",
    "# fig = px.histogram(current_status_studies.loc[(current_status_studies.start_year != 0)], x=\"phase\", color='start_year_group', barmode = 'group', histnorm = 'percent', title = 'Phase by Current Study Start Year', labels = {'x': 'Study Start Year'})\n",
    "# fig.update_layout(yaxis_title=\"% of Current Studies\", \n",
    "#     autosize=False,\n",
    "#     width=1200,\n",
    "#     height=800)\n",
    "# fig.show()"
   ]
  },
  {
   "cell_type": "code",
   "execution_count": 5,
   "id": "fee7b203-5306-41fc-83aa-d30a0c624ca3",
   "metadata": {},
   "outputs": [],
   "source": [
    "# current_status_studies.sort_values('start_year_group', inplace=True)\n",
    "# fig = px.histogram(current_status_studies, x=\"start_year_group\", histnorm='percent', title = 'Current Study Breakdown by Start Year', text_auto=True)\n",
    "# fig.update_layout(yaxis_title=\"% of Current Studies\", yaxis_range=[0,25], xaxis_title = 'Current Study Start Year') \n",
    "# fig.show()"
   ]
  },
  {
   "cell_type": "code",
   "execution_count": 476,
   "id": "d61cbfa9-bdbc-4d79-a2af-fcf3005cab98",
   "metadata": {},
   "outputs": [
    {
     "name": "stderr",
     "output_type": "stream",
     "text": [
      "C:\\Users\\Bryant\\AppData\\Local\\Temp\\ipykernel_17172\\2605389424.py:1: SettingWithCopyWarning:\n",
      "\n",
      "\n",
      "A value is trying to be set on a copy of a slice from a DataFrame.\n",
      "Try using .loc[row_indexer,col_indexer] = value instead\n",
      "\n",
      "See the caveats in the documentation: https://pandas.pydata.org/pandas-docs/stable/user_guide/indexing.html#returning-a-view-versus-a-copy\n",
      "\n",
      "C:\\Users\\Bryant\\AppData\\Local\\Temp\\ipykernel_17172\\2605389424.py:2: SettingWithCopyWarning:\n",
      "\n",
      "\n",
      "A value is trying to be set on a copy of a slice from a DataFrame.\n",
      "Try using .loc[row_indexer,col_indexer] = value instead\n",
      "\n",
      "See the caveats in the documentation: https://pandas.pydata.org/pandas-docs/stable/user_guide/indexing.html#returning-a-view-versus-a-copy\n",
      "\n"
     ]
    }
   ],
   "source": [
    "completed_studies['duration_group'] = completed_studies.duration.apply(lambda x: ceil(x/365))\n",
    "completed_studies['duration_group'] = completed_studies.duration_group.apply(lambda x: 'Ten or More' if x>=10 else str(int(x)))"
   ]
  },
  {
   "cell_type": "code",
   "execution_count": 6,
   "id": "1632cb4a-0c68-4571-803c-80ab1496c3be",
   "metadata": {},
   "outputs": [],
   "source": [
    "# completed_studies.sort_values('duration_group', inplace=True)\n",
    "# fig = px.histogram(completed_studies, x=\"duration_group\", histnorm = 'percent', title = 'Study Duration', text_auto=True)\n",
    "# fig.update_layout(yaxis_title=\"% of Studies\", xaxis_title = 'Study Completed Within Years', \n",
    "#     autosize=False,\n",
    "#     width=1200,\n",
    "#     height=800)\n",
    "# fig.show()"
   ]
  },
  {
   "cell_type": "code",
   "execution_count": 315,
   "id": "0f175bfc-3417-45bd-9c96-bdfa2d8229ab",
   "metadata": {},
   "outputs": [],
   "source": [
    "# fig = px.histogram(current_status_studies.loc[current_status_studies.start_year >= 2000], x=\"phase\", color='start_year_group', histnorm = 'probability', title = 'Study Start Year', labels = {'x': 'Study Start Year'})\n",
    "# fig.update_layout(yaxis_title=\"# of Studies\", \n",
    "#     autosize=False,\n",
    "#     width=1200,\n",
    "#     height=800)\n",
    "# fig.show()"
   ]
  },
  {
   "cell_type": "code",
   "execution_count": 347,
   "id": "5167ec18-6d86-4df4-a583-28b782b5d023",
   "metadata": {},
   "outputs": [
    {
     "data": {
      "text/plain": [
       "(24, 74)"
      ]
     },
     "execution_count": 347,
     "metadata": {},
     "output_type": "execute_result"
    }
   ],
   "source": [
    "current_status_studies.loc[(current_status_studies.start_date.isnull()) & (current_status_studies.completion_date.notnull())].shape"
   ]
  },
  {
   "cell_type": "markdown",
   "id": "b5d048eb-5e58-4a56-9d8a-6ca5f6e03f32",
   "metadata": {
    "tags": []
   },
   "source": [
    "# Sponsor Analysis\n",
    "\n",
    "some ideas\n",
    "- study duration by sponsor, per study?\n",
    "- split of study by sponsor type\n",
    "- results by sponsor?\n",
    "- outcome by sponsor?"
   ]
  },
  {
   "cell_type": "code",
   "execution_count": 106,
   "id": "8a75546e-886d-4773-8de1-c2c55e53fe2a",
   "metadata": {},
   "outputs": [],
   "source": [
    "# explore sponsor table"
   ]
  },
  {
   "cell_type": "code",
   "execution_count": 107,
   "id": "6d5d228a-593f-4204-8493-b270662a5550",
   "metadata": {},
   "outputs": [
    {
     "name": "stderr",
     "output_type": "stream",
     "text": [
      "C:\\Users\\Bryant\\AppData\\Local\\Temp\\ipykernel_17172\\3369965410.py:2: UserWarning:\n",
      "\n",
      "pandas only supports SQLAlchemy connectable (engine/connection) or database string URI or sqlite3 DBAPI2 connection. Other DBAPI2 objects are not tested. Please consider using SQLAlchemy.\n",
      "\n"
     ]
    }
   ],
   "source": [
    "query = \"select * from sponsors\"\n",
    "sponsors = pd.read_sql(query, connection)"
   ]
  },
  {
   "cell_type": "code",
   "execution_count": 108,
   "id": "3955991e-1d21-4324-9f59-8c399c0ae59f",
   "metadata": {},
   "outputs": [
    {
     "data": {
      "text/html": [
       "<div>\n",
       "<style scoped>\n",
       "    .dataframe tbody tr th:only-of-type {\n",
       "        vertical-align: middle;\n",
       "    }\n",
       "\n",
       "    .dataframe tbody tr th {\n",
       "        vertical-align: top;\n",
       "    }\n",
       "\n",
       "    .dataframe thead th {\n",
       "        text-align: right;\n",
       "    }\n",
       "</style>\n",
       "<table border=\"1\" class=\"dataframe\">\n",
       "  <thead>\n",
       "    <tr style=\"text-align: right;\">\n",
       "      <th></th>\n",
       "      <th>id</th>\n",
       "      <th>nct_id</th>\n",
       "      <th>agency_class</th>\n",
       "      <th>lead_or_collaborator</th>\n",
       "      <th>name</th>\n",
       "    </tr>\n",
       "  </thead>\n",
       "  <tbody>\n",
       "    <tr>\n",
       "      <th>0</th>\n",
       "      <td>23900107</td>\n",
       "      <td>NCT00669942</td>\n",
       "      <td>INDUSTRY</td>\n",
       "      <td>lead</td>\n",
       "      <td>Novartis Pharmaceuticals</td>\n",
       "    </tr>\n",
       "    <tr>\n",
       "      <th>1</th>\n",
       "      <td>23900108</td>\n",
       "      <td>NCT00669903</td>\n",
       "      <td>INDUSTRY</td>\n",
       "      <td>lead</td>\n",
       "      <td>AstraZeneca</td>\n",
       "    </tr>\n",
       "    <tr>\n",
       "      <th>2</th>\n",
       "      <td>23615524</td>\n",
       "      <td>NCT03876821</td>\n",
       "      <td>OTHER_GOV</td>\n",
       "      <td>lead</td>\n",
       "      <td>Institut National de la Santé Et de la Recherche Médicale, France</td>\n",
       "    </tr>\n",
       "    <tr>\n",
       "      <th>3</th>\n",
       "      <td>23615525</td>\n",
       "      <td>NCT03876821</td>\n",
       "      <td>OTHER</td>\n",
       "      <td>collaborator</td>\n",
       "      <td>Centre Hospitalier Sud Francilien</td>\n",
       "    </tr>\n",
       "    <tr>\n",
       "      <th>4</th>\n",
       "      <td>23615526</td>\n",
       "      <td>NCT03876535</td>\n",
       "      <td>INDUSTRY</td>\n",
       "      <td>lead</td>\n",
       "      <td>Nanomix</td>\n",
       "    </tr>\n",
       "  </tbody>\n",
       "</table>\n",
       "</div>"
      ],
      "text/plain": [
       "         id       nct_id agency_class lead_or_collaborator  \\\n",
       "0  23900107  NCT00669942     INDUSTRY                 lead   \n",
       "1  23900108  NCT00669903     INDUSTRY                 lead   \n",
       "2  23615524  NCT03876821    OTHER_GOV                 lead   \n",
       "3  23615525  NCT03876821        OTHER         collaborator   \n",
       "4  23615526  NCT03876535     INDUSTRY                 lead   \n",
       "\n",
       "                                                                name  \n",
       "0                                           Novartis Pharmaceuticals  \n",
       "1                                                        AstraZeneca  \n",
       "2  Institut National de la Santé Et de la Recherche Médicale, France  \n",
       "3                                  Centre Hospitalier Sud Francilien  \n",
       "4                                                            Nanomix  "
      ]
     },
     "execution_count": 108,
     "metadata": {},
     "output_type": "execute_result"
    }
   ],
   "source": [
    "# cuts by agency class, lead/collaborator\n",
    "sponsors.head()"
   ]
  },
  {
   "cell_type": "code",
   "execution_count": 425,
   "id": "33ea8155-3325-45fd-a559-6751ce403430",
   "metadata": {},
   "outputs": [
    {
     "name": "stdout",
     "output_type": "stream",
     "text": [
      "<class 'pandas.core.frame.DataFrame'>\n",
      "RangeIndex: 708937 entries, 0 to 708936\n",
      "Data columns (total 5 columns):\n",
      " #   Column                Non-Null Count   Dtype \n",
      "---  ------                --------------   ----- \n",
      " 0   id                    708937 non-null  int64 \n",
      " 1   nct_id                708937 non-null  object\n",
      " 2   agency_class          708098 non-null  object\n",
      " 3   lead_or_collaborator  708937 non-null  object\n",
      " 4   name                  708937 non-null  object\n",
      "dtypes: int64(1), object(4)\n",
      "memory usage: 27.0+ MB\n"
     ]
    }
   ],
   "source": [
    "sponsors.info()"
   ]
  },
  {
   "cell_type": "code",
   "execution_count": 426,
   "id": "5e2adf44-6241-4b92-8749-969e4e198850",
   "metadata": {},
   "outputs": [
    {
     "data": {
      "text/html": [
       "<div>\n",
       "<style scoped>\n",
       "    .dataframe tbody tr th:only-of-type {\n",
       "        vertical-align: middle;\n",
       "    }\n",
       "\n",
       "    .dataframe tbody tr th {\n",
       "        vertical-align: top;\n",
       "    }\n",
       "\n",
       "    .dataframe thead th {\n",
       "        text-align: right;\n",
       "    }\n",
       "</style>\n",
       "<table border=\"1\" class=\"dataframe\">\n",
       "  <thead>\n",
       "    <tr style=\"text-align: right;\">\n",
       "      <th></th>\n",
       "      <th>id</th>\n",
       "    </tr>\n",
       "  </thead>\n",
       "  <tbody>\n",
       "    <tr>\n",
       "      <th>count</th>\n",
       "      <td>7.089370e+05</td>\n",
       "    </tr>\n",
       "    <tr>\n",
       "      <th>mean</th>\n",
       "      <td>2.365447e+07</td>\n",
       "    </tr>\n",
       "    <tr>\n",
       "      <th>std</th>\n",
       "      <td>2.075438e+05</td>\n",
       "    </tr>\n",
       "    <tr>\n",
       "      <th>min</th>\n",
       "      <td>2.329435e+07</td>\n",
       "    </tr>\n",
       "    <tr>\n",
       "      <th>25%</th>\n",
       "      <td>2.347464e+07</td>\n",
       "    </tr>\n",
       "    <tr>\n",
       "      <th>50%</th>\n",
       "      <td>2.365448e+07</td>\n",
       "    </tr>\n",
       "    <tr>\n",
       "      <th>75%</th>\n",
       "      <td>2.383453e+07</td>\n",
       "    </tr>\n",
       "    <tr>\n",
       "      <th>max</th>\n",
       "      <td>2.401190e+07</td>\n",
       "    </tr>\n",
       "  </tbody>\n",
       "</table>\n",
       "</div>"
      ],
      "text/plain": [
       "                 id\n",
       "count  7.089370e+05\n",
       "mean   2.365447e+07\n",
       "std    2.075438e+05\n",
       "min    2.329435e+07\n",
       "25%    2.347464e+07\n",
       "50%    2.365448e+07\n",
       "75%    2.383453e+07\n",
       "max    2.401190e+07"
      ]
     },
     "execution_count": 426,
     "metadata": {},
     "output_type": "execute_result"
    }
   ],
   "source": [
    "sponsors.describe()"
   ]
  },
  {
   "cell_type": "code",
   "execution_count": 427,
   "id": "1d77423f-a86e-44b4-8820-591219f5b320",
   "metadata": {},
   "outputs": [
    {
     "name": "stdout",
     "output_type": "stream",
     "text": [
      "id                        0\n",
      "nct_id                    0\n",
      "agency_class            839\n",
      "lead_or_collaborator      0\n",
      "name                      0\n",
      "dtype: int64\n"
     ]
    }
   ],
   "source": [
    "with pd.option_context('display.max_rows', None): \n",
    "    print(sponsors.isna().sum())"
   ]
  },
  {
   "cell_type": "code",
   "execution_count": 614,
   "id": "0b42cc98-ea1d-4c89-9996-315ec8c6cff6",
   "metadata": {},
   "outputs": [
    {
     "data": {
      "text/plain": [
       "(708937, 5)"
      ]
     },
     "execution_count": 614,
     "metadata": {},
     "output_type": "execute_result"
    }
   ],
   "source": [
    "sponsors.shape"
   ]
  },
  {
   "cell_type": "code",
   "execution_count": 615,
   "id": "f7bd6341-b4d9-4751-9949-587f0966027e",
   "metadata": {},
   "outputs": [
    {
     "data": {
      "text/plain": [
       "708937"
      ]
     },
     "execution_count": 615,
     "metadata": {},
     "output_type": "execute_result"
    }
   ],
   "source": [
    "# not unique sponsor identifier\n",
    "sponsors.id.nunique()"
   ]
  },
  {
   "cell_type": "code",
   "execution_count": 109,
   "id": "84f391a1-de3a-4b30-a962-ff345a018d5b",
   "metadata": {},
   "outputs": [
    {
     "name": "stderr",
     "output_type": "stream",
     "text": [
      "C:\\Users\\Bryant\\AppData\\Local\\Temp\\ipykernel_17172\\3705824447.py:6: UserWarning:\n",
      "\n",
      "pandas only supports SQLAlchemy connectable (engine/connection) or database string URI or sqlite3 DBAPI2 connection. Other DBAPI2 objects are not tested. Please consider using SQLAlchemy.\n",
      "\n"
     ]
    }
   ],
   "source": [
    "# collaborators and leads per study\n",
    "\n",
    "query = \"\"\"select nct_id, \n",
    "sum(case when lead_or_collaborator = 'collaborator' then 1 else 0 end) collaborators,\n",
    "sum(case when lead_or_collaborator = 'lead' then 1 else 0 end) leads\n",
    "from sponsors\n",
    "group by 1\"\"\"\n",
    "sponsor_leads_collabs = pd.read_sql(query, connection)"
   ]
  },
  {
   "cell_type": "code",
   "execution_count": 132,
   "id": "0d9d86e3-2593-468f-9c44-367fcf3bda77",
   "metadata": {},
   "outputs": [
    {
     "name": "stderr",
     "output_type": "stream",
     "text": [
      "C:\\Users\\Bryant\\AppData\\Local\\Temp\\ipykernel_17172\\4110757718.py:6: UserWarning:\n",
      "\n",
      "pandas only supports SQLAlchemy connectable (engine/connection) or database string URI or sqlite3 DBAPI2 connection. Other DBAPI2 objects are not tested. Please consider using SQLAlchemy.\n",
      "\n"
     ]
    }
   ],
   "source": [
    "# lead and collaborator studies by sponsor\n",
    "\n",
    "query = \"\"\"select nct_id, name,\n",
    "sum(case when lead_or_collaborator = 'collaborator' then 1 else 0 end) collaborators,\n",
    "sum(case when lead_or_collaborator = 'lead' then 1 else 0 end) leads\n",
    "from sponsors\n",
    "group by 1, 2\"\"\"\n",
    "sanity_check = pd.read_sql(query, connection)"
   ]
  },
  {
   "cell_type": "code",
   "execution_count": 133,
   "id": "262d8281-24c1-46e5-883b-35d97c43fb31",
   "metadata": {},
   "outputs": [],
   "source": [
    "sanity_check['check'] = sanity_check.collaborators + sanity_check.leads"
   ]
  },
  {
   "cell_type": "code",
   "execution_count": 134,
   "id": "843603fc-3b52-4d44-8ea2-7f21f406e94d",
   "metadata": {},
   "outputs": [
    {
     "data": {
      "text/html": [
       "<div>\n",
       "<style scoped>\n",
       "    .dataframe tbody tr th:only-of-type {\n",
       "        vertical-align: middle;\n",
       "    }\n",
       "\n",
       "    .dataframe tbody tr th {\n",
       "        vertical-align: top;\n",
       "    }\n",
       "\n",
       "    .dataframe thead th {\n",
       "        text-align: right;\n",
       "    }\n",
       "</style>\n",
       "<table border=\"1\" class=\"dataframe\">\n",
       "  <thead>\n",
       "    <tr style=\"text-align: right;\">\n",
       "      <th></th>\n",
       "      <th>nct_id</th>\n",
       "      <th>name</th>\n",
       "      <th>collaborators</th>\n",
       "      <th>leads</th>\n",
       "      <th>check</th>\n",
       "    </tr>\n",
       "  </thead>\n",
       "  <tbody>\n",
       "    <tr>\n",
       "      <th>166064</th>\n",
       "      <td>NCT01359475</td>\n",
       "      <td>Uri Zilberman</td>\n",
       "      <td>1</td>\n",
       "      <td>1</td>\n",
       "      <td>2</td>\n",
       "    </tr>\n",
       "  </tbody>\n",
       "</table>\n",
       "</div>"
      ],
      "text/plain": [
       "             nct_id           name  collaborators  leads  check\n",
       "166064  NCT01359475  Uri Zilberman              1      1      2"
      ]
     },
     "execution_count": 134,
     "metadata": {},
     "output_type": "execute_result"
    }
   ],
   "source": [
    "sanity_check.loc[sanity_check.check == 2]"
   ]
  },
  {
   "cell_type": "code",
   "execution_count": 209,
   "id": "23690f6f-4a73-4b68-930b-6a404725630a",
   "metadata": {},
   "outputs": [
    {
     "data": {
      "text/html": [
       "<div>\n",
       "<style scoped>\n",
       "    .dataframe tbody tr th:only-of-type {\n",
       "        vertical-align: middle;\n",
       "    }\n",
       "\n",
       "    .dataframe tbody tr th {\n",
       "        vertical-align: top;\n",
       "    }\n",
       "\n",
       "    .dataframe thead th {\n",
       "        text-align: right;\n",
       "    }\n",
       "</style>\n",
       "<table border=\"1\" class=\"dataframe\">\n",
       "  <thead>\n",
       "    <tr style=\"text-align: right;\">\n",
       "      <th></th>\n",
       "      <th>nct_id</th>\n",
       "      <th>collaborators</th>\n",
       "      <th>leads</th>\n",
       "      <th>collaborator_group</th>\n",
       "    </tr>\n",
       "  </thead>\n",
       "  <tbody>\n",
       "    <tr>\n",
       "      <th>107098</th>\n",
       "      <td>NCT01359475</td>\n",
       "      <td>1</td>\n",
       "      <td>1</td>\n",
       "      <td>1</td>\n",
       "    </tr>\n",
       "  </tbody>\n",
       "</table>\n",
       "</div>"
      ],
      "text/plain": [
       "             nct_id  collaborators  leads collaborator_group\n",
       "107098  NCT01359475              1      1                  1"
      ]
     },
     "execution_count": 209,
     "metadata": {},
     "output_type": "execute_result"
    }
   ],
   "source": [
    "sponsor_leads_collabs.loc[sponsor_leads_collabs.nct_id == 'NCT01359475']"
   ]
  },
  {
   "cell_type": "code",
   "execution_count": 210,
   "id": "0b0a1c18-eecf-4b8e-a5df-b088f2d6dd4b",
   "metadata": {},
   "outputs": [],
   "source": [
    "sponsor_leads_collabs = sponsor_leads_collabs.loc[sponsor_leads_collabs.nct_id != 'NCT01359475']"
   ]
  },
  {
   "cell_type": "code",
   "execution_count": 211,
   "id": "f6563280-8dc9-4c0e-935b-8f1e62446962",
   "metadata": {},
   "outputs": [
    {
     "data": {
      "text/html": [
       "<div>\n",
       "<style scoped>\n",
       "    .dataframe tbody tr th:only-of-type {\n",
       "        vertical-align: middle;\n",
       "    }\n",
       "\n",
       "    .dataframe tbody tr th {\n",
       "        vertical-align: top;\n",
       "    }\n",
       "\n",
       "    .dataframe thead th {\n",
       "        text-align: right;\n",
       "    }\n",
       "</style>\n",
       "<table border=\"1\" class=\"dataframe\">\n",
       "  <thead>\n",
       "    <tr style=\"text-align: right;\">\n",
       "      <th></th>\n",
       "      <th>nct_id</th>\n",
       "      <th>collaborators</th>\n",
       "      <th>leads</th>\n",
       "      <th>collaborator_group</th>\n",
       "    </tr>\n",
       "  </thead>\n",
       "  <tbody>\n",
       "    <tr>\n",
       "      <th>0</th>\n",
       "      <td>NCT00000102</td>\n",
       "      <td>0</td>\n",
       "      <td>1</td>\n",
       "      <td>0</td>\n",
       "    </tr>\n",
       "    <tr>\n",
       "      <th>2</th>\n",
       "      <td>NCT00000105</td>\n",
       "      <td>0</td>\n",
       "      <td>1</td>\n",
       "      <td>0</td>\n",
       "    </tr>\n",
       "    <tr>\n",
       "      <th>3</th>\n",
       "      <td>NCT00000106</td>\n",
       "      <td>0</td>\n",
       "      <td>1</td>\n",
       "      <td>0</td>\n",
       "    </tr>\n",
       "    <tr>\n",
       "      <th>4</th>\n",
       "      <td>NCT00000107</td>\n",
       "      <td>0</td>\n",
       "      <td>1</td>\n",
       "      <td>0</td>\n",
       "    </tr>\n",
       "    <tr>\n",
       "      <th>5</th>\n",
       "      <td>NCT00000108</td>\n",
       "      <td>0</td>\n",
       "      <td>1</td>\n",
       "      <td>0</td>\n",
       "    </tr>\n",
       "    <tr>\n",
       "      <th>...</th>\n",
       "      <td>...</td>\n",
       "      <td>...</td>\n",
       "      <td>...</td>\n",
       "      <td>...</td>\n",
       "    </tr>\n",
       "    <tr>\n",
       "      <th>441909</th>\n",
       "      <td>NCT05726292</td>\n",
       "      <td>0</td>\n",
       "      <td>1</td>\n",
       "      <td>0</td>\n",
       "    </tr>\n",
       "    <tr>\n",
       "      <th>441910</th>\n",
       "      <td>NCT05726305</td>\n",
       "      <td>0</td>\n",
       "      <td>1</td>\n",
       "      <td>0</td>\n",
       "    </tr>\n",
       "    <tr>\n",
       "      <th>441913</th>\n",
       "      <td>NCT05726344</td>\n",
       "      <td>0</td>\n",
       "      <td>1</td>\n",
       "      <td>0</td>\n",
       "    </tr>\n",
       "    <tr>\n",
       "      <th>441914</th>\n",
       "      <td>NCT05726357</td>\n",
       "      <td>0</td>\n",
       "      <td>1</td>\n",
       "      <td>0</td>\n",
       "    </tr>\n",
       "    <tr>\n",
       "      <th>441917</th>\n",
       "      <td>NCT05726396</td>\n",
       "      <td>0</td>\n",
       "      <td>1</td>\n",
       "      <td>0</td>\n",
       "    </tr>\n",
       "  </tbody>\n",
       "</table>\n",
       "<p>296235 rows × 4 columns</p>\n",
       "</div>"
      ],
      "text/plain": [
       "             nct_id  collaborators  leads collaborator_group\n",
       "0       NCT00000102              0      1                  0\n",
       "2       NCT00000105              0      1                  0\n",
       "3       NCT00000106              0      1                  0\n",
       "4       NCT00000107              0      1                  0\n",
       "5       NCT00000108              0      1                  0\n",
       "...             ...            ...    ...                ...\n",
       "441909  NCT05726292              0      1                  0\n",
       "441910  NCT05726305              0      1                  0\n",
       "441913  NCT05726344              0      1                  0\n",
       "441914  NCT05726357              0      1                  0\n",
       "441917  NCT05726396              0      1                  0\n",
       "\n",
       "[296235 rows x 4 columns]"
      ]
     },
     "execution_count": 211,
     "metadata": {},
     "output_type": "execute_result"
    }
   ],
   "source": [
    "sponsor_leads_collabs.loc[sponsor_leads_collabs.collaborators == 0]"
   ]
  },
  {
   "cell_type": "code",
   "execution_count": 212,
   "id": "fff30079-301f-4f95-8b9b-121031dbed8d",
   "metadata": {},
   "outputs": [
    {
     "data": {
      "text/html": [
       "<div>\n",
       "<style scoped>\n",
       "    .dataframe tbody tr th:only-of-type {\n",
       "        vertical-align: middle;\n",
       "    }\n",
       "\n",
       "    .dataframe tbody tr th {\n",
       "        vertical-align: top;\n",
       "    }\n",
       "\n",
       "    .dataframe thead th {\n",
       "        text-align: right;\n",
       "    }\n",
       "</style>\n",
       "<table border=\"1\" class=\"dataframe\">\n",
       "  <thead>\n",
       "    <tr style=\"text-align: right;\">\n",
       "      <th></th>\n",
       "      <th>nct_id</th>\n",
       "      <th>collaborators</th>\n",
       "      <th>leads</th>\n",
       "      <th>collaborator_group</th>\n",
       "    </tr>\n",
       "  </thead>\n",
       "  <tbody>\n",
       "  </tbody>\n",
       "</table>\n",
       "</div>"
      ],
      "text/plain": [
       "Empty DataFrame\n",
       "Columns: [nct_id, collaborators, leads, collaborator_group]\n",
       "Index: []"
      ]
     },
     "execution_count": 212,
     "metadata": {},
     "output_type": "execute_result"
    }
   ],
   "source": [
    "# all studies have at least 1 lead\n",
    "sponsor_leads_collabs.loc[sponsor_leads_collabs.leads == 0]"
   ]
  },
  {
   "cell_type": "code",
   "execution_count": 213,
   "id": "83a01929-c935-4868-9647-435313f0f506",
   "metadata": {},
   "outputs": [
    {
     "data": {
      "text/html": [
       "<div>\n",
       "<style scoped>\n",
       "    .dataframe tbody tr th:only-of-type {\n",
       "        vertical-align: middle;\n",
       "    }\n",
       "\n",
       "    .dataframe tbody tr th {\n",
       "        vertical-align: top;\n",
       "    }\n",
       "\n",
       "    .dataframe thead th {\n",
       "        text-align: right;\n",
       "    }\n",
       "</style>\n",
       "<table border=\"1\" class=\"dataframe\">\n",
       "  <thead>\n",
       "    <tr style=\"text-align: right;\">\n",
       "      <th></th>\n",
       "      <th>nct_id</th>\n",
       "      <th>collaborators</th>\n",
       "      <th>leads</th>\n",
       "      <th>collaborator_group</th>\n",
       "    </tr>\n",
       "  </thead>\n",
       "  <tbody>\n",
       "  </tbody>\n",
       "</table>\n",
       "</div>"
      ],
      "text/plain": [
       "Empty DataFrame\n",
       "Columns: [nct_id, collaborators, leads, collaborator_group]\n",
       "Index: []"
      ]
     },
     "execution_count": 213,
     "metadata": {},
     "output_type": "execute_result"
    }
   ],
   "source": [
    "# no studies with 2+ leads\n",
    "sponsor_leads_collabs.loc[sponsor_leads_collabs.leads >= 2]"
   ]
  },
  {
   "cell_type": "code",
   "execution_count": 214,
   "id": "9fb642a0-6414-4322-b4e2-73e84c883680",
   "metadata": {},
   "outputs": [
    {
     "data": {
      "text/html": [
       "<div>\n",
       "<style scoped>\n",
       "    .dataframe tbody tr th:only-of-type {\n",
       "        vertical-align: middle;\n",
       "    }\n",
       "\n",
       "    .dataframe tbody tr th {\n",
       "        vertical-align: top;\n",
       "    }\n",
       "\n",
       "    .dataframe thead th {\n",
       "        text-align: right;\n",
       "    }\n",
       "</style>\n",
       "<table border=\"1\" class=\"dataframe\">\n",
       "  <thead>\n",
       "    <tr style=\"text-align: right;\">\n",
       "      <th></th>\n",
       "      <th>nct_id</th>\n",
       "      <th>collaborators</th>\n",
       "      <th>leads</th>\n",
       "      <th>collaborator_group</th>\n",
       "    </tr>\n",
       "  </thead>\n",
       "  <tbody>\n",
       "    <tr>\n",
       "      <th>1</th>\n",
       "      <td>NCT00000104</td>\n",
       "      <td>1</td>\n",
       "      <td>1</td>\n",
       "      <td>1</td>\n",
       "    </tr>\n",
       "    <tr>\n",
       "      <th>9</th>\n",
       "      <td>NCT00000113</td>\n",
       "      <td>1</td>\n",
       "      <td>1</td>\n",
       "      <td>1</td>\n",
       "    </tr>\n",
       "    <tr>\n",
       "      <th>21</th>\n",
       "      <td>NCT00000125</td>\n",
       "      <td>1</td>\n",
       "      <td>1</td>\n",
       "      <td>1</td>\n",
       "    </tr>\n",
       "    <tr>\n",
       "      <th>30</th>\n",
       "      <td>NCT00000134</td>\n",
       "      <td>16</td>\n",
       "      <td>1</td>\n",
       "      <td>6+</td>\n",
       "    </tr>\n",
       "    <tr>\n",
       "      <th>32</th>\n",
       "      <td>NCT00000136</td>\n",
       "      <td>15</td>\n",
       "      <td>1</td>\n",
       "      <td>6+</td>\n",
       "    </tr>\n",
       "    <tr>\n",
       "      <th>...</th>\n",
       "      <td>...</td>\n",
       "      <td>...</td>\n",
       "      <td>...</td>\n",
       "      <td>...</td>\n",
       "    </tr>\n",
       "    <tr>\n",
       "      <th>441911</th>\n",
       "      <td>NCT05726318</td>\n",
       "      <td>1</td>\n",
       "      <td>1</td>\n",
       "      <td>1</td>\n",
       "    </tr>\n",
       "    <tr>\n",
       "      <th>441912</th>\n",
       "      <td>NCT05726331</td>\n",
       "      <td>1</td>\n",
       "      <td>1</td>\n",
       "      <td>1</td>\n",
       "    </tr>\n",
       "    <tr>\n",
       "      <th>441915</th>\n",
       "      <td>NCT05726370</td>\n",
       "      <td>1</td>\n",
       "      <td>1</td>\n",
       "      <td>1</td>\n",
       "    </tr>\n",
       "    <tr>\n",
       "      <th>441916</th>\n",
       "      <td>NCT05726383</td>\n",
       "      <td>4</td>\n",
       "      <td>1</td>\n",
       "      <td>4</td>\n",
       "    </tr>\n",
       "    <tr>\n",
       "      <th>441918</th>\n",
       "      <td>NCT05726409</td>\n",
       "      <td>1</td>\n",
       "      <td>1</td>\n",
       "      <td>1</td>\n",
       "    </tr>\n",
       "  </tbody>\n",
       "</table>\n",
       "<p>145683 rows × 4 columns</p>\n",
       "</div>"
      ],
      "text/plain": [
       "             nct_id  collaborators  leads collaborator_group\n",
       "1       NCT00000104              1      1                  1\n",
       "9       NCT00000113              1      1                  1\n",
       "21      NCT00000125              1      1                  1\n",
       "30      NCT00000134             16      1                 6+\n",
       "32      NCT00000136             15      1                 6+\n",
       "...             ...            ...    ...                ...\n",
       "441911  NCT05726318              1      1                  1\n",
       "441912  NCT05726331              1      1                  1\n",
       "441915  NCT05726370              1      1                  1\n",
       "441916  NCT05726383              4      1                  4\n",
       "441918  NCT05726409              1      1                  1\n",
       "\n",
       "[145683 rows x 4 columns]"
      ]
     },
     "execution_count": 214,
     "metadata": {},
     "output_type": "execute_result"
    }
   ],
   "source": [
    "sponsor_leads_collabs.loc[(sponsor_leads_collabs.leads == 1) & (sponsor_leads_collabs.collaborators > 0)]"
   ]
  },
  {
   "cell_type": "code",
   "execution_count": 351,
   "id": "2a797529-2e1c-4023-aabd-bed4014422b7",
   "metadata": {},
   "outputs": [
    {
     "data": {
      "text/plain": [
       "(441918, 441918)"
      ]
     },
     "execution_count": 351,
     "metadata": {},
     "output_type": "execute_result"
    }
   ],
   "source": [
    "# all studies have one and only one lead\n",
    "145683+296235, sponsor_leads_collabs.shape[0]"
   ]
  },
  {
   "cell_type": "code",
   "execution_count": 352,
   "id": "3ad5c662-4582-4223-a28a-7f444745f6af",
   "metadata": {},
   "outputs": [
    {
     "data": {
      "text/plain": [
       "0     0.670339\n",
       "1     0.222387\n",
       "2     0.056397\n",
       "3     0.021316\n",
       "4     0.010726\n",
       "5     0.005775\n",
       "6     0.003464\n",
       "7     0.002338\n",
       "8     0.001604\n",
       "9     0.001161\n",
       "10    0.000880\n",
       "11    0.000649\n",
       "12    0.000496\n",
       "13    0.000373\n",
       "14    0.000333\n",
       "15    0.000283\n",
       "16    0.000201\n",
       "17    0.000165\n",
       "18    0.000131\n",
       "19    0.000124\n",
       "21    0.000111\n",
       "20    0.000102\n",
       "22    0.000070\n",
       "23    0.000057\n",
       "24    0.000054\n",
       "Name: collaborators, dtype: float64"
      ]
     },
     "execution_count": 352,
     "metadata": {},
     "output_type": "execute_result"
    }
   ],
   "source": [
    "sponsor_leads_collabs.collaborators.value_counts(normalize=True).head(25)"
   ]
  },
  {
   "cell_type": "code",
   "execution_count": null,
   "id": "8dc281da-4216-42b1-83ce-bfdb514a3241",
   "metadata": {},
   "outputs": [],
   "source": [
    "sponsor_leads_collabs['collaborator_group'] = sponsor_leads_collabs.collaborators.apply(lambda x: str(x) if x < 6 else '6+')"
   ]
  },
  {
   "cell_type": "code",
   "execution_count": 377,
   "id": "6c40af97-a6ca-40a7-8bdc-d4369385582a",
   "metadata": {},
   "outputs": [],
   "source": [
    "current_sponsors = current_status_studies.merge(sponsor_leads_collabs)"
   ]
  },
  {
   "cell_type": "code",
   "execution_count": 7,
   "id": "8ea7e851-8828-4776-821c-27a7ef9a70de",
   "metadata": {},
   "outputs": [],
   "source": [
    "# current_sponsors.sort_values(['start_year_group', 'collaborator_group'], inplace=True)\n",
    "# fig = px.histogram(current_sponsors.loc[(current_sponsors.start_year != 0)], x=\"collaborator_group\", color='start_year_group', barmode = 'group', histnorm = 'percent',\n",
    "#                    title = 'Number of Collaborators by Current Study Start Year')\n",
    "# fig.update_layout(yaxis_title=\"% of Current Studies\", xaxis_title = 'Collaborators', \n",
    "#     autosize=False,\n",
    "#     width=1200,\n",
    "#     height=800)\n",
    "# fig.show()"
   ]
  },
  {
   "cell_type": "code",
   "execution_count": 396,
   "id": "56157dbd-8bd0-4648-92f0-77b7841c0b3a",
   "metadata": {},
   "outputs": [],
   "source": [
    "current_study_sponsors = sponsors.merge(current_status_studies)"
   ]
  },
  {
   "cell_type": "code",
   "execution_count": 430,
   "id": "02240706-e755-4013-8378-1471fe107e02",
   "metadata": {},
   "outputs": [],
   "source": [
    "current_study_sponsors.agency_class.fillna('UNKNOWN', inplace=True)"
   ]
  },
  {
   "cell_type": "code",
   "execution_count": 431,
   "id": "fce7f5cf-c55d-422a-97ab-6f6392eb7469",
   "metadata": {},
   "outputs": [],
   "source": [
    "agency_lead_collab = pd.pivot_table(current_study_sponsors, values = 'nct_id', index = 'agency_class', columns = 'lead_or_collaborator', aggfunc = 'count')"
   ]
  },
  {
   "cell_type": "code",
   "execution_count": 432,
   "id": "f0fa3ff5-740c-4b8c-ae86-b8f2c02b57ba",
   "metadata": {},
   "outputs": [],
   "source": [
    "agency_lead_collab.fillna(0, inplace = True)\n",
    "agency_lead_collab.reset_index(inplace = True)"
   ]
  },
  {
   "cell_type": "code",
   "execution_count": 433,
   "id": "f9db0011-0898-4652-9e00-34ce669dce4a",
   "metadata": {},
   "outputs": [
    {
     "data": {
      "text/html": [
       "<div>\n",
       "<style scoped>\n",
       "    .dataframe tbody tr th:only-of-type {\n",
       "        vertical-align: middle;\n",
       "    }\n",
       "\n",
       "    .dataframe tbody tr th {\n",
       "        vertical-align: top;\n",
       "    }\n",
       "\n",
       "    .dataframe thead th {\n",
       "        text-align: right;\n",
       "    }\n",
       "</style>\n",
       "<table border=\"1\" class=\"dataframe\">\n",
       "  <thead>\n",
       "    <tr style=\"text-align: right;\">\n",
       "      <th>lead_or_collaborator</th>\n",
       "      <th>agency_class</th>\n",
       "      <th>collaborator</th>\n",
       "      <th>lead</th>\n",
       "    </tr>\n",
       "  </thead>\n",
       "  <tbody>\n",
       "    <tr>\n",
       "      <th>0</th>\n",
       "      <td>AMBIG</td>\n",
       "      <td>30.0</td>\n",
       "      <td>0.0</td>\n",
       "    </tr>\n",
       "    <tr>\n",
       "      <th>1</th>\n",
       "      <td>FED</td>\n",
       "      <td>1589.0</td>\n",
       "      <td>1255.0</td>\n",
       "    </tr>\n",
       "    <tr>\n",
       "      <th>2</th>\n",
       "      <td>INDIV</td>\n",
       "      <td>55.0</td>\n",
       "      <td>177.0</td>\n",
       "    </tr>\n",
       "    <tr>\n",
       "      <th>3</th>\n",
       "      <td>INDUSTRY</td>\n",
       "      <td>14406.0</td>\n",
       "      <td>23888.0</td>\n",
       "    </tr>\n",
       "    <tr>\n",
       "      <th>4</th>\n",
       "      <td>NETWORK</td>\n",
       "      <td>671.0</td>\n",
       "      <td>1315.0</td>\n",
       "    </tr>\n",
       "    <tr>\n",
       "      <th>5</th>\n",
       "      <td>NIH</td>\n",
       "      <td>8776.0</td>\n",
       "      <td>2001.0</td>\n",
       "    </tr>\n",
       "    <tr>\n",
       "      <th>6</th>\n",
       "      <td>OTHER</td>\n",
       "      <td>64853.0</td>\n",
       "      <td>127742.0</td>\n",
       "    </tr>\n",
       "    <tr>\n",
       "      <th>7</th>\n",
       "      <td>OTHER_GOV</td>\n",
       "      <td>5829.0</td>\n",
       "      <td>5732.0</td>\n",
       "    </tr>\n",
       "    <tr>\n",
       "      <th>8</th>\n",
       "      <td>UNKNOWN</td>\n",
       "      <td>20237.0</td>\n",
       "      <td>869.0</td>\n",
       "    </tr>\n",
       "  </tbody>\n",
       "</table>\n",
       "</div>"
      ],
      "text/plain": [
       "lead_or_collaborator agency_class  collaborator      lead\n",
       "0                           AMBIG          30.0       0.0\n",
       "1                             FED        1589.0    1255.0\n",
       "2                           INDIV          55.0     177.0\n",
       "3                        INDUSTRY       14406.0   23888.0\n",
       "4                         NETWORK         671.0    1315.0\n",
       "5                             NIH        8776.0    2001.0\n",
       "6                           OTHER       64853.0  127742.0\n",
       "7                       OTHER_GOV        5829.0    5732.0\n",
       "8                         UNKNOWN       20237.0     869.0"
      ]
     },
     "execution_count": 433,
     "metadata": {},
     "output_type": "execute_result"
    }
   ],
   "source": [
    "agency_lead_collab"
   ]
  },
  {
   "cell_type": "code",
   "execution_count": 434,
   "id": "f83de98a-7d91-4102-a995-b5ce14f236d0",
   "metadata": {},
   "outputs": [
    {
     "data": {
      "text/plain": [
       "162979"
      ]
     },
     "execution_count": 434,
     "metadata": {},
     "output_type": "execute_result"
    }
   ],
   "source": [
    "current_study_sponsors.nct_id.nunique()"
   ]
  },
  {
   "cell_type": "code",
   "execution_count": 435,
   "id": "18379c78-c184-4acd-afd8-2ab8cad99e8f",
   "metadata": {},
   "outputs": [
    {
     "data": {
      "text/plain": [
       "lead            162979\n",
       "collaborator    116446\n",
       "Name: lead_or_collaborator, dtype: int64"
      ]
     },
     "execution_count": 435,
     "metadata": {},
     "output_type": "execute_result"
    }
   ],
   "source": [
    "current_study_sponsors.lead_or_collaborator.value_counts()"
   ]
  },
  {
   "cell_type": "code",
   "execution_count": 436,
   "id": "d79f756d-a8d9-4443-81ae-037658f0d454",
   "metadata": {},
   "outputs": [
    {
     "data": {
      "text/plain": [
       "162979.0"
      ]
     },
     "execution_count": 436,
     "metadata": {},
     "output_type": "execute_result"
    }
   ],
   "source": [
    "agency_lead_collab.lead.sum()"
   ]
  },
  {
   "cell_type": "code",
   "execution_count": 8,
   "id": "0f1471fe-cf63-4b13-b113-623a68777539",
   "metadata": {},
   "outputs": [],
   "source": [
    "# fig = go.Figure()\n",
    "# fig.add_trace(go.Histogram(histfunc=\"sum\",\n",
    "#                             x=agency_lead_collab.agency_class,\n",
    "#                             y = agency_lead_collab.lead,\n",
    "#                            histnorm='percent',\n",
    "#                            name=\"lead\"))\n",
    "# fig.add_trace(go.Histogram(histfunc=\"sum\",\n",
    "#                             x=agency_lead_collab.agency_class,\n",
    "#                             y = agency_lead_collab.collaborator,\n",
    "#                            histnorm='percent',\n",
    "#                            name=\"collaborator\"))\n",
    "# fig.update_layout(yaxis_title=\"% of Leads or Collaborators\", xaxis_title = 'Agency Class', title = 'Current Study Lead or Collaborator Percentage by Agency Class') \n",
    "# fig.show()"
   ]
  },
  {
   "cell_type": "code",
   "execution_count": 437,
   "id": "9cfd8c11-dfaf-45a7-bac8-23d5185eab5e",
   "metadata": {},
   "outputs": [
    {
     "data": {
      "application/vnd.plotly.v1+json": {
       "config": {
        "plotlyServerURL": "https://plot.ly"
       },
       "data": [
        {
         "alignmentgroup": "True",
         "bingroup": "x",
         "histfunc": "sum",
         "histnorm": "percent",
         "hovertemplate": "agency_class=%{x}<br>percent of sum of lead=%{y}<extra></extra>",
         "legendgroup": "",
         "marker": {
          "color": "#636efa",
          "pattern": {
           "shape": ""
          }
         },
         "name": "",
         "offsetgroup": "",
         "orientation": "v",
         "showlegend": false,
         "texttemplate": "%{value}",
         "type": "histogram",
         "x": [
          "AMBIG",
          "FED",
          "INDIV",
          "INDUSTRY",
          "NETWORK",
          "NIH",
          "OTHER",
          "OTHER_GOV",
          "UNKNOWN"
         ],
         "xaxis": "x",
         "y": [
          0,
          1255,
          177,
          23888,
          1315,
          2001,
          127742,
          5732,
          869
         ],
         "yaxis": "y"
        }
       ],
       "layout": {
        "autosize": true,
        "barmode": "relative",
        "legend": {
         "tracegroupgap": 0
        },
        "template": {
         "data": {
          "bar": [
           {
            "error_x": {
             "color": "#2a3f5f"
            },
            "error_y": {
             "color": "#2a3f5f"
            },
            "marker": {
             "line": {
              "color": "#E5ECF6",
              "width": 0.5
             },
             "pattern": {
              "fillmode": "overlay",
              "size": 10,
              "solidity": 0.2
             }
            },
            "type": "bar"
           }
          ],
          "barpolar": [
           {
            "marker": {
             "line": {
              "color": "#E5ECF6",
              "width": 0.5
             },
             "pattern": {
              "fillmode": "overlay",
              "size": 10,
              "solidity": 0.2
             }
            },
            "type": "barpolar"
           }
          ],
          "carpet": [
           {
            "aaxis": {
             "endlinecolor": "#2a3f5f",
             "gridcolor": "white",
             "linecolor": "white",
             "minorgridcolor": "white",
             "startlinecolor": "#2a3f5f"
            },
            "baxis": {
             "endlinecolor": "#2a3f5f",
             "gridcolor": "white",
             "linecolor": "white",
             "minorgridcolor": "white",
             "startlinecolor": "#2a3f5f"
            },
            "type": "carpet"
           }
          ],
          "choropleth": [
           {
            "colorbar": {
             "outlinewidth": 0,
             "ticks": ""
            },
            "type": "choropleth"
           }
          ],
          "contour": [
           {
            "colorbar": {
             "outlinewidth": 0,
             "ticks": ""
            },
            "colorscale": [
             [
              0,
              "#0d0887"
             ],
             [
              0.1111111111111111,
              "#46039f"
             ],
             [
              0.2222222222222222,
              "#7201a8"
             ],
             [
              0.3333333333333333,
              "#9c179e"
             ],
             [
              0.4444444444444444,
              "#bd3786"
             ],
             [
              0.5555555555555556,
              "#d8576b"
             ],
             [
              0.6666666666666666,
              "#ed7953"
             ],
             [
              0.7777777777777778,
              "#fb9f3a"
             ],
             [
              0.8888888888888888,
              "#fdca26"
             ],
             [
              1,
              "#f0f921"
             ]
            ],
            "type": "contour"
           }
          ],
          "contourcarpet": [
           {
            "colorbar": {
             "outlinewidth": 0,
             "ticks": ""
            },
            "type": "contourcarpet"
           }
          ],
          "heatmap": [
           {
            "colorbar": {
             "outlinewidth": 0,
             "ticks": ""
            },
            "colorscale": [
             [
              0,
              "#0d0887"
             ],
             [
              0.1111111111111111,
              "#46039f"
             ],
             [
              0.2222222222222222,
              "#7201a8"
             ],
             [
              0.3333333333333333,
              "#9c179e"
             ],
             [
              0.4444444444444444,
              "#bd3786"
             ],
             [
              0.5555555555555556,
              "#d8576b"
             ],
             [
              0.6666666666666666,
              "#ed7953"
             ],
             [
              0.7777777777777778,
              "#fb9f3a"
             ],
             [
              0.8888888888888888,
              "#fdca26"
             ],
             [
              1,
              "#f0f921"
             ]
            ],
            "type": "heatmap"
           }
          ],
          "heatmapgl": [
           {
            "colorbar": {
             "outlinewidth": 0,
             "ticks": ""
            },
            "colorscale": [
             [
              0,
              "#0d0887"
             ],
             [
              0.1111111111111111,
              "#46039f"
             ],
             [
              0.2222222222222222,
              "#7201a8"
             ],
             [
              0.3333333333333333,
              "#9c179e"
             ],
             [
              0.4444444444444444,
              "#bd3786"
             ],
             [
              0.5555555555555556,
              "#d8576b"
             ],
             [
              0.6666666666666666,
              "#ed7953"
             ],
             [
              0.7777777777777778,
              "#fb9f3a"
             ],
             [
              0.8888888888888888,
              "#fdca26"
             ],
             [
              1,
              "#f0f921"
             ]
            ],
            "type": "heatmapgl"
           }
          ],
          "histogram": [
           {
            "marker": {
             "pattern": {
              "fillmode": "overlay",
              "size": 10,
              "solidity": 0.2
             }
            },
            "type": "histogram"
           }
          ],
          "histogram2d": [
           {
            "colorbar": {
             "outlinewidth": 0,
             "ticks": ""
            },
            "colorscale": [
             [
              0,
              "#0d0887"
             ],
             [
              0.1111111111111111,
              "#46039f"
             ],
             [
              0.2222222222222222,
              "#7201a8"
             ],
             [
              0.3333333333333333,
              "#9c179e"
             ],
             [
              0.4444444444444444,
              "#bd3786"
             ],
             [
              0.5555555555555556,
              "#d8576b"
             ],
             [
              0.6666666666666666,
              "#ed7953"
             ],
             [
              0.7777777777777778,
              "#fb9f3a"
             ],
             [
              0.8888888888888888,
              "#fdca26"
             ],
             [
              1,
              "#f0f921"
             ]
            ],
            "type": "histogram2d"
           }
          ],
          "histogram2dcontour": [
           {
            "colorbar": {
             "outlinewidth": 0,
             "ticks": ""
            },
            "colorscale": [
             [
              0,
              "#0d0887"
             ],
             [
              0.1111111111111111,
              "#46039f"
             ],
             [
              0.2222222222222222,
              "#7201a8"
             ],
             [
              0.3333333333333333,
              "#9c179e"
             ],
             [
              0.4444444444444444,
              "#bd3786"
             ],
             [
              0.5555555555555556,
              "#d8576b"
             ],
             [
              0.6666666666666666,
              "#ed7953"
             ],
             [
              0.7777777777777778,
              "#fb9f3a"
             ],
             [
              0.8888888888888888,
              "#fdca26"
             ],
             [
              1,
              "#f0f921"
             ]
            ],
            "type": "histogram2dcontour"
           }
          ],
          "mesh3d": [
           {
            "colorbar": {
             "outlinewidth": 0,
             "ticks": ""
            },
            "type": "mesh3d"
           }
          ],
          "parcoords": [
           {
            "line": {
             "colorbar": {
              "outlinewidth": 0,
              "ticks": ""
             }
            },
            "type": "parcoords"
           }
          ],
          "pie": [
           {
            "automargin": true,
            "type": "pie"
           }
          ],
          "scatter": [
           {
            "fillpattern": {
             "fillmode": "overlay",
             "size": 10,
             "solidity": 0.2
            },
            "type": "scatter"
           }
          ],
          "scatter3d": [
           {
            "line": {
             "colorbar": {
              "outlinewidth": 0,
              "ticks": ""
             }
            },
            "marker": {
             "colorbar": {
              "outlinewidth": 0,
              "ticks": ""
             }
            },
            "type": "scatter3d"
           }
          ],
          "scattercarpet": [
           {
            "marker": {
             "colorbar": {
              "outlinewidth": 0,
              "ticks": ""
             }
            },
            "type": "scattercarpet"
           }
          ],
          "scattergeo": [
           {
            "marker": {
             "colorbar": {
              "outlinewidth": 0,
              "ticks": ""
             }
            },
            "type": "scattergeo"
           }
          ],
          "scattergl": [
           {
            "marker": {
             "colorbar": {
              "outlinewidth": 0,
              "ticks": ""
             }
            },
            "type": "scattergl"
           }
          ],
          "scattermapbox": [
           {
            "marker": {
             "colorbar": {
              "outlinewidth": 0,
              "ticks": ""
             }
            },
            "type": "scattermapbox"
           }
          ],
          "scatterpolar": [
           {
            "marker": {
             "colorbar": {
              "outlinewidth": 0,
              "ticks": ""
             }
            },
            "type": "scatterpolar"
           }
          ],
          "scatterpolargl": [
           {
            "marker": {
             "colorbar": {
              "outlinewidth": 0,
              "ticks": ""
             }
            },
            "type": "scatterpolargl"
           }
          ],
          "scatterternary": [
           {
            "marker": {
             "colorbar": {
              "outlinewidth": 0,
              "ticks": ""
             }
            },
            "type": "scatterternary"
           }
          ],
          "surface": [
           {
            "colorbar": {
             "outlinewidth": 0,
             "ticks": ""
            },
            "colorscale": [
             [
              0,
              "#0d0887"
             ],
             [
              0.1111111111111111,
              "#46039f"
             ],
             [
              0.2222222222222222,
              "#7201a8"
             ],
             [
              0.3333333333333333,
              "#9c179e"
             ],
             [
              0.4444444444444444,
              "#bd3786"
             ],
             [
              0.5555555555555556,
              "#d8576b"
             ],
             [
              0.6666666666666666,
              "#ed7953"
             ],
             [
              0.7777777777777778,
              "#fb9f3a"
             ],
             [
              0.8888888888888888,
              "#fdca26"
             ],
             [
              1,
              "#f0f921"
             ]
            ],
            "type": "surface"
           }
          ],
          "table": [
           {
            "cells": {
             "fill": {
              "color": "#EBF0F8"
             },
             "line": {
              "color": "white"
             }
            },
            "header": {
             "fill": {
              "color": "#C8D4E3"
             },
             "line": {
              "color": "white"
             }
            },
            "type": "table"
           }
          ]
         },
         "layout": {
          "annotationdefaults": {
           "arrowcolor": "#2a3f5f",
           "arrowhead": 0,
           "arrowwidth": 1
          },
          "autotypenumbers": "strict",
          "coloraxis": {
           "colorbar": {
            "outlinewidth": 0,
            "ticks": ""
           }
          },
          "colorscale": {
           "diverging": [
            [
             0,
             "#8e0152"
            ],
            [
             0.1,
             "#c51b7d"
            ],
            [
             0.2,
             "#de77ae"
            ],
            [
             0.3,
             "#f1b6da"
            ],
            [
             0.4,
             "#fde0ef"
            ],
            [
             0.5,
             "#f7f7f7"
            ],
            [
             0.6,
             "#e6f5d0"
            ],
            [
             0.7,
             "#b8e186"
            ],
            [
             0.8,
             "#7fbc41"
            ],
            [
             0.9,
             "#4d9221"
            ],
            [
             1,
             "#276419"
            ]
           ],
           "sequential": [
            [
             0,
             "#0d0887"
            ],
            [
             0.1111111111111111,
             "#46039f"
            ],
            [
             0.2222222222222222,
             "#7201a8"
            ],
            [
             0.3333333333333333,
             "#9c179e"
            ],
            [
             0.4444444444444444,
             "#bd3786"
            ],
            [
             0.5555555555555556,
             "#d8576b"
            ],
            [
             0.6666666666666666,
             "#ed7953"
            ],
            [
             0.7777777777777778,
             "#fb9f3a"
            ],
            [
             0.8888888888888888,
             "#fdca26"
            ],
            [
             1,
             "#f0f921"
            ]
           ],
           "sequentialminus": [
            [
             0,
             "#0d0887"
            ],
            [
             0.1111111111111111,
             "#46039f"
            ],
            [
             0.2222222222222222,
             "#7201a8"
            ],
            [
             0.3333333333333333,
             "#9c179e"
            ],
            [
             0.4444444444444444,
             "#bd3786"
            ],
            [
             0.5555555555555556,
             "#d8576b"
            ],
            [
             0.6666666666666666,
             "#ed7953"
            ],
            [
             0.7777777777777778,
             "#fb9f3a"
            ],
            [
             0.8888888888888888,
             "#fdca26"
            ],
            [
             1,
             "#f0f921"
            ]
           ]
          },
          "colorway": [
           "#636efa",
           "#EF553B",
           "#00cc96",
           "#ab63fa",
           "#FFA15A",
           "#19d3f3",
           "#FF6692",
           "#B6E880",
           "#FF97FF",
           "#FECB52"
          ],
          "font": {
           "color": "#2a3f5f"
          },
          "geo": {
           "bgcolor": "white",
           "lakecolor": "white",
           "landcolor": "#E5ECF6",
           "showlakes": true,
           "showland": true,
           "subunitcolor": "white"
          },
          "hoverlabel": {
           "align": "left"
          },
          "hovermode": "closest",
          "mapbox": {
           "style": "light"
          },
          "paper_bgcolor": "white",
          "plot_bgcolor": "#E5ECF6",
          "polar": {
           "angularaxis": {
            "gridcolor": "white",
            "linecolor": "white",
            "ticks": ""
           },
           "bgcolor": "#E5ECF6",
           "radialaxis": {
            "gridcolor": "white",
            "linecolor": "white",
            "ticks": ""
           }
          },
          "scene": {
           "xaxis": {
            "backgroundcolor": "#E5ECF6",
            "gridcolor": "white",
            "gridwidth": 2,
            "linecolor": "white",
            "showbackground": true,
            "ticks": "",
            "zerolinecolor": "white"
           },
           "yaxis": {
            "backgroundcolor": "#E5ECF6",
            "gridcolor": "white",
            "gridwidth": 2,
            "linecolor": "white",
            "showbackground": true,
            "ticks": "",
            "zerolinecolor": "white"
           },
           "zaxis": {
            "backgroundcolor": "#E5ECF6",
            "gridcolor": "white",
            "gridwidth": 2,
            "linecolor": "white",
            "showbackground": true,
            "ticks": "",
            "zerolinecolor": "white"
           }
          },
          "shapedefaults": {
           "line": {
            "color": "#2a3f5f"
           }
          },
          "ternary": {
           "aaxis": {
            "gridcolor": "white",
            "linecolor": "white",
            "ticks": ""
           },
           "baxis": {
            "gridcolor": "white",
            "linecolor": "white",
            "ticks": ""
           },
           "bgcolor": "#E5ECF6",
           "caxis": {
            "gridcolor": "white",
            "linecolor": "white",
            "ticks": ""
           }
          },
          "title": {
           "x": 0.05
          },
          "xaxis": {
           "automargin": true,
           "gridcolor": "white",
           "linecolor": "white",
           "ticks": "",
           "title": {
            "standoff": 15
           },
           "zerolinecolor": "white",
           "zerolinewidth": 2
          },
          "yaxis": {
           "automargin": true,
           "gridcolor": "white",
           "linecolor": "white",
           "ticks": "",
           "title": {
            "standoff": 15
           },
           "zerolinecolor": "white",
           "zerolinewidth": 2
          }
         }
        },
        "title": {
         "text": "Current Study Breakdown by Start Year"
        },
        "xaxis": {
         "anchor": "y",
         "autorange": true,
         "domain": [
          0,
          1
         ],
         "range": [
          0.5,
          8.5
         ],
         "title": {
          "text": "Current Study Start Year"
         },
         "type": "category"
        },
        "yaxis": {
         "anchor": "x",
         "autorange": true,
         "domain": [
          0,
          1
         ],
         "range": [
          0,
          82.50465591143322
         ],
         "title": {
          "text": "% of Current Studies"
         },
         "type": "linear"
        }
       }
      },
      "image/png": "[encoded data removed]",
      "text/html": [
       "<div>                            <div id=\"95f9ef66-8e2d-4677-bc9b-9da6a0af24f9\" class=\"plotly-graph-div\" style=\"height:525px; width:100%;\"></div>            <script type=\"text/javascript\">                require([\"plotly\"], function(Plotly) {                    window.PLOTLYENV=window.PLOTLYENV || {};                                    if (document.getElementById(\"95f9ef66-8e2d-4677-bc9b-9da6a0af24f9\")) {                    Plotly.newPlot(                        \"95f9ef66-8e2d-4677-bc9b-9da6a0af24f9\",                        [{\"alignmentgroup\":\"True\",\"bingroup\":\"x\",\"histfunc\":\"sum\",\"histnorm\":\"percent\",\"hovertemplate\":\"agency_class=%{x}<br>percent of sum of lead=%{y}<extra></extra>\",\"legendgroup\":\"\",\"marker\":{\"color\":\"#636efa\",\"pattern\":{\"shape\":\"\"}},\"name\":\"\",\"offsetgroup\":\"\",\"orientation\":\"v\",\"showlegend\":false,\"texttemplate\":\"%{value}\",\"x\":[\"AMBIG\",\"FED\",\"INDIV\",\"INDUSTRY\",\"NETWORK\",\"NIH\",\"OTHER\",\"OTHER_GOV\",\"UNKNOWN\"],\"xaxis\":\"x\",\"y\":[0.0,1255.0,177.0,23888.0,1315.0,2001.0,127742.0,5732.0,869.0],\"yaxis\":\"y\",\"type\":\"histogram\"}],                        {\"template\":{\"data\":{\"histogram2dcontour\":[{\"type\":\"histogram2dcontour\",\"colorbar\":{\"outlinewidth\":0,\"ticks\":\"\"},\"colorscale\":[[0.0,\"#0d0887\"],[0.1111111111111111,\"#46039f\"],[0.2222222222222222,\"#7201a8\"],[0.3333333333333333,\"#9c179e\"],[0.4444444444444444,\"#bd3786\"],[0.5555555555555556,\"#d8576b\"],[0.6666666666666666,\"#ed7953\"],[0.7777777777777778,\"#fb9f3a\"],[0.8888888888888888,\"#fdca26\"],[1.0,\"#f0f921\"]]}],\"choropleth\":[{\"type\":\"choropleth\",\"colorbar\":{\"outlinewidth\":0,\"ticks\":\"\"}}],\"histogram2d\":[{\"type\":\"histogram2d\",\"colorbar\":{\"outlinewidth\":0,\"ticks\":\"\"},\"colorscale\":[[0.0,\"#0d0887\"],[0.1111111111111111,\"#46039f\"],[0.2222222222222222,\"#7201a8\"],[0.3333333333333333,\"#9c179e\"],[0.4444444444444444,\"#bd3786\"],[0.5555555555555556,\"#d8576b\"],[0.6666666666666666,\"#ed7953\"],[0.7777777777777778,\"#fb9f3a\"],[0.8888888888888888,\"#fdca26\"],[1.0,\"#f0f921\"]]}],\"heatmap\":[{\"type\":\"heatmap\",\"colorbar\":{\"outlinewidth\":0,\"ticks\":\"\"},\"colorscale\":[[0.0,\"#0d0887\"],[0.1111111111111111,\"#46039f\"],[0.2222222222222222,\"#7201a8\"],[0.3333333333333333,\"#9c179e\"],[0.4444444444444444,\"#bd3786\"],[0.5555555555555556,\"#d8576b\"],[0.6666666666666666,\"#ed7953\"],[0.7777777777777778,\"#fb9f3a\"],[0.8888888888888888,\"#fdca26\"],[1.0,\"#f0f921\"]]}],\"heatmapgl\":[{\"type\":\"heatmapgl\",\"colorbar\":{\"outlinewidth\":0,\"ticks\":\"\"},\"colorscale\":[[0.0,\"#0d0887\"],[0.1111111111111111,\"#46039f\"],[0.2222222222222222,\"#7201a8\"],[0.3333333333333333,\"#9c179e\"],[0.4444444444444444,\"#bd3786\"],[0.5555555555555556,\"#d8576b\"],[0.6666666666666666,\"#ed7953\"],[0.7777777777777778,\"#fb9f3a\"],[0.8888888888888888,\"#fdca26\"],[1.0,\"#f0f921\"]]}],\"contourcarpet\":[{\"type\":\"contourcarpet\",\"colorbar\":{\"outlinewidth\":0,\"ticks\":\"\"}}],\"contour\":[{\"type\":\"contour\",\"colorbar\":{\"outlinewidth\":0,\"ticks\":\"\"},\"colorscale\":[[0.0,\"#0d0887\"],[0.1111111111111111,\"#46039f\"],[0.2222222222222222,\"#7201a8\"],[0.3333333333333333,\"#9c179e\"],[0.4444444444444444,\"#bd3786\"],[0.5555555555555556,\"#d8576b\"],[0.6666666666666666,\"#ed7953\"],[0.7777777777777778,\"#fb9f3a\"],[0.8888888888888888,\"#fdca26\"],[1.0,\"#f0f921\"]]}],\"surface\":[{\"type\":\"surface\",\"colorbar\":{\"outlinewidth\":0,\"ticks\":\"\"},\"colorscale\":[[0.0,\"#0d0887\"],[0.1111111111111111,\"#46039f\"],[0.2222222222222222,\"#7201a8\"],[0.3333333333333333,\"#9c179e\"],[0.4444444444444444,\"#bd3786\"],[0.5555555555555556,\"#d8576b\"],[0.6666666666666666,\"#ed7953\"],[0.7777777777777778,\"#fb9f3a\"],[0.8888888888888888,\"#fdca26\"],[1.0,\"#f0f921\"]]}],\"mesh3d\":[{\"type\":\"mesh3d\",\"colorbar\":{\"outlinewidth\":0,\"ticks\":\"\"}}],\"scatter\":[{\"fillpattern\":{\"fillmode\":\"overlay\",\"size\":10,\"solidity\":0.2},\"type\":\"scatter\"}],\"parcoords\":[{\"type\":\"parcoords\",\"line\":{\"colorbar\":{\"outlinewidth\":0,\"ticks\":\"\"}}}],\"scatterpolargl\":[{\"type\":\"scatterpolargl\",\"marker\":{\"colorbar\":{\"outlinewidth\":0,\"ticks\":\"\"}}}],\"bar\":[{\"error_x\":{\"color\":\"#2a3f5f\"},\"error_y\":{\"color\":\"#2a3f5f\"},\"marker\":{\"line\":{\"color\":\"#E5ECF6\",\"width\":0.5},\"pattern\":{\"fillmode\":\"overlay\",\"size\":10,\"solidity\":0.2}},\"type\":\"bar\"}],\"scattergeo\":[{\"type\":\"scattergeo\",\"marker\":{\"colorbar\":{\"outlinewidth\":0,\"ticks\":\"\"}}}],\"scatterpolar\":[{\"type\":\"scatterpolar\",\"marker\":{\"colorbar\":{\"outlinewidth\":0,\"ticks\":\"\"}}}],\"histogram\":[{\"marker\":{\"pattern\":{\"fillmode\":\"overlay\",\"size\":10,\"solidity\":0.2}},\"type\":\"histogram\"}],\"scattergl\":[{\"type\":\"scattergl\",\"marker\":{\"colorbar\":{\"outlinewidth\":0,\"ticks\":\"\"}}}],\"scatter3d\":[{\"type\":\"scatter3d\",\"line\":{\"colorbar\":{\"outlinewidth\":0,\"ticks\":\"\"}},\"marker\":{\"colorbar\":{\"outlinewidth\":0,\"ticks\":\"\"}}}],\"scattermapbox\":[{\"type\":\"scattermapbox\",\"marker\":{\"colorbar\":{\"outlinewidth\":0,\"ticks\":\"\"}}}],\"scatterternary\":[{\"type\":\"scatterternary\",\"marker\":{\"colorbar\":{\"outlinewidth\":0,\"ticks\":\"\"}}}],\"scattercarpet\":[{\"type\":\"scattercarpet\",\"marker\":{\"colorbar\":{\"outlinewidth\":0,\"ticks\":\"\"}}}],\"carpet\":[{\"aaxis\":{\"endlinecolor\":\"#2a3f5f\",\"gridcolor\":\"white\",\"linecolor\":\"white\",\"minorgridcolor\":\"white\",\"startlinecolor\":\"#2a3f5f\"},\"baxis\":{\"endlinecolor\":\"#2a3f5f\",\"gridcolor\":\"white\",\"linecolor\":\"white\",\"minorgridcolor\":\"white\",\"startlinecolor\":\"#2a3f5f\"},\"type\":\"carpet\"}],\"table\":[{\"cells\":{\"fill\":{\"color\":\"#EBF0F8\"},\"line\":{\"color\":\"white\"}},\"header\":{\"fill\":{\"color\":\"#C8D4E3\"},\"line\":{\"color\":\"white\"}},\"type\":\"table\"}],\"barpolar\":[{\"marker\":{\"line\":{\"color\":\"#E5ECF6\",\"width\":0.5},\"pattern\":{\"fillmode\":\"overlay\",\"size\":10,\"solidity\":0.2}},\"type\":\"barpolar\"}],\"pie\":[{\"automargin\":true,\"type\":\"pie\"}]},\"layout\":{\"autotypenumbers\":\"strict\",\"colorway\":[\"#636efa\",\"#EF553B\",\"#00cc96\",\"#ab63fa\",\"#FFA15A\",\"#19d3f3\",\"#FF6692\",\"#B6E880\",\"#FF97FF\",\"#FECB52\"],\"font\":{\"color\":\"#2a3f5f\"},\"hovermode\":\"closest\",\"hoverlabel\":{\"align\":\"left\"},\"paper_bgcolor\":\"white\",\"plot_bgcolor\":\"#E5ECF6\",\"polar\":{\"bgcolor\":\"#E5ECF6\",\"angularaxis\":{\"gridcolor\":\"white\",\"linecolor\":\"white\",\"ticks\":\"\"},\"radialaxis\":{\"gridcolor\":\"white\",\"linecolor\":\"white\",\"ticks\":\"\"}},\"ternary\":{\"bgcolor\":\"#E5ECF6\",\"aaxis\":{\"gridcolor\":\"white\",\"linecolor\":\"white\",\"ticks\":\"\"},\"baxis\":{\"gridcolor\":\"white\",\"linecolor\":\"white\",\"ticks\":\"\"},\"caxis\":{\"gridcolor\":\"white\",\"linecolor\":\"white\",\"ticks\":\"\"}},\"coloraxis\":{\"colorbar\":{\"outlinewidth\":0,\"ticks\":\"\"}},\"colorscale\":{\"sequential\":[[0.0,\"#0d0887\"],[0.1111111111111111,\"#46039f\"],[0.2222222222222222,\"#7201a8\"],[0.3333333333333333,\"#9c179e\"],[0.4444444444444444,\"#bd3786\"],[0.5555555555555556,\"#d8576b\"],[0.6666666666666666,\"#ed7953\"],[0.7777777777777778,\"#fb9f3a\"],[0.8888888888888888,\"#fdca26\"],[1.0,\"#f0f921\"]],\"sequentialminus\":[[0.0,\"#0d0887\"],[0.1111111111111111,\"#46039f\"],[0.2222222222222222,\"#7201a8\"],[0.3333333333333333,\"#9c179e\"],[0.4444444444444444,\"#bd3786\"],[0.5555555555555556,\"#d8576b\"],[0.6666666666666666,\"#ed7953\"],[0.7777777777777778,\"#fb9f3a\"],[0.8888888888888888,\"#fdca26\"],[1.0,\"#f0f921\"]],\"diverging\":[[0,\"#8e0152\"],[0.1,\"#c51b7d\"],[0.2,\"#de77ae\"],[0.3,\"#f1b6da\"],[0.4,\"#fde0ef\"],[0.5,\"#f7f7f7\"],[0.6,\"#e6f5d0\"],[0.7,\"#b8e186\"],[0.8,\"#7fbc41\"],[0.9,\"#4d9221\"],[1,\"#276419\"]]},\"xaxis\":{\"gridcolor\":\"white\",\"linecolor\":\"white\",\"ticks\":\"\",\"title\":{\"standoff\":15},\"zerolinecolor\":\"white\",\"automargin\":true,\"zerolinewidth\":2},\"yaxis\":{\"gridcolor\":\"white\",\"linecolor\":\"white\",\"ticks\":\"\",\"title\":{\"standoff\":15},\"zerolinecolor\":\"white\",\"automargin\":true,\"zerolinewidth\":2},\"scene\":{\"xaxis\":{\"backgroundcolor\":\"#E5ECF6\",\"gridcolor\":\"white\",\"linecolor\":\"white\",\"showbackground\":true,\"ticks\":\"\",\"zerolinecolor\":\"white\",\"gridwidth\":2},\"yaxis\":{\"backgroundcolor\":\"#E5ECF6\",\"gridcolor\":\"white\",\"linecolor\":\"white\",\"showbackground\":true,\"ticks\":\"\",\"zerolinecolor\":\"white\",\"gridwidth\":2},\"zaxis\":{\"backgroundcolor\":\"#E5ECF6\",\"gridcolor\":\"white\",\"linecolor\":\"white\",\"showbackground\":true,\"ticks\":\"\",\"zerolinecolor\":\"white\",\"gridwidth\":2}},\"shapedefaults\":{\"line\":{\"color\":\"#2a3f5f\"}},\"annotationdefaults\":{\"arrowcolor\":\"#2a3f5f\",\"arrowhead\":0,\"arrowwidth\":1},\"geo\":{\"bgcolor\":\"white\",\"landcolor\":\"#E5ECF6\",\"subunitcolor\":\"white\",\"showland\":true,\"showlakes\":true,\"lakecolor\":\"white\"},\"title\":{\"x\":0.05},\"mapbox\":{\"style\":\"light\"}}},\"xaxis\":{\"anchor\":\"y\",\"domain\":[0.0,1.0],\"title\":{\"text\":\"Current Study Start Year\"}},\"yaxis\":{\"anchor\":\"x\",\"domain\":[0.0,1.0],\"title\":{\"text\":\"% of Current Studies\"}},\"legend\":{\"tracegroupgap\":0},\"title\":{\"text\":\"Current Study Breakdown by Start Year\"},\"barmode\":\"relative\"},                        {\"responsive\": true}                    ).then(function(){\n",
       "                            \n",
       "var gd = document.getElementById('95f9ef66-8e2d-4677-bc9b-9da6a0af24f9');\n",
       "var x = new MutationObserver(function (mutations, observer) {{\n",
       "        var display = window.getComputedStyle(gd).display;\n",
       "        if (!display || display === 'none') {{\n",
       "            console.log([gd, 'removed!']);\n",
       "            Plotly.purge(gd);\n",
       "            observer.disconnect();\n",
       "        }}\n",
       "}});\n",
       "\n",
       "// Listen for the removal of the full notebook cells\n",
       "var notebookContainer = gd.closest('#notebook-container');\n",
       "if (notebookContainer) {{\n",
       "    x.observe(notebookContainer, {childList: true});\n",
       "}}\n",
       "\n",
       "// Listen for the clearing of the current output cell\n",
       "var outputEl = gd.closest('.output');\n",
       "if (outputEl) {{\n",
       "    x.observe(outputEl, {childList: true});\n",
       "}}\n",
       "\n",
       "                        })                };                });            </script>        </div>"
      ]
     },
     "metadata": {},
     "output_type": "display_data"
    }
   ],
   "source": [
    "# current_status_studies.sort_values('start_year_group', inplace=True)\n",
    "fig = px.histogram(agency_lead_collab, x=\"agency_class\", y = 'lead', histnorm='percent', title = 'Current Study Breakdown by Start Year', text_auto=True)\n",
    "fig.update_layout(yaxis_title=\"% of Current Studies\", xaxis_title = 'Current Study Start Year') \n",
    "fig.show()"
   ]
  },
  {
   "cell_type": "code",
   "execution_count": 9,
   "id": "9402d575-6416-4290-ad21-e5404a0927da",
   "metadata": {},
   "outputs": [],
   "source": [
    "# # current_status_studies.sort_values('start_year_group', inplace=True)\n",
    "# fig = px.histogram(agency_lead_collab, x=\"agency_class\", y = 'collaborator', histnorm='percent', title = 'Current Study Breakdown by Start Year', text_auto=True)\n",
    "# fig.update_layout(yaxis_title=\"% of Current Studies\", xaxis_title = 'Current Study Start Year') \n",
    "# fig.show()"
   ]
  },
  {
   "cell_type": "code",
   "execution_count": 611,
   "id": "6daff97a-f7bb-45d0-9361-bc5ca178513c",
   "metadata": {},
   "outputs": [
    {
     "data": {
      "text/html": [
       "<div>\n",
       "<style scoped>\n",
       "    .dataframe tbody tr th:only-of-type {\n",
       "        vertical-align: middle;\n",
       "    }\n",
       "\n",
       "    .dataframe tbody tr th {\n",
       "        vertical-align: top;\n",
       "    }\n",
       "\n",
       "    .dataframe thead th {\n",
       "        text-align: right;\n",
       "    }\n",
       "</style>\n",
       "<table border=\"1\" class=\"dataframe\">\n",
       "  <thead>\n",
       "    <tr style=\"text-align: right;\">\n",
       "      <th></th>\n",
       "      <th>id</th>\n",
       "      <th>nct_id</th>\n",
       "      <th>agency_class</th>\n",
       "      <th>lead_or_collaborator</th>\n",
       "      <th>name</th>\n",
       "      <th>nlm_download_date_description</th>\n",
       "      <th>study_first_submitted_date</th>\n",
       "      <th>results_first_submitted_date</th>\n",
       "      <th>disposition_first_submitted_date</th>\n",
       "      <th>last_update_submitted_date</th>\n",
       "      <th>...</th>\n",
       "      <th>source_class</th>\n",
       "      <th>delayed_posting</th>\n",
       "      <th>expanded_access_nctid</th>\n",
       "      <th>expanded_access_status_for_nctid</th>\n",
       "      <th>fdaaa801_violation</th>\n",
       "      <th>baseline_type_units_analyzed</th>\n",
       "      <th>completion_year</th>\n",
       "      <th>start_year</th>\n",
       "      <th>start_year_group</th>\n",
       "      <th>duration</th>\n",
       "    </tr>\n",
       "  </thead>\n",
       "  <tbody>\n",
       "    <tr>\n",
       "      <th>0</th>\n",
       "      <td>23615524</td>\n",
       "      <td>NCT03876821</td>\n",
       "      <td>OTHER_GOV</td>\n",
       "      <td>lead</td>\n",
       "      <td>Institut National de la Santé Et de la Recherche Médicale, France</td>\n",
       "      <td>None</td>\n",
       "      <td>2019-02-27</td>\n",
       "      <td>None</td>\n",
       "      <td>None</td>\n",
       "      <td>2019-03-13</td>\n",
       "      <td>...</td>\n",
       "      <td>OTHER_GOV</td>\n",
       "      <td>None</td>\n",
       "      <td>None</td>\n",
       "      <td>None</td>\n",
       "      <td>None</td>\n",
       "      <td>None</td>\n",
       "      <td>2022.0</td>\n",
       "      <td>2019.0</td>\n",
       "      <td>2019</td>\n",
       "      <td>1096.0</td>\n",
       "    </tr>\n",
       "    <tr>\n",
       "      <th>1</th>\n",
       "      <td>23615525</td>\n",
       "      <td>NCT03876821</td>\n",
       "      <td>OTHER</td>\n",
       "      <td>collaborator</td>\n",
       "      <td>Centre Hospitalier Sud Francilien</td>\n",
       "      <td>None</td>\n",
       "      <td>2019-02-27</td>\n",
       "      <td>None</td>\n",
       "      <td>None</td>\n",
       "      <td>2019-03-13</td>\n",
       "      <td>...</td>\n",
       "      <td>OTHER_GOV</td>\n",
       "      <td>None</td>\n",
       "      <td>None</td>\n",
       "      <td>None</td>\n",
       "      <td>None</td>\n",
       "      <td>None</td>\n",
       "      <td>2022.0</td>\n",
       "      <td>2019.0</td>\n",
       "      <td>2019</td>\n",
       "      <td>1096.0</td>\n",
       "    </tr>\n",
       "    <tr>\n",
       "      <th>2</th>\n",
       "      <td>23615544</td>\n",
       "      <td>NCT03875222</td>\n",
       "      <td>OTHER</td>\n",
       "      <td>lead</td>\n",
       "      <td>Assiut University</td>\n",
       "      <td>None</td>\n",
       "      <td>2019-03-13</td>\n",
       "      <td>None</td>\n",
       "      <td>None</td>\n",
       "      <td>2019-03-16</td>\n",
       "      <td>...</td>\n",
       "      <td>OTHER</td>\n",
       "      <td>None</td>\n",
       "      <td>None</td>\n",
       "      <td>None</td>\n",
       "      <td>None</td>\n",
       "      <td>None</td>\n",
       "      <td>2021.0</td>\n",
       "      <td>2019.0</td>\n",
       "      <td>2019</td>\n",
       "      <td>854.0</td>\n",
       "    </tr>\n",
       "    <tr>\n",
       "      <th>3</th>\n",
       "      <td>23615547</td>\n",
       "      <td>NCT03874468</td>\n",
       "      <td>OTHER</td>\n",
       "      <td>lead</td>\n",
       "      <td>Kerolos Naiem Shehata Rofael</td>\n",
       "      <td>None</td>\n",
       "      <td>2019-03-12</td>\n",
       "      <td>None</td>\n",
       "      <td>None</td>\n",
       "      <td>2019-03-13</td>\n",
       "      <td>...</td>\n",
       "      <td>OTHER</td>\n",
       "      <td>None</td>\n",
       "      <td>None</td>\n",
       "      <td>None</td>\n",
       "      <td>None</td>\n",
       "      <td>None</td>\n",
       "      <td>2022.0</td>\n",
       "      <td>2019.0</td>\n",
       "      <td>2019</td>\n",
       "      <td>1096.0</td>\n",
       "    </tr>\n",
       "    <tr>\n",
       "      <th>4</th>\n",
       "      <td>23615548</td>\n",
       "      <td>NCT03874702</td>\n",
       "      <td>OTHER</td>\n",
       "      <td>lead</td>\n",
       "      <td>University of Guadalajara</td>\n",
       "      <td>None</td>\n",
       "      <td>2019-03-12</td>\n",
       "      <td>None</td>\n",
       "      <td>None</td>\n",
       "      <td>2021-05-17</td>\n",
       "      <td>...</td>\n",
       "      <td>OTHER</td>\n",
       "      <td>None</td>\n",
       "      <td>None</td>\n",
       "      <td>None</td>\n",
       "      <td>None</td>\n",
       "      <td>None</td>\n",
       "      <td>2025.0</td>\n",
       "      <td>2019.0</td>\n",
       "      <td>2019</td>\n",
       "      <td>2117.0</td>\n",
       "    </tr>\n",
       "  </tbody>\n",
       "</table>\n",
       "<p>5 rows × 78 columns</p>\n",
       "</div>"
      ],
      "text/plain": [
       "         id       nct_id agency_class lead_or_collaborator  \\\n",
       "0  23615524  NCT03876821    OTHER_GOV                 lead   \n",
       "1  23615525  NCT03876821        OTHER         collaborator   \n",
       "2  23615544  NCT03875222        OTHER                 lead   \n",
       "3  23615547  NCT03874468        OTHER                 lead   \n",
       "4  23615548  NCT03874702        OTHER                 lead   \n",
       "\n",
       "                                                                name  \\\n",
       "0  Institut National de la Santé Et de la Recherche Médicale, France   \n",
       "1                                  Centre Hospitalier Sud Francilien   \n",
       "2                                                  Assiut University   \n",
       "3                                       Kerolos Naiem Shehata Rofael   \n",
       "4                                          University of Guadalajara   \n",
       "\n",
       "  nlm_download_date_description study_first_submitted_date  \\\n",
       "0                          None                 2019-02-27   \n",
       "1                          None                 2019-02-27   \n",
       "2                          None                 2019-03-13   \n",
       "3                          None                 2019-03-12   \n",
       "4                          None                 2019-03-12   \n",
       "\n",
       "  results_first_submitted_date disposition_first_submitted_date  \\\n",
       "0                         None                             None   \n",
       "1                         None                             None   \n",
       "2                         None                             None   \n",
       "3                         None                             None   \n",
       "4                         None                             None   \n",
       "\n",
       "  last_update_submitted_date  ... source_class delayed_posting  \\\n",
       "0                 2019-03-13  ...    OTHER_GOV            None   \n",
       "1                 2019-03-13  ...    OTHER_GOV            None   \n",
       "2                 2019-03-16  ...        OTHER            None   \n",
       "3                 2019-03-13  ...        OTHER            None   \n",
       "4                 2021-05-17  ...        OTHER            None   \n",
       "\n",
       "  expanded_access_nctid expanded_access_status_for_nctid fdaaa801_violation  \\\n",
       "0                  None                             None               None   \n",
       "1                  None                             None               None   \n",
       "2                  None                             None               None   \n",
       "3                  None                             None               None   \n",
       "4                  None                             None               None   \n",
       "\n",
       "  baseline_type_units_analyzed completion_year start_year start_year_group  \\\n",
       "0                         None          2022.0     2019.0             2019   \n",
       "1                         None          2022.0     2019.0             2019   \n",
       "2                         None          2021.0     2019.0             2019   \n",
       "3                         None          2022.0     2019.0             2019   \n",
       "4                         None          2025.0     2019.0             2019   \n",
       "\n",
       "  duration  \n",
       "0   1096.0  \n",
       "1   1096.0  \n",
       "2    854.0  \n",
       "3   1096.0  \n",
       "4   2117.0  \n",
       "\n",
       "[5 rows x 78 columns]"
      ]
     },
     "execution_count": 611,
     "metadata": {},
     "output_type": "execute_result"
    }
   ],
   "source": [
    "current_study_sponsors.head()"
   ]
  },
  {
   "cell_type": "code",
   "execution_count": 549,
   "id": "8d392b51-bf81-4565-aad5-094b58bed668",
   "metadata": {},
   "outputs": [
    {
     "name": "stderr",
     "output_type": "stream",
     "text": [
      "C:\\Users\\Bryant\\AppData\\Local\\Temp\\ipykernel_17172\\1569344875.py:7: UserWarning:\n",
      "\n",
      "pandas only supports SQLAlchemy connectable (engine/connection) or database string URI or sqlite3 DBAPI2 connection. Other DBAPI2 objects are not tested. Please consider using SQLAlchemy.\n",
      "\n"
     ]
    }
   ],
   "source": [
    "# sponsor, agency, # of studies collaborator on, # of studies leading\n",
    "\n",
    "query = f\"\"\"select name, agency_class,\n",
    "sum(case when lead_or_collaborator = 'collaborator' then 1 else 0 end) collaborators,\n",
    "sum(case when lead_or_collaborator = 'lead' then 1 else 0 end) leads\n",
    "from sponsors\n",
    "where nct_id in {tuple(current_status_studies.nct_id)}\n",
    "group by 1, 2\"\"\"\n",
    "sponsor_studies = pd.read_sql(query, connection)"
   ]
  },
  {
   "cell_type": "code",
   "execution_count": 550,
   "id": "f51a8281-6c1e-411e-bf08-4bab80724d17",
   "metadata": {},
   "outputs": [
    {
     "data": {
      "text/html": [
       "<div>\n",
       "<style scoped>\n",
       "    .dataframe tbody tr th:only-of-type {\n",
       "        vertical-align: middle;\n",
       "    }\n",
       "\n",
       "    .dataframe tbody tr th {\n",
       "        vertical-align: top;\n",
       "    }\n",
       "\n",
       "    .dataframe thead th {\n",
       "        text-align: right;\n",
       "    }\n",
       "</style>\n",
       "<table border=\"1\" class=\"dataframe\">\n",
       "  <thead>\n",
       "    <tr style=\"text-align: right;\">\n",
       "      <th></th>\n",
       "      <th>name</th>\n",
       "      <th>agency_class</th>\n",
       "      <th>collaborators</th>\n",
       "      <th>leads</th>\n",
       "    </tr>\n",
       "  </thead>\n",
       "  <tbody>\n",
       "    <tr>\n",
       "      <th>3120</th>\n",
       "      <td>Assiut University</td>\n",
       "      <td>OTHER</td>\n",
       "      <td>32</td>\n",
       "      <td>2091</td>\n",
       "    </tr>\n",
       "    <tr>\n",
       "      <th>6057</th>\n",
       "      <td>Cairo University</td>\n",
       "      <td>OTHER</td>\n",
       "      <td>68</td>\n",
       "      <td>1597</td>\n",
       "    </tr>\n",
       "    <tr>\n",
       "      <th>29599</th>\n",
       "      <td>National Taiwan University Hospital</td>\n",
       "      <td>OTHER</td>\n",
       "      <td>63</td>\n",
       "      <td>1307</td>\n",
       "    </tr>\n",
       "    <tr>\n",
       "      <th>3115</th>\n",
       "      <td>Assistance Publique - Hôpitaux de Paris</td>\n",
       "      <td>OTHER</td>\n",
       "      <td>63</td>\n",
       "      <td>1258</td>\n",
       "    </tr>\n",
       "    <tr>\n",
       "      <th>26737</th>\n",
       "      <td>M.D. Anderson Cancer Center</td>\n",
       "      <td>OTHER</td>\n",
       "      <td>103</td>\n",
       "      <td>1120</td>\n",
       "    </tr>\n",
       "    <tr>\n",
       "      <th>...</th>\n",
       "      <td>...</td>\n",
       "      <td>...</td>\n",
       "      <td>...</td>\n",
       "      <td>...</td>\n",
       "    </tr>\n",
       "    <tr>\n",
       "      <th>20667</th>\n",
       "      <td>Institute of Biostatistics</td>\n",
       "      <td>UNKNOWN</td>\n",
       "      <td>1</td>\n",
       "      <td>0</td>\n",
       "    </tr>\n",
       "    <tr>\n",
       "      <th>20665</th>\n",
       "      <td>Institute of Biomedical Technologies-National Research Council (ITB-CNR)</td>\n",
       "      <td>UNKNOWN</td>\n",
       "      <td>1</td>\n",
       "      <td>0</td>\n",
       "    </tr>\n",
       "    <tr>\n",
       "      <th>20664</th>\n",
       "      <td>Institute of Biomedical Sciences, SUND, University of Copenhagen</td>\n",
       "      <td>UNKNOWN</td>\n",
       "      <td>1</td>\n",
       "      <td>0</td>\n",
       "    </tr>\n",
       "    <tr>\n",
       "      <th>20663</th>\n",
       "      <td>Institute of Biomedical Research in Málaga (IBIMA)</td>\n",
       "      <td>UNKNOWN</td>\n",
       "      <td>3</td>\n",
       "      <td>0</td>\n",
       "    </tr>\n",
       "    <tr>\n",
       "      <th>24151</th>\n",
       "      <td>Kuopio Conservatory</td>\n",
       "      <td>UNKNOWN</td>\n",
       "      <td>1</td>\n",
       "      <td>0</td>\n",
       "    </tr>\n",
       "  </tbody>\n",
       "</table>\n",
       "<p>48303 rows × 4 columns</p>\n",
       "</div>"
      ],
      "text/plain": [
       "                                                                           name  \\\n",
       "3120                                                          Assiut University   \n",
       "6057                                                           Cairo University   \n",
       "29599                                       National Taiwan University Hospital   \n",
       "3115                                    Assistance Publique - Hôpitaux de Paris   \n",
       "26737                                               M.D. Anderson Cancer Center   \n",
       "...                                                                         ...   \n",
       "20667                                                Institute of Biostatistics   \n",
       "20665  Institute of Biomedical Technologies-National Research Council (ITB-CNR)   \n",
       "20664          Institute of Biomedical Sciences, SUND, University of Copenhagen   \n",
       "20663                        Institute of Biomedical Research in Málaga (IBIMA)   \n",
       "24151                                                       Kuopio Conservatory   \n",
       "\n",
       "      agency_class  collaborators  leads  \n",
       "3120         OTHER             32   2091  \n",
       "6057         OTHER             68   1597  \n",
       "29599        OTHER             63   1307  \n",
       "3115         OTHER             63   1258  \n",
       "26737        OTHER            103   1120  \n",
       "...            ...            ...    ...  \n",
       "20667      UNKNOWN              1      0  \n",
       "20665      UNKNOWN              1      0  \n",
       "20664      UNKNOWN              1      0  \n",
       "20663      UNKNOWN              3      0  \n",
       "24151      UNKNOWN              1      0  \n",
       "\n",
       "[48303 rows x 4 columns]"
      ]
     },
     "execution_count": 550,
     "metadata": {},
     "output_type": "execute_result"
    }
   ],
   "source": [
    "sponsor_studies.sort_values('leads', ascending=False)"
   ]
  },
  {
   "cell_type": "code",
   "execution_count": 552,
   "id": "94171bbe-dc68-428c-add8-5db47e714b51",
   "metadata": {},
   "outputs": [
    {
     "data": {
      "text/html": [
       "<div>\n",
       "<style scoped>\n",
       "    .dataframe tbody tr th:only-of-type {\n",
       "        vertical-align: middle;\n",
       "    }\n",
       "\n",
       "    .dataframe tbody tr th {\n",
       "        vertical-align: top;\n",
       "    }\n",
       "\n",
       "    .dataframe thead th {\n",
       "        text-align: right;\n",
       "    }\n",
       "</style>\n",
       "<table border=\"1\" class=\"dataframe\">\n",
       "  <thead>\n",
       "    <tr style=\"text-align: right;\">\n",
       "      <th></th>\n",
       "      <th>name</th>\n",
       "      <th>agency_class</th>\n",
       "      <th>collaborators</th>\n",
       "      <th>leads</th>\n",
       "    </tr>\n",
       "  </thead>\n",
       "  <tbody>\n",
       "    <tr>\n",
       "      <th>29176</th>\n",
       "      <td>National Cancer Institute (NCI)</td>\n",
       "      <td>NIH</td>\n",
       "      <td>2779</td>\n",
       "      <td>863</td>\n",
       "    </tr>\n",
       "    <tr>\n",
       "      <th>29457</th>\n",
       "      <td>National Institutes of Health (NIH)</td>\n",
       "      <td>NIH</td>\n",
       "      <td>863</td>\n",
       "      <td>2</td>\n",
       "    </tr>\n",
       "    <tr>\n",
       "      <th>27359</th>\n",
       "      <td>Merck Sharp &amp; Dohme LLC</td>\n",
       "      <td>INDUSTRY</td>\n",
       "      <td>788</td>\n",
       "      <td>252</td>\n",
       "    </tr>\n",
       "    <tr>\n",
       "      <th>29321</th>\n",
       "      <td>National Heart, Lung, and Blood Institute (NHLBI)</td>\n",
       "      <td>NIH</td>\n",
       "      <td>685</td>\n",
       "      <td>105</td>\n",
       "    </tr>\n",
       "    <tr>\n",
       "      <th>29423</th>\n",
       "      <td>National Institute of Mental Health (NIMH)</td>\n",
       "      <td>NIH</td>\n",
       "      <td>583</td>\n",
       "      <td>63</td>\n",
       "    </tr>\n",
       "    <tr>\n",
       "      <th>...</th>\n",
       "      <td>...</td>\n",
       "      <td>...</td>\n",
       "      <td>...</td>\n",
       "      <td>...</td>\n",
       "    </tr>\n",
       "    <tr>\n",
       "      <th>12968</th>\n",
       "      <td>Emalex Biosciences Inc.</td>\n",
       "      <td>INDUSTRY</td>\n",
       "      <td>0</td>\n",
       "      <td>1</td>\n",
       "    </tr>\n",
       "    <tr>\n",
       "      <th>12969</th>\n",
       "      <td>eman elhosary</td>\n",
       "      <td>OTHER</td>\n",
       "      <td>0</td>\n",
       "      <td>1</td>\n",
       "    </tr>\n",
       "    <tr>\n",
       "      <th>32241</th>\n",
       "      <td>Pacific Diabetes Technologies</td>\n",
       "      <td>INDUSTRY</td>\n",
       "      <td>0</td>\n",
       "      <td>2</td>\n",
       "    </tr>\n",
       "    <tr>\n",
       "      <th>32240</th>\n",
       "      <td>Pacific Dermaesthetics</td>\n",
       "      <td>OTHER</td>\n",
       "      <td>0</td>\n",
       "      <td>1</td>\n",
       "    </tr>\n",
       "    <tr>\n",
       "      <th>48302</th>\n",
       "      <td>ZZ Biotech, LLC</td>\n",
       "      <td>INDUSTRY</td>\n",
       "      <td>0</td>\n",
       "      <td>1</td>\n",
       "    </tr>\n",
       "  </tbody>\n",
       "</table>\n",
       "<p>48303 rows × 4 columns</p>\n",
       "</div>"
      ],
      "text/plain": [
       "                                                    name agency_class  \\\n",
       "29176                    National Cancer Institute (NCI)          NIH   \n",
       "29457                National Institutes of Health (NIH)          NIH   \n",
       "27359                            Merck Sharp & Dohme LLC     INDUSTRY   \n",
       "29321  National Heart, Lung, and Blood Institute (NHLBI)          NIH   \n",
       "29423         National Institute of Mental Health (NIMH)          NIH   \n",
       "...                                                  ...          ...   \n",
       "12968                            Emalex Biosciences Inc.     INDUSTRY   \n",
       "12969                                      eman elhosary        OTHER   \n",
       "32241                      Pacific Diabetes Technologies     INDUSTRY   \n",
       "32240                             Pacific Dermaesthetics        OTHER   \n",
       "48302                                    ZZ Biotech, LLC     INDUSTRY   \n",
       "\n",
       "       collaborators  leads  \n",
       "29176           2779    863  \n",
       "29457            863      2  \n",
       "27359            788    252  \n",
       "29321            685    105  \n",
       "29423            583     63  \n",
       "...              ...    ...  \n",
       "12968              0      1  \n",
       "12969              0      1  \n",
       "32241              0      2  \n",
       "32240              0      1  \n",
       "48302              0      1  \n",
       "\n",
       "[48303 rows x 4 columns]"
      ]
     },
     "execution_count": 552,
     "metadata": {},
     "output_type": "execute_result"
    }
   ],
   "source": [
    "# gini?\n",
    "sponsor_studies.sort_values('collaborators', ascending=False)"
   ]
  },
  {
   "cell_type": "code",
   "execution_count": 554,
   "id": "82a1a7fe-2b48-42de-b5b7-29d16e5a4354",
   "metadata": {},
   "outputs": [],
   "source": [
    "sponsor_studies['study_involvement'] = sponsor_studies.collaborators+sponsor_studies.leads"
   ]
  },
  {
   "cell_type": "code",
   "execution_count": 556,
   "id": "e433c942-727c-4f12-bebc-a0a91062c96c",
   "metadata": {},
   "outputs": [],
   "source": [
    "sponsor_studies['study_involvement_percentage'] = sponsor_studies.study_involvement/current_status_studies.nct_id.nunique()\n",
    "sponsor_studies['lead_percentage'] = sponsor_studies.leads/current_status_studies.nct_id.nunique()"
   ]
  },
  {
   "cell_type": "code",
   "execution_count": 583,
   "id": "1afb1477-9497-4f8c-af48-3da1303a10b7",
   "metadata": {},
   "outputs": [],
   "source": [
    "sponsor_studies.sort_values('lead_percentage', ascending = False, inplace=True)"
   ]
  },
  {
   "cell_type": "code",
   "execution_count": 584,
   "id": "22f3a26d-212b-4536-8311-b5cadb21be01",
   "metadata": {},
   "outputs": [],
   "source": [
    "sponsor_studies['cumulative_lead_percentage'] = sponsor_studies.lead_percentage.cumsum()"
   ]
  },
  {
   "cell_type": "code",
   "execution_count": 612,
   "id": "6fcaa36b-a295-474e-9c9a-019b53a556c9",
   "metadata": {},
   "outputs": [
    {
     "data": {
      "text/plain": [
       "(162979, 162979)"
      ]
     },
     "execution_count": 612,
     "metadata": {},
     "output_type": "execute_result"
    }
   ],
   "source": [
    "current_status_studies.nct_id.nunique(), sponsor_studies.leads.sum()"
   ]
  },
  {
   "cell_type": "code",
   "execution_count": 586,
   "id": "020801a5-d945-4ef4-82b6-2cd17d73a2e4",
   "metadata": {},
   "outputs": [],
   "source": [
    "# top 5 in each agency class?\n",
    "sponsor_studies['order'] = np.arange(len(sponsor_studies))/len(sponsor_studies)"
   ]
  },
  {
   "cell_type": "code",
   "execution_count": 591,
   "id": "bae2d425-d90d-4c66-ae1d-2a26cf925a0b",
   "metadata": {},
   "outputs": [
    {
     "data": {
      "text/html": [
       "<div>\n",
       "<style scoped>\n",
       "    .dataframe tbody tr th:only-of-type {\n",
       "        vertical-align: middle;\n",
       "    }\n",
       "\n",
       "    .dataframe tbody tr th {\n",
       "        vertical-align: top;\n",
       "    }\n",
       "\n",
       "    .dataframe thead th {\n",
       "        text-align: right;\n",
       "    }\n",
       "</style>\n",
       "<table border=\"1\" class=\"dataframe\">\n",
       "  <thead>\n",
       "    <tr style=\"text-align: right;\">\n",
       "      <th></th>\n",
       "      <th>index</th>\n",
       "      <th>name</th>\n",
       "      <th>agency_class</th>\n",
       "      <th>collaborators</th>\n",
       "      <th>leads</th>\n",
       "      <th>study_involvement</th>\n",
       "      <th>study_involvement_percentage</th>\n",
       "      <th>lead_percentage</th>\n",
       "      <th>cumulative_lead_percentage</th>\n",
       "      <th>order</th>\n",
       "    </tr>\n",
       "  </thead>\n",
       "  <tbody>\n",
       "    <tr>\n",
       "      <th>1</th>\n",
       "      <td>3120</td>\n",
       "      <td>Assiut University</td>\n",
       "      <td>OTHER</td>\n",
       "      <td>32</td>\n",
       "      <td>2091</td>\n",
       "      <td>2123</td>\n",
       "      <td>0.013026</td>\n",
       "      <td>0.012830</td>\n",
       "      <td>0.012830</td>\n",
       "      <td>0.000000</td>\n",
       "    </tr>\n",
       "    <tr>\n",
       "      <th>2</th>\n",
       "      <td>6057</td>\n",
       "      <td>Cairo University</td>\n",
       "      <td>OTHER</td>\n",
       "      <td>68</td>\n",
       "      <td>1597</td>\n",
       "      <td>1665</td>\n",
       "      <td>0.010216</td>\n",
       "      <td>0.009799</td>\n",
       "      <td>0.022629</td>\n",
       "      <td>0.000021</td>\n",
       "    </tr>\n",
       "    <tr>\n",
       "      <th>3</th>\n",
       "      <td>29599</td>\n",
       "      <td>National Taiwan University Hospital</td>\n",
       "      <td>OTHER</td>\n",
       "      <td>63</td>\n",
       "      <td>1307</td>\n",
       "      <td>1370</td>\n",
       "      <td>0.008406</td>\n",
       "      <td>0.008019</td>\n",
       "      <td>0.030648</td>\n",
       "      <td>0.000041</td>\n",
       "    </tr>\n",
       "    <tr>\n",
       "      <th>4</th>\n",
       "      <td>3115</td>\n",
       "      <td>Assistance Publique - Hôpitaux de Paris</td>\n",
       "      <td>OTHER</td>\n",
       "      <td>63</td>\n",
       "      <td>1258</td>\n",
       "      <td>1321</td>\n",
       "      <td>0.008105</td>\n",
       "      <td>0.007719</td>\n",
       "      <td>0.038367</td>\n",
       "      <td>0.000062</td>\n",
       "    </tr>\n",
       "    <tr>\n",
       "      <th>5</th>\n",
       "      <td>26737</td>\n",
       "      <td>M.D. Anderson Cancer Center</td>\n",
       "      <td>OTHER</td>\n",
       "      <td>103</td>\n",
       "      <td>1120</td>\n",
       "      <td>1223</td>\n",
       "      <td>0.007504</td>\n",
       "      <td>0.006872</td>\n",
       "      <td>0.045239</td>\n",
       "      <td>0.000083</td>\n",
       "    </tr>\n",
       "    <tr>\n",
       "      <th>...</th>\n",
       "      <td>...</td>\n",
       "      <td>...</td>\n",
       "      <td>...</td>\n",
       "      <td>...</td>\n",
       "      <td>...</td>\n",
       "      <td>...</td>\n",
       "      <td>...</td>\n",
       "      <td>...</td>\n",
       "      <td>...</td>\n",
       "      <td>...</td>\n",
       "    </tr>\n",
       "    <tr>\n",
       "      <th>3284</th>\n",
       "      <td>4044</td>\n",
       "      <td>Bandırma Onyedi Eylül University</td>\n",
       "      <td>OTHER</td>\n",
       "      <td>2</td>\n",
       "      <td>8</td>\n",
       "      <td>10</td>\n",
       "      <td>0.000061</td>\n",
       "      <td>0.000049</td>\n",
       "      <td>0.765393</td>\n",
       "      <td>0.049914</td>\n",
       "    </tr>\n",
       "    <tr>\n",
       "      <th>3287</th>\n",
       "      <td>45592</td>\n",
       "      <td>Vancouver Island Health Authority</td>\n",
       "      <td>OTHER</td>\n",
       "      <td>2</td>\n",
       "      <td>8</td>\n",
       "      <td>10</td>\n",
       "      <td>0.000061</td>\n",
       "      <td>0.000049</td>\n",
       "      <td>0.765442</td>\n",
       "      <td>0.049935</td>\n",
       "    </tr>\n",
       "    <tr>\n",
       "      <th>3292</th>\n",
       "      <td>45192</td>\n",
       "      <td>University of Toledo Health Science Campus</td>\n",
       "      <td>OTHER</td>\n",
       "      <td>2</td>\n",
       "      <td>8</td>\n",
       "      <td>10</td>\n",
       "      <td>0.000061</td>\n",
       "      <td>0.000049</td>\n",
       "      <td>0.765491</td>\n",
       "      <td>0.049955</td>\n",
       "    </tr>\n",
       "    <tr>\n",
       "      <th>3302</th>\n",
       "      <td>38489</td>\n",
       "      <td>Sinovac Biotech Co., Ltd</td>\n",
       "      <td>INDUSTRY</td>\n",
       "      <td>2</td>\n",
       "      <td>8</td>\n",
       "      <td>10</td>\n",
       "      <td>0.000061</td>\n",
       "      <td>0.000049</td>\n",
       "      <td>0.765540</td>\n",
       "      <td>0.049976</td>\n",
       "    </tr>\n",
       "    <tr>\n",
       "      <th>3304</th>\n",
       "      <td>12262</td>\n",
       "      <td>Dr. Soetomo General Hospital</td>\n",
       "      <td>OTHER_GOV</td>\n",
       "      <td>2</td>\n",
       "      <td>8</td>\n",
       "      <td>10</td>\n",
       "      <td>0.000061</td>\n",
       "      <td>0.000049</td>\n",
       "      <td>0.765589</td>\n",
       "      <td>0.049997</td>\n",
       "    </tr>\n",
       "  </tbody>\n",
       "</table>\n",
       "<p>2416 rows × 10 columns</p>\n",
       "</div>"
      ],
      "text/plain": [
       "      index                                        name agency_class  \\\n",
       "1      3120                           Assiut University        OTHER   \n",
       "2      6057                            Cairo University        OTHER   \n",
       "3     29599         National Taiwan University Hospital        OTHER   \n",
       "4      3115     Assistance Publique - Hôpitaux de Paris        OTHER   \n",
       "5     26737                 M.D. Anderson Cancer Center        OTHER   \n",
       "...     ...                                         ...          ...   \n",
       "3284   4044            Bandırma Onyedi Eylül University        OTHER   \n",
       "3287  45592           Vancouver Island Health Authority        OTHER   \n",
       "3292  45192  University of Toledo Health Science Campus        OTHER   \n",
       "3302  38489                    Sinovac Biotech Co., Ltd     INDUSTRY   \n",
       "3304  12262                Dr. Soetomo General Hospital    OTHER_GOV   \n",
       "\n",
       "      collaborators  leads  study_involvement  study_involvement_percentage  \\\n",
       "1                32   2091               2123                      0.013026   \n",
       "2                68   1597               1665                      0.010216   \n",
       "3                63   1307               1370                      0.008406   \n",
       "4                63   1258               1321                      0.008105   \n",
       "5               103   1120               1223                      0.007504   \n",
       "...             ...    ...                ...                           ...   \n",
       "3284              2      8                 10                      0.000061   \n",
       "3287              2      8                 10                      0.000061   \n",
       "3292              2      8                 10                      0.000061   \n",
       "3302              2      8                 10                      0.000061   \n",
       "3304              2      8                 10                      0.000061   \n",
       "\n",
       "      lead_percentage  cumulative_lead_percentage     order  \n",
       "1            0.012830                    0.012830  0.000000  \n",
       "2            0.009799                    0.022629  0.000021  \n",
       "3            0.008019                    0.030648  0.000041  \n",
       "4            0.007719                    0.038367  0.000062  \n",
       "5            0.006872                    0.045239  0.000083  \n",
       "...               ...                         ...       ...  \n",
       "3284         0.000049                    0.765393  0.049914  \n",
       "3287         0.000049                    0.765442  0.049935  \n",
       "3292         0.000049                    0.765491  0.049955  \n",
       "3302         0.000049                    0.765540  0.049976  \n",
       "3304         0.000049                    0.765589  0.049997  \n",
       "\n",
       "[2416 rows x 10 columns]"
      ]
     },
     "execution_count": 591,
     "metadata": {},
     "output_type": "execute_result"
    }
   ],
   "source": [
    "sponsor_studies.loc[sponsor_studies['order'] <= 0.05]"
   ]
  },
  {
   "cell_type": "code",
   "execution_count": 593,
   "id": "997ce244-bbe5-4e47-a793-d70e6780fb44",
   "metadata": {},
   "outputs": [
    {
     "data": {
      "text/html": [
       "<div>\n",
       "<style scoped>\n",
       "    .dataframe tbody tr th:only-of-type {\n",
       "        vertical-align: middle;\n",
       "    }\n",
       "\n",
       "    .dataframe tbody tr th {\n",
       "        vertical-align: top;\n",
       "    }\n",
       "\n",
       "    .dataframe thead th {\n",
       "        text-align: right;\n",
       "    }\n",
       "</style>\n",
       "<table border=\"1\" class=\"dataframe\">\n",
       "  <thead>\n",
       "    <tr style=\"text-align: right;\">\n",
       "      <th></th>\n",
       "      <th>index</th>\n",
       "      <th>name</th>\n",
       "      <th>agency_class</th>\n",
       "      <th>collaborators</th>\n",
       "      <th>leads</th>\n",
       "      <th>study_involvement</th>\n",
       "      <th>study_involvement_percentage</th>\n",
       "      <th>lead_percentage</th>\n",
       "      <th>cumulative_lead_percentage</th>\n",
       "      <th>order</th>\n",
       "    </tr>\n",
       "  </thead>\n",
       "  <tbody>\n",
       "    <tr>\n",
       "      <th>1</th>\n",
       "      <td>3120</td>\n",
       "      <td>Assiut University</td>\n",
       "      <td>OTHER</td>\n",
       "      <td>32</td>\n",
       "      <td>2091</td>\n",
       "      <td>2123</td>\n",
       "      <td>0.013026</td>\n",
       "      <td>0.012830</td>\n",
       "      <td>0.012830</td>\n",
       "      <td>0.000000</td>\n",
       "    </tr>\n",
       "    <tr>\n",
       "      <th>2</th>\n",
       "      <td>6057</td>\n",
       "      <td>Cairo University</td>\n",
       "      <td>OTHER</td>\n",
       "      <td>68</td>\n",
       "      <td>1597</td>\n",
       "      <td>1665</td>\n",
       "      <td>0.010216</td>\n",
       "      <td>0.009799</td>\n",
       "      <td>0.022629</td>\n",
       "      <td>0.000021</td>\n",
       "    </tr>\n",
       "    <tr>\n",
       "      <th>3</th>\n",
       "      <td>29599</td>\n",
       "      <td>National Taiwan University Hospital</td>\n",
       "      <td>OTHER</td>\n",
       "      <td>63</td>\n",
       "      <td>1307</td>\n",
       "      <td>1370</td>\n",
       "      <td>0.008406</td>\n",
       "      <td>0.008019</td>\n",
       "      <td>0.030648</td>\n",
       "      <td>0.000041</td>\n",
       "    </tr>\n",
       "    <tr>\n",
       "      <th>4</th>\n",
       "      <td>3115</td>\n",
       "      <td>Assistance Publique - Hôpitaux de Paris</td>\n",
       "      <td>OTHER</td>\n",
       "      <td>63</td>\n",
       "      <td>1258</td>\n",
       "      <td>1321</td>\n",
       "      <td>0.008105</td>\n",
       "      <td>0.007719</td>\n",
       "      <td>0.038367</td>\n",
       "      <td>0.000062</td>\n",
       "    </tr>\n",
       "    <tr>\n",
       "      <th>5</th>\n",
       "      <td>26737</td>\n",
       "      <td>M.D. Anderson Cancer Center</td>\n",
       "      <td>OTHER</td>\n",
       "      <td>103</td>\n",
       "      <td>1120</td>\n",
       "      <td>1223</td>\n",
       "      <td>0.007504</td>\n",
       "      <td>0.006872</td>\n",
       "      <td>0.045239</td>\n",
       "      <td>0.000083</td>\n",
       "    </tr>\n",
       "    <tr>\n",
       "      <th>...</th>\n",
       "      <td>...</td>\n",
       "      <td>...</td>\n",
       "      <td>...</td>\n",
       "      <td>...</td>\n",
       "      <td>...</td>\n",
       "      <td>...</td>\n",
       "      <td>...</td>\n",
       "      <td>...</td>\n",
       "      <td>...</td>\n",
       "      <td>...</td>\n",
       "    </tr>\n",
       "    <tr>\n",
       "      <th>609</th>\n",
       "      <td>45085</td>\n",
       "      <td>University of Saskatchewan</td>\n",
       "      <td>OTHER</td>\n",
       "      <td>15</td>\n",
       "      <td>58</td>\n",
       "      <td>73</td>\n",
       "      <td>0.000448</td>\n",
       "      <td>0.000356</td>\n",
       "      <td>0.526663</td>\n",
       "      <td>0.009917</td>\n",
       "    </tr>\n",
       "    <tr>\n",
       "      <th>608</th>\n",
       "      <td>48123</td>\n",
       "      <td>Zhongshan Ophthalmic Center, Sun Yat-sen University</td>\n",
       "      <td>OTHER</td>\n",
       "      <td>15</td>\n",
       "      <td>58</td>\n",
       "      <td>73</td>\n",
       "      <td>0.000448</td>\n",
       "      <td>0.000356</td>\n",
       "      <td>0.527019</td>\n",
       "      <td>0.009937</td>\n",
       "    </tr>\n",
       "    <tr>\n",
       "      <th>703</th>\n",
       "      <td>20579</td>\n",
       "      <td>Institut du Cancer de Montpellier - Val d'Aurelle</td>\n",
       "      <td>OTHER</td>\n",
       "      <td>5</td>\n",
       "      <td>58</td>\n",
       "      <td>63</td>\n",
       "      <td>0.000387</td>\n",
       "      <td>0.000356</td>\n",
       "      <td>0.527375</td>\n",
       "      <td>0.009958</td>\n",
       "    </tr>\n",
       "    <tr>\n",
       "      <th>691</th>\n",
       "      <td>4694</td>\n",
       "      <td>Beni-Suef University</td>\n",
       "      <td>OTHER</td>\n",
       "      <td>6</td>\n",
       "      <td>58</td>\n",
       "      <td>64</td>\n",
       "      <td>0.000393</td>\n",
       "      <td>0.000356</td>\n",
       "      <td>0.527731</td>\n",
       "      <td>0.009979</td>\n",
       "    </tr>\n",
       "    <tr>\n",
       "      <th>585</th>\n",
       "      <td>37714</td>\n",
       "      <td>Shanghai Junshi Bioscience Co., Ltd.</td>\n",
       "      <td>OTHER</td>\n",
       "      <td>18</td>\n",
       "      <td>58</td>\n",
       "      <td>76</td>\n",
       "      <td>0.000466</td>\n",
       "      <td>0.000356</td>\n",
       "      <td>0.528086</td>\n",
       "      <td>0.009999</td>\n",
       "    </tr>\n",
       "  </tbody>\n",
       "</table>\n",
       "<p>484 rows × 10 columns</p>\n",
       "</div>"
      ],
      "text/plain": [
       "     index                                                 name agency_class  \\\n",
       "1     3120                                    Assiut University        OTHER   \n",
       "2     6057                                     Cairo University        OTHER   \n",
       "3    29599                  National Taiwan University Hospital        OTHER   \n",
       "4     3115              Assistance Publique - Hôpitaux de Paris        OTHER   \n",
       "5    26737                          M.D. Anderson Cancer Center        OTHER   \n",
       "..     ...                                                  ...          ...   \n",
       "609  45085                           University of Saskatchewan        OTHER   \n",
       "608  48123  Zhongshan Ophthalmic Center, Sun Yat-sen University        OTHER   \n",
       "703  20579    Institut du Cancer de Montpellier - Val d'Aurelle        OTHER   \n",
       "691   4694                                 Beni-Suef University        OTHER   \n",
       "585  37714                 Shanghai Junshi Bioscience Co., Ltd.        OTHER   \n",
       "\n",
       "     collaborators  leads  study_involvement  study_involvement_percentage  \\\n",
       "1               32   2091               2123                      0.013026   \n",
       "2               68   1597               1665                      0.010216   \n",
       "3               63   1307               1370                      0.008406   \n",
       "4               63   1258               1321                      0.008105   \n",
       "5              103   1120               1223                      0.007504   \n",
       "..             ...    ...                ...                           ...   \n",
       "609             15     58                 73                      0.000448   \n",
       "608             15     58                 73                      0.000448   \n",
       "703              5     58                 63                      0.000387   \n",
       "691              6     58                 64                      0.000393   \n",
       "585             18     58                 76                      0.000466   \n",
       "\n",
       "     lead_percentage  cumulative_lead_percentage     order  \n",
       "1           0.012830                    0.012830  0.000000  \n",
       "2           0.009799                    0.022629  0.000021  \n",
       "3           0.008019                    0.030648  0.000041  \n",
       "4           0.007719                    0.038367  0.000062  \n",
       "5           0.006872                    0.045239  0.000083  \n",
       "..               ...                         ...       ...  \n",
       "609         0.000356                    0.526663  0.009917  \n",
       "608         0.000356                    0.527019  0.009937  \n",
       "703         0.000356                    0.527375  0.009958  \n",
       "691         0.000356                    0.527731  0.009979  \n",
       "585         0.000356                    0.528086  0.009999  \n",
       "\n",
       "[484 rows x 10 columns]"
      ]
     },
     "execution_count": 593,
     "metadata": {},
     "output_type": "execute_result"
    }
   ],
   "source": [
    "sponsor_studies.loc[sponsor_studies['order'] <= 0.01]"
   ]
  },
  {
   "cell_type": "code",
   "execution_count": 610,
   "id": "54762d3e-47f3-4045-ae37-bc9338d8a555",
   "metadata": {},
   "outputs": [
    {
     "data": {
      "text/html": [
       "<div>\n",
       "<style scoped>\n",
       "    .dataframe tbody tr th:only-of-type {\n",
       "        vertical-align: middle;\n",
       "    }\n",
       "\n",
       "    .dataframe tbody tr th {\n",
       "        vertical-align: top;\n",
       "    }\n",
       "\n",
       "    .dataframe thead th {\n",
       "        text-align: right;\n",
       "    }\n",
       "</style>\n",
       "<table border=\"1\" class=\"dataframe\">\n",
       "  <thead>\n",
       "    <tr style=\"text-align: right;\">\n",
       "      <th></th>\n",
       "      <th>index</th>\n",
       "      <th>name</th>\n",
       "      <th>agency_class</th>\n",
       "      <th>collaborators</th>\n",
       "      <th>leads</th>\n",
       "      <th>study_involvement</th>\n",
       "      <th>study_involvement_percentage</th>\n",
       "      <th>lead_percentage</th>\n",
       "      <th>cumulative_lead_percentage</th>\n",
       "      <th>order</th>\n",
       "    </tr>\n",
       "  </thead>\n",
       "  <tbody>\n",
       "    <tr>\n",
       "      <th>1</th>\n",
       "      <td>3120</td>\n",
       "      <td>Assiut University</td>\n",
       "      <td>OTHER</td>\n",
       "      <td>32</td>\n",
       "      <td>2091</td>\n",
       "      <td>2123</td>\n",
       "      <td>0.013026</td>\n",
       "      <td>0.012830</td>\n",
       "      <td>0.012830</td>\n",
       "      <td>0.000000</td>\n",
       "    </tr>\n",
       "    <tr>\n",
       "      <th>2</th>\n",
       "      <td>6057</td>\n",
       "      <td>Cairo University</td>\n",
       "      <td>OTHER</td>\n",
       "      <td>68</td>\n",
       "      <td>1597</td>\n",
       "      <td>1665</td>\n",
       "      <td>0.010216</td>\n",
       "      <td>0.009799</td>\n",
       "      <td>0.022629</td>\n",
       "      <td>0.000021</td>\n",
       "    </tr>\n",
       "    <tr>\n",
       "      <th>3</th>\n",
       "      <td>29599</td>\n",
       "      <td>National Taiwan University Hospital</td>\n",
       "      <td>OTHER</td>\n",
       "      <td>63</td>\n",
       "      <td>1307</td>\n",
       "      <td>1370</td>\n",
       "      <td>0.008406</td>\n",
       "      <td>0.008019</td>\n",
       "      <td>0.030648</td>\n",
       "      <td>0.000041</td>\n",
       "    </tr>\n",
       "    <tr>\n",
       "      <th>4</th>\n",
       "      <td>3115</td>\n",
       "      <td>Assistance Publique - Hôpitaux de Paris</td>\n",
       "      <td>OTHER</td>\n",
       "      <td>63</td>\n",
       "      <td>1258</td>\n",
       "      <td>1321</td>\n",
       "      <td>0.008105</td>\n",
       "      <td>0.007719</td>\n",
       "      <td>0.038367</td>\n",
       "      <td>0.000062</td>\n",
       "    </tr>\n",
       "    <tr>\n",
       "      <th>5</th>\n",
       "      <td>26737</td>\n",
       "      <td>M.D. Anderson Cancer Center</td>\n",
       "      <td>OTHER</td>\n",
       "      <td>103</td>\n",
       "      <td>1120</td>\n",
       "      <td>1223</td>\n",
       "      <td>0.007504</td>\n",
       "      <td>0.006872</td>\n",
       "      <td>0.045239</td>\n",
       "      <td>0.000083</td>\n",
       "    </tr>\n",
       "    <tr>\n",
       "      <th>...</th>\n",
       "      <td>...</td>\n",
       "      <td>...</td>\n",
       "      <td>...</td>\n",
       "      <td>...</td>\n",
       "      <td>...</td>\n",
       "      <td>...</td>\n",
       "      <td>...</td>\n",
       "      <td>...</td>\n",
       "      <td>...</td>\n",
       "      <td>...</td>\n",
       "    </tr>\n",
       "    <tr>\n",
       "      <th>8716</th>\n",
       "      <td>17053</td>\n",
       "      <td>Guna S.p.a</td>\n",
       "      <td>INDUSTRY</td>\n",
       "      <td>0</td>\n",
       "      <td>3</td>\n",
       "      <td>3</td>\n",
       "      <td>0.000018</td>\n",
       "      <td>0.000018</td>\n",
       "      <td>0.841802</td>\n",
       "      <td>0.099911</td>\n",
       "    </tr>\n",
       "    <tr>\n",
       "      <th>6970</th>\n",
       "      <td>10183</td>\n",
       "      <td>Crozer-Keystone Health System</td>\n",
       "      <td>OTHER</td>\n",
       "      <td>1</td>\n",
       "      <td>3</td>\n",
       "      <td>4</td>\n",
       "      <td>0.000025</td>\n",
       "      <td>0.000018</td>\n",
       "      <td>0.841820</td>\n",
       "      <td>0.099932</td>\n",
       "    </tr>\n",
       "    <tr>\n",
       "      <th>6214</th>\n",
       "      <td>33916</td>\n",
       "      <td>PROCEPT BioRobotics</td>\n",
       "      <td>INDUSTRY</td>\n",
       "      <td>2</td>\n",
       "      <td>3</td>\n",
       "      <td>5</td>\n",
       "      <td>0.000031</td>\n",
       "      <td>0.000018</td>\n",
       "      <td>0.841839</td>\n",
       "      <td>0.099952</td>\n",
       "    </tr>\n",
       "    <tr>\n",
       "      <th>6146</th>\n",
       "      <td>36698</td>\n",
       "      <td>San Salvatore Hospital of L'Aquila</td>\n",
       "      <td>OTHER</td>\n",
       "      <td>2</td>\n",
       "      <td>3</td>\n",
       "      <td>5</td>\n",
       "      <td>0.000031</td>\n",
       "      <td>0.000018</td>\n",
       "      <td>0.841857</td>\n",
       "      <td>0.099973</td>\n",
       "    </tr>\n",
       "    <tr>\n",
       "      <th>8883</th>\n",
       "      <td>28215</td>\n",
       "      <td>MitoImmune Therapeutics</td>\n",
       "      <td>INDUSTRY</td>\n",
       "      <td>0</td>\n",
       "      <td>3</td>\n",
       "      <td>3</td>\n",
       "      <td>0.000018</td>\n",
       "      <td>0.000018</td>\n",
       "      <td>0.841875</td>\n",
       "      <td>0.099994</td>\n",
       "    </tr>\n",
       "  </tbody>\n",
       "</table>\n",
       "<p>4831 rows × 10 columns</p>\n",
       "</div>"
      ],
      "text/plain": [
       "      index                                     name agency_class  \\\n",
       "1      3120                        Assiut University        OTHER   \n",
       "2      6057                         Cairo University        OTHER   \n",
       "3     29599      National Taiwan University Hospital        OTHER   \n",
       "4      3115  Assistance Publique - Hôpitaux de Paris        OTHER   \n",
       "5     26737              M.D. Anderson Cancer Center        OTHER   \n",
       "...     ...                                      ...          ...   \n",
       "8716  17053                               Guna S.p.a     INDUSTRY   \n",
       "6970  10183            Crozer-Keystone Health System        OTHER   \n",
       "6214  33916                      PROCEPT BioRobotics     INDUSTRY   \n",
       "6146  36698       San Salvatore Hospital of L'Aquila        OTHER   \n",
       "8883  28215                  MitoImmune Therapeutics     INDUSTRY   \n",
       "\n",
       "      collaborators  leads  study_involvement  study_involvement_percentage  \\\n",
       "1                32   2091               2123                      0.013026   \n",
       "2                68   1597               1665                      0.010216   \n",
       "3                63   1307               1370                      0.008406   \n",
       "4                63   1258               1321                      0.008105   \n",
       "5               103   1120               1223                      0.007504   \n",
       "...             ...    ...                ...                           ...   \n",
       "8716              0      3                  3                      0.000018   \n",
       "6970              1      3                  4                      0.000025   \n",
       "6214              2      3                  5                      0.000031   \n",
       "6146              2      3                  5                      0.000031   \n",
       "8883              0      3                  3                      0.000018   \n",
       "\n",
       "      lead_percentage  cumulative_lead_percentage     order  \n",
       "1            0.012830                    0.012830  0.000000  \n",
       "2            0.009799                    0.022629  0.000021  \n",
       "3            0.008019                    0.030648  0.000041  \n",
       "4            0.007719                    0.038367  0.000062  \n",
       "5            0.006872                    0.045239  0.000083  \n",
       "...               ...                         ...       ...  \n",
       "8716         0.000018                    0.841802  0.099911  \n",
       "6970         0.000018                    0.841820  0.099932  \n",
       "6214         0.000018                    0.841839  0.099952  \n",
       "6146         0.000018                    0.841857  0.099973  \n",
       "8883         0.000018                    0.841875  0.099994  \n",
       "\n",
       "[4831 rows x 10 columns]"
      ]
     },
     "execution_count": 610,
     "metadata": {},
     "output_type": "execute_result"
    }
   ],
   "source": [
    "sponsor_studies.loc[sponsor_studies['order'] <= 0.1]"
   ]
  },
  {
   "cell_type": "code",
   "execution_count": 601,
   "id": "e147afa5-533b-47b4-a366-a0a902905954",
   "metadata": {},
   "outputs": [],
   "source": [
    "all_current_sponsors = sponsors.merge(current_status_studies)"
   ]
  },
  {
   "cell_type": "code",
   "execution_count": 608,
   "id": "2479ee54-bab2-46b1-ab64-bd5413ba039e",
   "metadata": {},
   "outputs": [
    {
     "data": {
      "text/plain": [
       "0.5878487412488725"
      ]
     },
     "execution_count": 608,
     "metadata": {},
     "output_type": "execute_result"
    }
   ],
   "source": [
    "all_current_sponsors.loc[all_current_sponsors.name.isin(sponsor_studies.loc[sponsor_studies['order'] <= 0.01].name.to_list())].nct_id.nunique()/current_status_studies.shape[0]"
   ]
  },
  {
   "cell_type": "code",
   "execution_count": 609,
   "id": "ca1ad470-3bd1-4808-a87a-ad3b1c0aa93b",
   "metadata": {},
   "outputs": [
    {
     "data": {
      "text/plain": [
       "0.878978273274471"
      ]
     },
     "execution_count": 609,
     "metadata": {},
     "output_type": "execute_result"
    }
   ],
   "source": [
    "all_current_sponsors.loc[all_current_sponsors.name.isin(sponsor_studies.loc[sponsor_studies['order'] <= 0.10].name.to_list())].nct_id.nunique()/current_status_studies.shape[0]"
   ]
  },
  {
   "cell_type": "code",
   "execution_count": 607,
   "id": "36f928f4-c8b4-4d6c-ab0b-f95752a5287b",
   "metadata": {},
   "outputs": [
    {
     "data": {
      "text/plain": [
       "162979"
      ]
     },
     "execution_count": 607,
     "metadata": {},
     "output_type": "execute_result"
    }
   ],
   "source": [
    "current_status_studies.shape[0]"
   ]
  },
  {
   "cell_type": "code",
   "execution_count": 588,
   "id": "4f5e55ba-5ff0-4626-a150-a02631c52070",
   "metadata": {},
   "outputs": [
    {
     "data": {
      "text/plain": [
       "(48303, 10)"
      ]
     },
     "execution_count": 588,
     "metadata": {},
     "output_type": "execute_result"
    }
   ],
   "source": [
    "sponsor_studies.shape"
   ]
  },
  {
   "cell_type": "code",
   "execution_count": 10,
   "id": "c2be521e-5bd9-465d-9fb0-66dbc00fed27",
   "metadata": {},
   "outputs": [],
   "source": [
    "# fig = px.line(sponsor_studies, x = 'order', y='cumulative_lead_percentage', hover_data=['name'])\n",
    "# fig.update_layout(xaxis_title='% of current study sponsors', yaxis_title='% of current study leads', title = 'Gini Distribution of Current Study Leads by Sponsor')\n",
    "# fig.show()"
   ]
  },
  {
   "cell_type": "code",
   "execution_count": 613,
   "id": "ee604320-acb0-4f57-af44-16d20b36dea8",
   "metadata": {},
   "outputs": [],
   "source": [
    "# fig = px.scatter(sponsor_studies.head(200), x='lead_percentage', y='study_involvement_percentage', hover_data=['name'])\n",
    "# fig.update_layout(yaxis_range=[0,0.08], xaxis_range = [0, 0.08])"
   ]
  },
  {
   "cell_type": "code",
   "execution_count": 526,
   "id": "c47d1402-8652-4e42-b3b8-c122e8cbb4a2",
   "metadata": {},
   "outputs": [
    {
     "data": {
      "text/plain": [
       "OTHER       77\n",
       "INDUSTRY    17\n",
       "NIH          3\n",
       "FED          2\n",
       "Name: agency_class, dtype: int64"
      ]
     },
     "execution_count": 526,
     "metadata": {},
     "output_type": "execute_result"
    }
   ],
   "source": [
    "sponsor_studies.head(100).agency_class.value_counts()"
   ]
  },
  {
   "cell_type": "code",
   "execution_count": 528,
   "id": "569c550f-a42c-412b-bab6-a63f5d2bf00a",
   "metadata": {},
   "outputs": [
    {
     "data": {
      "text/plain": [
       "1.0209781628307941"
      ]
     },
     "execution_count": 528,
     "metadata": {},
     "output_type": "execute_result"
    }
   ],
   "source": [
    "sponsor_studies.head(100).study_involvement_percentage.sum()"
   ]
  },
  {
   "cell_type": "code",
   "execution_count": null,
   "id": "ea278386-4768-4c38-9205-e853584a1985",
   "metadata": {},
   "outputs": [],
   "source": [
    "# growth?"
   ]
  },
  {
   "cell_type": "code",
   "execution_count": 490,
   "id": "44876d11-30f5-4b94-aba6-a3efe2ae7bf5",
   "metadata": {},
   "outputs": [
    {
     "name": "stderr",
     "output_type": "stream",
     "text": [
      "C:\\Users\\Bryant\\AppData\\Local\\Temp\\ipykernel_17172\\410416597.py:5: UserWarning:\n",
      "\n",
      "pandas only supports SQLAlchemy connectable (engine/connection) or database string URI or sqlite3 DBAPI2 connection. Other DBAPI2 objects are not tested. Please consider using SQLAlchemy.\n",
      "\n"
     ]
    }
   ],
   "source": [
    "query = \"\"\"select name, count(distinct agency_class) classes, array_agg(distinct agency_class) class_list from sponsors\n",
    "group by 1\n",
    "order by 2 desc\n",
    "\"\"\"\n",
    "sponsor_classes = pd.read_sql(query, connection)"
   ]
  },
  {
   "cell_type": "code",
   "execution_count": 487,
   "id": "1bea487b-31fc-479e-8507-60700caa7c16",
   "metadata": {},
   "outputs": [
    {
     "data": {
      "text/plain": [
       "1    81415\n",
       "2       39\n",
       "0        1\n",
       "Name: classes, dtype: int64"
      ]
     },
     "execution_count": 487,
     "metadata": {},
     "output_type": "execute_result"
    }
   ],
   "source": [
    "sponsor_classes.classes.value_counts()"
   ]
  },
  {
   "cell_type": "code",
   "execution_count": 491,
   "id": "09de9506-65a0-4ee1-8a02-9440598a28f4",
   "metadata": {},
   "outputs": [
    {
     "data": {
      "text/html": [
       "<div>\n",
       "<style scoped>\n",
       "    .dataframe tbody tr th:only-of-type {\n",
       "        vertical-align: middle;\n",
       "    }\n",
       "\n",
       "    .dataframe tbody tr th {\n",
       "        vertical-align: top;\n",
       "    }\n",
       "\n",
       "    .dataframe thead th {\n",
       "        text-align: right;\n",
       "    }\n",
       "</style>\n",
       "<table border=\"1\" class=\"dataframe\">\n",
       "  <thead>\n",
       "    <tr style=\"text-align: right;\">\n",
       "      <th></th>\n",
       "      <th>name</th>\n",
       "      <th>classes</th>\n",
       "      <th>class_list</th>\n",
       "    </tr>\n",
       "  </thead>\n",
       "  <tbody>\n",
       "    <tr>\n",
       "      <th>0</th>\n",
       "      <td>Daniela de Fátima Teixeira da Silva</td>\n",
       "      <td>2</td>\n",
       "      <td>[OTHER, UNKNOWN]</td>\n",
       "    </tr>\n",
       "    <tr>\n",
       "      <th>1</th>\n",
       "      <td>Anders Perner</td>\n",
       "      <td>2</td>\n",
       "      <td>[OTHER, UNKNOWN]</td>\n",
       "    </tr>\n",
       "    <tr>\n",
       "      <th>2</th>\n",
       "      <td>Cid André Fidelis de Paula Gomes</td>\n",
       "      <td>2</td>\n",
       "      <td>[OTHER, UNKNOWN]</td>\n",
       "    </tr>\n",
       "    <tr>\n",
       "      <th>3</th>\n",
       "      <td>Deok-Hwan Yang</td>\n",
       "      <td>2</td>\n",
       "      <td>[OTHER, UNKNOWN]</td>\n",
       "    </tr>\n",
       "    <tr>\n",
       "      <th>4</th>\n",
       "      <td>Catherine Bollard</td>\n",
       "      <td>2</td>\n",
       "      <td>[NIH, OTHER]</td>\n",
       "    </tr>\n",
       "    <tr>\n",
       "      <th>5</th>\n",
       "      <td>Clinvest</td>\n",
       "      <td>2</td>\n",
       "      <td>[INDIV, OTHER]</td>\n",
       "    </tr>\n",
       "    <tr>\n",
       "      <th>6</th>\n",
       "      <td>Anders Troelsen</td>\n",
       "      <td>2</td>\n",
       "      <td>[OTHER, UNKNOWN]</td>\n",
       "    </tr>\n",
       "    <tr>\n",
       "      <th>7</th>\n",
       "      <td>Basak Ceyda MECO</td>\n",
       "      <td>2</td>\n",
       "      <td>[OTHER, UNKNOWN]</td>\n",
       "    </tr>\n",
       "    <tr>\n",
       "      <th>8</th>\n",
       "      <td>Antonio Di Mauro</td>\n",
       "      <td>2</td>\n",
       "      <td>[OTHER, UNKNOWN]</td>\n",
       "    </tr>\n",
       "    <tr>\n",
       "      <th>9</th>\n",
       "      <td>Antoni Bayés Genís</td>\n",
       "      <td>2</td>\n",
       "      <td>[OTHER, UNKNOWN]</td>\n",
       "    </tr>\n",
       "    <tr>\n",
       "      <th>10</th>\n",
       "      <td>Ditte Hansen</td>\n",
       "      <td>2</td>\n",
       "      <td>[OTHER, UNKNOWN]</td>\n",
       "    </tr>\n",
       "    <tr>\n",
       "      <th>11</th>\n",
       "      <td>Centre for Contact Lens Research</td>\n",
       "      <td>2</td>\n",
       "      <td>[OTHER, UNKNOWN]</td>\n",
       "    </tr>\n",
       "    <tr>\n",
       "      <th>12</th>\n",
       "      <td>ClinAssess</td>\n",
       "      <td>2</td>\n",
       "      <td>[OTHER, UNKNOWN]</td>\n",
       "    </tr>\n",
       "    <tr>\n",
       "      <th>13</th>\n",
       "      <td>Jules Desmeules</td>\n",
       "      <td>2</td>\n",
       "      <td>[OTHER, UNKNOWN]</td>\n",
       "    </tr>\n",
       "    <tr>\n",
       "      <th>14</th>\n",
       "      <td>Marialuisa Gandolfi</td>\n",
       "      <td>2</td>\n",
       "      <td>[OTHER, UNKNOWN]</td>\n",
       "    </tr>\n",
       "    <tr>\n",
       "      <th>15</th>\n",
       "      <td>Haiyun Wang</td>\n",
       "      <td>2</td>\n",
       "      <td>[OTHER, UNKNOWN]</td>\n",
       "    </tr>\n",
       "    <tr>\n",
       "      <th>16</th>\n",
       "      <td>Kirill Gromov</td>\n",
       "      <td>2</td>\n",
       "      <td>[OTHER, UNKNOWN]</td>\n",
       "    </tr>\n",
       "    <tr>\n",
       "      <th>17</th>\n",
       "      <td>Mark Vander Weg</td>\n",
       "      <td>2</td>\n",
       "      <td>[FED, OTHER]</td>\n",
       "    </tr>\n",
       "    <tr>\n",
       "      <th>18</th>\n",
       "      <td>LUCIANA MARIA MALOSA SAMPAIO</td>\n",
       "      <td>2</td>\n",
       "      <td>[OTHER, UNKNOWN]</td>\n",
       "    </tr>\n",
       "    <tr>\n",
       "      <th>19</th>\n",
       "      <td>Ghada Mohammed AboelFadl</td>\n",
       "      <td>2</td>\n",
       "      <td>[OTHER, UNKNOWN]</td>\n",
       "    </tr>\n",
       "    <tr>\n",
       "      <th>20</th>\n",
       "      <td>Maria Isabel Toulson Davisson Correia</td>\n",
       "      <td>2</td>\n",
       "      <td>[OTHER, UNKNOWN]</td>\n",
       "    </tr>\n",
       "    <tr>\n",
       "      <th>21</th>\n",
       "      <td>Lisette Nixon</td>\n",
       "      <td>2</td>\n",
       "      <td>[OTHER, OTHER_GOV]</td>\n",
       "    </tr>\n",
       "    <tr>\n",
       "      <th>22</th>\n",
       "      <td>Lene Holmvang</td>\n",
       "      <td>2</td>\n",
       "      <td>[OTHER, UNKNOWN]</td>\n",
       "    </tr>\n",
       "    <tr>\n",
       "      <th>23</th>\n",
       "      <td>Infectious Diseases Institute</td>\n",
       "      <td>2</td>\n",
       "      <td>[OTHER, UNKNOWN]</td>\n",
       "    </tr>\n",
       "    <tr>\n",
       "      <th>24</th>\n",
       "      <td>Hanjong Ahn</td>\n",
       "      <td>2</td>\n",
       "      <td>[OTHER, UNKNOWN]</td>\n",
       "    </tr>\n",
       "    <tr>\n",
       "      <th>25</th>\n",
       "      <td>Yasemin Çırak</td>\n",
       "      <td>2</td>\n",
       "      <td>[OTHER, UNKNOWN]</td>\n",
       "    </tr>\n",
       "    <tr>\n",
       "      <th>26</th>\n",
       "      <td>Yongjian Wu</td>\n",
       "      <td>2</td>\n",
       "      <td>[OTHER, OTHER_GOV]</td>\n",
       "    </tr>\n",
       "    <tr>\n",
       "      <th>27</th>\n",
       "      <td>Wen-zhao ZHONG</td>\n",
       "      <td>2</td>\n",
       "      <td>[OTHER, UNKNOWN]</td>\n",
       "    </tr>\n",
       "    <tr>\n",
       "      <th>28</th>\n",
       "      <td>Uri Zilberman</td>\n",
       "      <td>2</td>\n",
       "      <td>[OTHER, UNKNOWN]</td>\n",
       "    </tr>\n",
       "    <tr>\n",
       "      <th>29</th>\n",
       "      <td>Timothy Smith</td>\n",
       "      <td>2</td>\n",
       "      <td>[OTHER, OTHER_GOV]</td>\n",
       "    </tr>\n",
       "    <tr>\n",
       "      <th>30</th>\n",
       "      <td>Youssef Daali</td>\n",
       "      <td>2</td>\n",
       "      <td>[OTHER, UNKNOWN]</td>\n",
       "    </tr>\n",
       "    <tr>\n",
       "      <th>31</th>\n",
       "      <td>Robert W. Alexander, MD, FICS</td>\n",
       "      <td>2</td>\n",
       "      <td>[INDUSTRY, UNKNOWN]</td>\n",
       "    </tr>\n",
       "    <tr>\n",
       "      <th>32</th>\n",
       "      <td>Nicolai Goettel</td>\n",
       "      <td>2</td>\n",
       "      <td>[OTHER, UNKNOWN]</td>\n",
       "    </tr>\n",
       "    <tr>\n",
       "      <th>33</th>\n",
       "      <td>Stefania Basili</td>\n",
       "      <td>2</td>\n",
       "      <td>[OTHER, UNKNOWN]</td>\n",
       "    </tr>\n",
       "    <tr>\n",
       "      <th>34</th>\n",
       "      <td>Qi Zhou</td>\n",
       "      <td>2</td>\n",
       "      <td>[OTHER, OTHER_GOV]</td>\n",
       "    </tr>\n",
       "    <tr>\n",
       "      <th>35</th>\n",
       "      <td>Moens Maarten</td>\n",
       "      <td>2</td>\n",
       "      <td>[OTHER, UNKNOWN]</td>\n",
       "    </tr>\n",
       "    <tr>\n",
       "      <th>36</th>\n",
       "      <td>Ranjana Advani</td>\n",
       "      <td>2</td>\n",
       "      <td>[OTHER, UNKNOWN]</td>\n",
       "    </tr>\n",
       "    <tr>\n",
       "      <th>37</th>\n",
       "      <td>Seda Yilmaz Semerci</td>\n",
       "      <td>2</td>\n",
       "      <td>[OTHER, UNKNOWN]</td>\n",
       "    </tr>\n",
       "    <tr>\n",
       "      <th>38</th>\n",
       "      <td>Philippe Terrier</td>\n",
       "      <td>2</td>\n",
       "      <td>[NETWORK, OTHER]</td>\n",
       "    </tr>\n",
       "  </tbody>\n",
       "</table>\n",
       "</div>"
      ],
      "text/plain": [
       "                                     name  classes           class_list\n",
       "0     Daniela de Fátima Teixeira da Silva        2     [OTHER, UNKNOWN]\n",
       "1                           Anders Perner        2     [OTHER, UNKNOWN]\n",
       "2        Cid André Fidelis de Paula Gomes        2     [OTHER, UNKNOWN]\n",
       "3                          Deok-Hwan Yang        2     [OTHER, UNKNOWN]\n",
       "4                       Catherine Bollard        2         [NIH, OTHER]\n",
       "5                                Clinvest        2       [INDIV, OTHER]\n",
       "6                         Anders Troelsen        2     [OTHER, UNKNOWN]\n",
       "7                        Basak Ceyda MECO        2     [OTHER, UNKNOWN]\n",
       "8                        Antonio Di Mauro        2     [OTHER, UNKNOWN]\n",
       "9                      Antoni Bayés Genís        2     [OTHER, UNKNOWN]\n",
       "10                           Ditte Hansen        2     [OTHER, UNKNOWN]\n",
       "11       Centre for Contact Lens Research        2     [OTHER, UNKNOWN]\n",
       "12                             ClinAssess        2     [OTHER, UNKNOWN]\n",
       "13                        Jules Desmeules        2     [OTHER, UNKNOWN]\n",
       "14                    Marialuisa Gandolfi        2     [OTHER, UNKNOWN]\n",
       "15                            Haiyun Wang        2     [OTHER, UNKNOWN]\n",
       "16                          Kirill Gromov        2     [OTHER, UNKNOWN]\n",
       "17                        Mark Vander Weg        2         [FED, OTHER]\n",
       "18           LUCIANA MARIA MALOSA SAMPAIO        2     [OTHER, UNKNOWN]\n",
       "19               Ghada Mohammed AboelFadl        2     [OTHER, UNKNOWN]\n",
       "20  Maria Isabel Toulson Davisson Correia        2     [OTHER, UNKNOWN]\n",
       "21                          Lisette Nixon        2   [OTHER, OTHER_GOV]\n",
       "22                          Lene Holmvang        2     [OTHER, UNKNOWN]\n",
       "23          Infectious Diseases Institute        2     [OTHER, UNKNOWN]\n",
       "24                            Hanjong Ahn        2     [OTHER, UNKNOWN]\n",
       "25                          Yasemin Çırak        2     [OTHER, UNKNOWN]\n",
       "26                            Yongjian Wu        2   [OTHER, OTHER_GOV]\n",
       "27                         Wen-zhao ZHONG        2     [OTHER, UNKNOWN]\n",
       "28                          Uri Zilberman        2     [OTHER, UNKNOWN]\n",
       "29                          Timothy Smith        2   [OTHER, OTHER_GOV]\n",
       "30                          Youssef Daali        2     [OTHER, UNKNOWN]\n",
       "31          Robert W. Alexander, MD, FICS        2  [INDUSTRY, UNKNOWN]\n",
       "32                        Nicolai Goettel        2     [OTHER, UNKNOWN]\n",
       "33                        Stefania Basili        2     [OTHER, UNKNOWN]\n",
       "34                                Qi Zhou        2   [OTHER, OTHER_GOV]\n",
       "35                          Moens Maarten        2     [OTHER, UNKNOWN]\n",
       "36                         Ranjana Advani        2     [OTHER, UNKNOWN]\n",
       "37                    Seda Yilmaz Semerci        2     [OTHER, UNKNOWN]\n",
       "38                       Philippe Terrier        2     [NETWORK, OTHER]"
      ]
     },
     "execution_count": 491,
     "metadata": {},
     "output_type": "execute_result"
    }
   ],
   "source": [
    "sponsor_classes.loc[sponsor_classes.classes == 2]"
   ]
  },
  {
   "cell_type": "code",
   "execution_count": 150,
   "id": "57707fe3-52e0-4c80-90c8-9e866d21ad44",
   "metadata": {},
   "outputs": [
    {
     "data": {
      "text/plain": [
       "OTHER        438380\n",
       "INDUSTRY     150085\n",
       "NIH           39775\n",
       "UNKNOWN       39272\n",
       "OTHER_GOV     24336\n",
       "FED            9156\n",
       "NETWORK        6305\n",
       "INDIV           723\n",
       "AMBIG            66\n",
       "Name: agency_class, dtype: int64"
      ]
     },
     "execution_count": 150,
     "metadata": {},
     "output_type": "execute_result"
    }
   ],
   "source": [
    "sponsors.agency_class.value_counts()"
   ]
  },
  {
   "cell_type": "code",
   "execution_count": 151,
   "id": "18bfca8f-53b3-4870-898b-75737a97b4ca",
   "metadata": {},
   "outputs": [
    {
     "data": {
      "text/plain": [
       "lead            441919\n",
       "collaborator    267018\n",
       "Name: lead_or_collaborator, dtype: int64"
      ]
     },
     "execution_count": 151,
     "metadata": {},
     "output_type": "execute_result"
    }
   ],
   "source": [
    "sponsors.lead_or_collaborator.value_counts()"
   ]
  },
  {
   "cell_type": "code",
   "execution_count": 146,
   "id": "1d11b30d-4899-4afa-98fb-5a7bf2679fd0",
   "metadata": {},
   "outputs": [
    {
     "data": {
      "text/html": [
       "<div>\n",
       "<style scoped>\n",
       "    .dataframe tbody tr th:only-of-type {\n",
       "        vertical-align: middle;\n",
       "    }\n",
       "\n",
       "    .dataframe tbody tr th {\n",
       "        vertical-align: top;\n",
       "    }\n",
       "\n",
       "    .dataframe thead th {\n",
       "        text-align: right;\n",
       "    }\n",
       "</style>\n",
       "<table border=\"1\" class=\"dataframe\">\n",
       "  <thead>\n",
       "    <tr style=\"text-align: right;\">\n",
       "      <th></th>\n",
       "      <th>id</th>\n",
       "      <th>nct_id</th>\n",
       "      <th>agency_class</th>\n",
       "      <th>lead_or_collaborator</th>\n",
       "      <th>name</th>\n",
       "    </tr>\n",
       "  </thead>\n",
       "  <tbody>\n",
       "  </tbody>\n",
       "</table>\n",
       "</div>"
      ],
      "text/plain": [
       "Empty DataFrame\n",
       "Columns: [id, nct_id, agency_class, lead_or_collaborator, name]\n",
       "Index: []"
      ]
     },
     "execution_count": 146,
     "metadata": {},
     "output_type": "execute_result"
    }
   ],
   "source": [
    "sponsors.loc[sponsors.nct_id.isnull()]"
   ]
  },
  {
   "cell_type": "markdown",
   "id": "c8b87be1-d576-4999-9111-542e3001e0d0",
   "metadata": {},
   "source": [
    "All sponsors listed must tie to a study (foreign key). Can't identify emerging sponsor with no NCT studies."
   ]
  },
  {
   "cell_type": "code",
   "execution_count": null,
   "id": "0ce5c505-8894-4455-b65f-b5b9b1f72c7c",
   "metadata": {},
   "outputs": [],
   "source": [
    "# new sponsors by year"
   ]
  },
  {
   "cell_type": "markdown",
   "id": "f3f62ca1-ad0f-408d-a160-fc3266b7d78a",
   "metadata": {},
   "source": [
    "# Business Questions\n",
    "\n",
    "- more studies using medidata software -> more revenue\n",
    "- what part of study cycle does software usually get purchased - prior or during?\n",
    "- what is revenue proportional to? duration of study? one-time contract fee? success of trial?\n",
    "- compete against other vendors\n",
    "- license strucure\n",
    "\n",
    "\n",
    "Number of participants in study, does that govern sales at all, study scale\n",
    "study frequency"
   ]
  }
 ],
 "metadata": {
  "kernelspec": {
   "display_name": "Python 3 (ipykernel)",
   "language": "python",
   "name": "python3"
  },
  "language_info": {
   "codemirror_mode": {
    "name": "ipython",
    "version": 3
   },
   "file_extension": ".py",
   "mimetype": "text/x-python",
   "name": "python",
   "nbconvert_exporter": "python",
   "pygments_lexer": "ipython3",
   "version": "3.8.8"
  }
 },
 "nbformat": 4,
 "nbformat_minor": 5
}
